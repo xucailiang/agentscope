{
  "cells": [
    {
      "cell_type": "markdown",
      "metadata": {},
      "source": [
        "\n\n# Agent Hooks\n\nHooks are extension points in AgentScope that allow developers to customize agent behaviors at specific execution points, providing a flexible way to modify or extend the agent's functionality without changing its core implementation.\n\nIn AgentScope, hooks are implemented around the agent's core functions:\n\n\n.. list-table:: Supported hook types in AgentScope\n    :header-rows: 1\n\n    * - Agent Class\n      - Core Function\n      - Hook Types\n      - Description\n    * - | ``AgentBase`` &\n        | its child classes\n      - ``reply``\n      - | ``pre_reply``\n        | ``post_reply``\n      - The hooks before/after agent replying to a message\n    * -\n      - ``print``\n      - | ``pre_print``\n        | ``post_print``\n      - The hook before/after printing a message to the target output (e.g., terminal, web interface)\n    * -\n      - ``observe``\n      - | ``pre_observe``\n        | ``post_observe``\n      - The hooks before/after observing a message from the environment or other agents\n    * - | ``ReActAgentBase`` &\n        | its child classes\n      - | ``reply``\n        | ``print``\n        | ``observe``\n      - | ``pre_reply``\n        | ``post_reply``\n        | ``pre_print``\n        | ``post_print``\n        | ``pre_observe``\n        | ``post_observe``\n      -\n    * -\n      - ``_reasoning``\n      - | ``pre_reasoning``\n        | ``post_reasoning``\n      - The hooks before/after the agent's reasoning process\n    * -\n      - ``_acting``\n      - | ``pre_acting``\n        | ``post_acting``\n      - The hooks before/after the agent's acting process\n\n.. tip:: Since hooks in AgentScope are implemented using a metaclass, they support inheritance.\n\nTo simplify the usage, AgentScope provides unified signatures for all hooks.\n"
      ]
    },
    {
      "cell_type": "code",
      "execution_count": null,
      "metadata": {
        "collapsed": false
      },
      "outputs": [],
      "source": [
        "import asyncio\nfrom typing import Any, Type\n\nfrom agentscope.agent import ReActAgentBase, AgentBase\nfrom agentscope.message import Msg"
      ]
    },
    {
      "cell_type": "markdown",
      "metadata": {},
      "source": [
        "## Hook Signature\n\nAgentScope provides unified hook signatures for all pre- and post-hooks as follows:\n\n**Pre-Hook Signature**\n\n.. list-table:: The signature of all pre-hooks\n  :header-rows: 1\n\n  * -\n    - Name\n    - Description\n  * - Arguments\n    - ``self: AgentBase | ReActAgentBase``\n    - The agent instance\n  * -\n    - ``kwargs: dict[str, Any]``\n    - | The input arguments of the target\n      | function, or the modified arguments\n      | from the most recent non-None return\n      | value of previous hooks\n  * - Returns\n    - ``dict[str, Any] | None``\n    - The modified arguments or None\n\n<div class=\"alert alert-info\"><h4>Note</h4><p>All positional arguments and keyword arguments of the core function are passed as a single ``kwargs`` dict to the hook functions</p></div>\n\nA pre-hook template is defined as follows:\n\n\n"
      ]
    },
    {
      "cell_type": "code",
      "execution_count": null,
      "metadata": {
        "collapsed": false
      },
      "outputs": [],
      "source": [
        "def pre_hook_template(\n    self: AgentBase | ReActAgentBase,\n    kwargs: dict[str, Any],\n) -> dict[str, Any] | None:  # The modified displayed message\n    \"\"\"Pre hook template.\"\"\"\n    pass"
      ]
    },
    {
      "cell_type": "markdown",
      "metadata": {},
      "source": [
        "**Post-Hook Signature**\n\nFor post hooks, an additional ``output`` argument is added to the signature, which represents the output of the target function.\nIf the core function has no output, the ``output`` argument will be ``None``.\n\n.. list-table:: The signature of all post-hooks\n  :header-rows: 1\n\n  * -\n    - Name\n    - Description\n  * - Arguments\n    - ``self: AgentBase | ReActAgentBase``\n    - The agent instance\n  * -\n    - ``kwargs: dict[str, Any]``\n    - | A dict that contains all the arguments\n      | of the target function\n  * -\n    - ``output: Any``\n    - | The output of the target function or\n      | the most recent non-None return value\n      | from previous hooks\n  * - Returns\n    - ``dict[str, Any] | None``\n    - The modified arguments or None\n\n\n"
      ]
    },
    {
      "cell_type": "code",
      "execution_count": null,
      "metadata": {
        "collapsed": false
      },
      "outputs": [],
      "source": [
        "def post_hook_template(\n    self: AgentBase | ReActAgentBase,\n    kwargs: dict[str, Any],\n    output: Any,  # The output of the target function\n) -> Any:  # The modified output\n    \"\"\"Post hook template.\"\"\"\n    pass"
      ]
    },
    {
      "cell_type": "markdown",
      "metadata": {},
      "source": [
        "## Hook Management\n\nAgentScope provides both instance- and class-level hooks, depending on the effective scope of the hooks.\nThey execute in the following order:\n\n<img src=\"file://../../_static/images/sequential_hook.png\" width=\"90%\" align=\"center\" alt=\"Hooks in AgentScope\" class=\"bordered-image\">\n\nAgentScope provides built-in methods to manage hooks at both instance and class levels as follows:\n\n.. list-table:: Hook management methods in AgentScope\n  :header-rows: 1\n\n  * - Level\n    - Method\n    - Description\n  * - Instance-level\n    - ``register_instance_hook``\n    - | Register a hook for the current object with\n      | given hook type and name.\n  * -\n    - ``remove_instance_hook``\n    - | Remove a hook for the current object with\n      | given hook type and name.\n  * -\n    - ``clear_instance_hooks``\n    - | Clear all hooks for the current object with\n      | given hook type.\n  * - Class-level\n    - ``register_class_hook``\n    - | Register a hook for all objects of the class\n      | with given hook type and name.\n  * -\n    - ``remove_class_hook``\n    - | Remove a hook for all objects of the class\n      | with given hook type and name.\n  * -\n    - ``clear_class_hooks``\n    - | Clear all hooks for all objects of the\n      | class with given hook type.\n\nWhen using hooks, you MUST follow these rules:\n\n.. important:: **Execution Order**\n\n - Hooks are executed in registration order\n - Multiple hooks can be chained together\n **Return Value Handling**\n\n - For pre-hooks: Non-None return values are passed to the next hook or core function\n  - When a hook returns None, the next hook will use the most recent non-None return value from previous hooks\n  - If all previous hooks return None, the next hook receives a copy of the original arguments\n  - The final non-None return value (or original arguments if all hooks return None) is passed to the core function\n - For post-hooks: Works the same way as pre-hooks.\n **Important**: Never call the core function (reply/speak/observe/_reasoning/_acting) within a hook to avoid infinite loops\n\nTaking the following agent as an example, we can see how to register, remove and clear hooks:\n\n\n"
      ]
    },
    {
      "cell_type": "code",
      "execution_count": null,
      "metadata": {
        "collapsed": false
      },
      "outputs": [],
      "source": [
        "# Create a simple test agent class\nclass TestAgent(AgentBase):\n    \"\"\"A test agent for demonstrating hooks.\"\"\"\n\n    async def reply(self, msg: Msg) -> Msg:\n        \"\"\"Reply to the message.\"\"\"\n        return msg"
      ]
    },
    {
      "cell_type": "markdown",
      "metadata": {},
      "source": [
        "We create an instance-level hook and a class-level hook to modify the message content before replying.\n\n\n"
      ]
    },
    {
      "cell_type": "code",
      "execution_count": null,
      "metadata": {
        "collapsed": false
      },
      "outputs": [],
      "source": [
        "# Create two pre-reply hooks\ndef instance_pre_reply_hook(\n    self: AgentBase,\n    kwargs: dict[str, Any],\n) -> dict[str, Any]:\n    \"\"\"A pre-reply hook that modifies the message content.\"\"\"\n    msg = kwargs[\"msg\"]\n    msg.content += \"[instance-pre-reply]\"\n    # return modified kwargs\n    return {\n        **kwargs,\n        \"msg\": msg,\n    }\n\n\ndef cls_pre_reply_hook(\n    self: AgentBase,\n    kwargs: dict[str, Any],\n) -> dict[str, Any]:\n    \"\"\"A pre-reply hook that modifies the message content.\"\"\"\n    msg = kwargs[\"msg\"]\n    msg.content += \"[cls-pre-reply]\"\n    # return modified kwargs\n    return {\n        **kwargs,\n        \"msg\": msg,\n    }\n\n\n# Register class hook\nTestAgent.register_class_hook(\n    hook_type=\"pre_reply\",\n    hook_name=\"test_pre_reply\",\n    hook=cls_pre_reply_hook,\n)\n\n# Register instance hook\nagent = TestAgent()\nagent.register_instance_hook(\n    hook_type=\"pre_reply\",\n    hook_name=\"test_pre_reply\",\n    hook=instance_pre_reply_hook,\n)\n\n\nasync def example_test_hook() -> None:\n    \"\"\"An example function to test the hooks.\"\"\"\n    msg = Msg(\n        name=\"user\",\n        content=\"Hello, world!\",\n        role=\"user\",\n    )\n    res = await agent(msg)\n    print(\"Response content:\", res.content)\n    TestAgent.clear_class_hooks()\n\n\nasyncio.run(example_test_hook())"
      ]
    },
    {
      "cell_type": "markdown",
      "metadata": {},
      "source": [
        "We can see that a \"[instance-pre-reply]\" and a \"[cls-pre-reply]\" are added to the message content.\n\n\n"
      ]
    }
  ],
  "metadata": {
    "kernelspec": {
      "display_name": "Python 3",
      "language": "python",
      "name": "python3"
    },
    "language_info": {
      "codemirror_mode": {
        "name": "ipython",
        "version": 3
      },
      "file_extension": ".py",
      "mimetype": "text/x-python",
      "name": "python",
      "nbconvert_exporter": "python",
      "pygments_lexer": "ipython3",
      "version": "3.10.19"
    }
  },
  "nbformat": 4,
  "nbformat_minor": 0
}