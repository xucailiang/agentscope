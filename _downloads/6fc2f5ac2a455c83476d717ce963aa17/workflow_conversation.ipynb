{
  "cells": [
    {
      "cell_type": "markdown",
      "metadata": {},
      "source": [
        "\n\n# Conversation\n\nConversation is a design pattern that agents exchange and share information\nbetween each other, most commonly in game playing, chatbot, and multi-agent\ndiscussion scenarios.\n\nIn AgentScope, the conversation is built upon the **explicit message\nexchange**. In this tutorial, we will demonstrate how to build a conversation\n\n- between a user and an agent (chatbot)\n- between multiple agents (game playing, discussion, etc.)\n\nTheir main difference lies in\n\n- how the **prompt is constructed**, and\n- how the information is **propagated/shared** among agents.\n"
      ]
    },
    {
      "cell_type": "code",
      "execution_count": null,
      "metadata": {
        "collapsed": false
      },
      "outputs": [],
      "source": [
        "import asyncio\nimport json\nimport os\n\nfrom agentscope.agent import ReActAgent, UserAgent\nfrom agentscope.memory import InMemoryMemory\nfrom agentscope.formatter import (\n    DashScopeChatFormatter,\n    DashScopeMultiAgentFormatter,\n)\nfrom agentscope.model import DashScopeChatModel\nfrom agentscope.message import Msg\nfrom agentscope.pipeline import MsgHub\nfrom agentscope.tool import Toolkit"
      ]
    },
    {
      "cell_type": "markdown",
      "metadata": {},
      "source": [
        "## User-Agent Conversation\nUser-agent conversation, also known as chatbot, is the most common usage\nscenario of LLM-empowered agents, and the design target of most LLM APIs.\nSuch conversation features only two participants: a user and an agent.\n\nIn AgentScope, the formatters with **\"Chat\"** in its name are designed for\nuser-agent conversation, such as ``DashScopeChatFormatter``,\n``AnthropicChatFormatter``, etc.\nThey use the ``role`` field in the message to distinguish the user and the\nagent, and format the messages accordingly.\n\nHere we build a simple conversation between agent ``Friday`` and user.\n\n.. tip:: AgentScope provides a built-in ``UserAgent`` class for human-in-the-loop (HITL) interaction. Refer to `user-agent` for more details.\n\n\n"
      ]
    },
    {
      "cell_type": "code",
      "execution_count": null,
      "metadata": {
        "collapsed": false
      },
      "outputs": [],
      "source": [
        "friday = ReActAgent(\n    name=\"Friday\",\n    sys_prompt=\"You're a helpful assistant named Friday\",\n    model=DashScopeChatModel(\n        model_name=\"qwen-max\",\n        api_key=os.environ[\"DASHSCOPE_API_KEY\"],\n    ),\n    formatter=DashScopeChatFormatter(),  # The formatter for user-agent conversation\n    memory=InMemoryMemory(),\n    toolkit=Toolkit(),\n)\n\n# Create a user agent\nuser = UserAgent(name=\"User\")"
      ]
    },
    {
      "cell_type": "markdown",
      "metadata": {},
      "source": [
        "Now, we can program the conversation by exchanging messages between these two agents until the user types \"exit\" to end the conversation.\n\n```python\nasync def run_conversation() -> None:\n    \"\"\"Run a simple conversation between Friday and User.\"\"\"\n    msg = None\n    while True:\n        msg = await friday(msg)\n        msg = await user(msg)\n        if msg.get_text_content() == \"exit\":\n            break\n\nasyncio.run(run_conversation())\n```\n"
      ]
    },
    {
      "cell_type": "markdown",
      "metadata": {},
      "source": [
        "## More than Two Agents\nAs stated in the beginning, we demonstrate how to build conversation with multiple agents in terms of **prompt construction** and **information sharing**.\n\n### Prompt Construction\nIn AgentScope, we provide built-in formatters for multi-agent conversation, featuring **\"MultiAgent\"** in their names, such as ``DashScopeMultiAgentFormatter``, ``AnthropicMultiAgentFormatter``, etc.\n\nSpecifically, they use the ``name`` field in the message to distinguish different agents, and format the conversation history into a single user message.\nTaking ``DashScopeMultiAgentFormatter`` as an example:\n\n.. tip:: More details about the formatter can be found in `prompt`.\n\n\n"
      ]
    },
    {
      "cell_type": "code",
      "execution_count": null,
      "metadata": {
        "collapsed": false
      },
      "outputs": [],
      "source": [
        "async def example_multi_agent_prompt() -> None:\n    msgs = [\n        Msg(\"system\", \"You're a helpful assistant named Bob.\", \"system\"),\n        Msg(\"Alice\", \"Hi!\", \"user\"),\n        Msg(\"Bob\", \"Hi! Nice to meet you guys.\", \"assistant\"),\n        Msg(\"Charlie\", \"Me too! I'm Charlie, by the way.\", \"assistant\"),\n    ]\n\n    formatter = DashScopeMultiAgentFormatter()\n    prompt = await formatter.format(msgs)\n\n    print(\"Formatted prompt:\")\n    print(json.dumps(prompt, indent=4, ensure_ascii=False))\n\n    # We print the content of the combined user message here for better\n    # understanding:\n    print(\"-------------\")\n    print(\"Combined message\")\n    print(prompt[1][\"content\"])\n\n\nasyncio.run(example_multi_agent_prompt())"
      ]
    },
    {
      "cell_type": "markdown",
      "metadata": {},
      "source": [
        "### Message Sharing\nIn multi-agent conversation, exchanging messages explicitly may not be efficient and convenient, especially when broadcasting messages among multiple agents.\n\nTherefore, AgentScope provides an async context manager named ``MsgHub`` to simplify the operation of broadcasting messages.\nSpecifically, the agents within the same ``MsgHub`` will receive messages from other participants in the same ``MsgHub`` automatically.\n\n\n"
      ]
    },
    {
      "cell_type": "code",
      "execution_count": null,
      "metadata": {
        "collapsed": false
      },
      "outputs": [],
      "source": [
        "model = DashScopeChatModel(\n    model_name=\"qwen-max\",\n    api_key=os.environ[\"DASHSCOPE_API_KEY\"],\n)\nformatter = DashScopeMultiAgentFormatter()\n\nalice = ReActAgent(\n    name=\"Alice\",\n    sys_prompt=\"You're a student named Alice.\",\n    model=model,\n    formatter=formatter,\n    toolkit=Toolkit(),\n    memory=InMemoryMemory(),\n)\n\nbob = ReActAgent(\n    name=\"Bob\",\n    sys_prompt=\"You're a student named Bob.\",\n    model=model,\n    formatter=formatter,\n    toolkit=Toolkit(),\n    memory=InMemoryMemory(),\n)\n\ncharlie = ReActAgent(\n    name=\"Charlie\",\n    sys_prompt=\"You're a student named Charlie.\",\n    model=model,\n    formatter=formatter,\n    toolkit=Toolkit(),\n    memory=InMemoryMemory(),\n)\n\n\nasync def example_msghub() -> None:\n    \"\"\"Example of using MsgHub for multi-agent conversation.\"\"\"\n    async with MsgHub(\n        [alice, bob, charlie],\n        announcement=Msg(\n            \"system\",\n            \"Now you meet each other with a brief self-introduction.\",\n            \"system\",\n        ),\n    ):\n        await alice()\n        await bob()\n        await charlie()\n\n\nasyncio.run(example_msghub())"
      ]
    },
    {
      "cell_type": "markdown",
      "metadata": {},
      "source": [
        "Now we print the memory of Alice to check if her memory is updated correctly.\n\n\n"
      ]
    },
    {
      "cell_type": "code",
      "execution_count": null,
      "metadata": {
        "collapsed": false
      },
      "outputs": [],
      "source": [
        "async def example_memory() -> None:\n    \"\"\"Print the memory of Alice.\"\"\"\n    print(\"Memory of Alice:\")\n    for msg in await alice.memory.get_memory():\n        print(f\"{msg.name}: {msg.get_text_content()}\")\n\n\nasyncio.run(example_memory())"
      ]
    },
    {
      "cell_type": "markdown",
      "metadata": {},
      "source": [
        "## Further Reading\n\n- `prompt`\n- `pipeline`\n\n\n"
      ]
    }
  ],
  "metadata": {
    "kernelspec": {
      "display_name": "Python 3",
      "language": "python",
      "name": "python3"
    },
    "language_info": {
      "codemirror_mode": {
        "name": "ipython",
        "version": 3
      },
      "file_extension": ".py",
      "mimetype": "text/x-python",
      "name": "python",
      "nbconvert_exporter": "python",
      "pygments_lexer": "ipython3",
      "version": "3.10.19"
    }
  },
  "nbformat": 4,
  "nbformat_minor": 0
}