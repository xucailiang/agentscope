{
  "cells": [
    {
      "cell_type": "markdown",
      "metadata": {},
      "source": [
        "\n.. key-concepts:\n\n# Key Concepts\n\nThis chapter establishes key concepts from an engineering\nperspective to introduce AgentScope's design.\n\n<div class=\"alert alert-info\"><h4>Note</h4><p>The goal of introducing the key concepts in AgentScope is to claim what practical problems AgentScope addresses and how it supports developers, rather than to offer formal definitions.</p></div>\n\n## State\n\nIn AgentScope, state management is a fundamental building block that maintains snapshots of objects' runtime data.\n\nAgentScope separates object initialization from state management, allowing\nobject to be restored to different states after initialization through\n``load_state_dict`` and ``state_dict`` methods.\n\nIn AgentScope, agent, memory, long-term memory and toolkit are all stateful\nobjects. AgentScope links the state management of these objects together by supporting nested state management.\n\n## Message\nIn AgentScope, message is the fundamental data structure,\nused to\n\n- exchange information between agents,\n- display information in the user interface,\n- store information in memory,\n- act as a unified medium between AgentScope and different LLM APIs.\n\n## Tool\nA tool in AgentScope refers to callable object, no matter it's a\n\n- function,\n- partial function,\n- instance method,\n- class method,\n- static method, or\n- callable instance with ``__call__`` method.\n\nBesides, the callable object can be either\n\n- async or sync,\n- streaming or non-streaming.\n\nSo feel free to use any callable object as a tool in AgentScope.\n\n## Agent\nIn AgentScope, the agent behaviors are abstracted into three core functions in\n``AgentBase`` class:\n\n- ``reply``: Handle incoming message(s) and generate a response message.\n- ``observe``: Receive message(s) from the environment or other agents without returning a response.\n- ``print``: Display message(s) to the target terminal, web interface, etc.\n\nTo support realtime steering, an additional ``handle_interrupt`` function is\nprovided to handle user interrupts during the agent's reply process.\n\nAdditionally, ReAct agent is the most important agent in AgentScope, where\nthe agent's reply process is divided into two stages:\n\n- reasoning: thinking and generating tool calls by calling the LLM\n- acting: execute the tool functions.\n\nThus, we provide two additional core functions in ``ReActAgentBase`` class,\n``_reasoning`` and ``_acting``.\n\n## Formatter\nFormatter is the core component for LLM compatibility in AgentScope,\nresponsible for converting message objects into the required format for\nLLM APIs.\n\nBesides, additional functionality such as prompt engineering, truncation,\nand message validation can also be implemented in the formatter.\n\nWithin the formatter, the \"multi-agent\" (or \"multi-identity\") concept differs\nfrom the common multi-agent orchestration concept.\nIt focuses on the scenario where multiple identities are involved in the\ngiven messages, so that the common used ``role`` field (usually \"role\",\n\"assistant\" or \"system\") in LLM APIs cannot distinguish them.\n\nTherefore, AgentScope provides multi-agent formatter to handle\nthis scenario, usually used in games, multi-person chats, and social\nsimulations.\n\n<div class=\"alert alert-info\"><h4>Note</h4><p>Multi-agent workflow **!=** multi-agent in formatter.</p></div>\n For example, even if the following code snippet may involve multiple\n agents (the ``tool_agent`` and the ``tool_function`` caller), the input query\n is wrapped into a **user** message, so the ``role`` field can still distinguish\n between them.\n\n```python\nasync def tool_function(query: str) -> str:\n    \"\"\"Tool function calling another agent\"\"\"\n    msg = Msg(\"user\", query, role=\"user\")\n    tool_agent = Agent(name=\"Programmer\")\n    return await tool_agent(msg)\n```\n Understanding this distinction helps developers better grasp AgentScope's formatter design.\n\n\n## Long-Term Memory\nAlthough providing different base classes for short- and\nlong-term memory, there are no strict distinctions between them in AgentScope.\n\nIn our view, everything should be **requirement-driven**. As long as your\nneeds are excellently met, developers can completely use just one powerful\nmemory system.\n\nFor ensuring the flexibility of AgentScope, we provide a two mode long-term\nmemory system, allowing the agent to manage (record and retrieve) the\nlong-term memory by its own.\n"
      ]
    }
  ],
  "metadata": {
    "kernelspec": {
      "display_name": "Python 3",
      "language": "python",
      "name": "python3"
    },
    "language_info": {
      "codemirror_mode": {
        "name": "ipython",
        "version": 3
      },
      "file_extension": ".py",
      "mimetype": "text/x-python",
      "name": "python",
      "nbconvert_exporter": "python",
      "pygments_lexer": "ipython3",
      "version": "3.10.19"
    }
  },
  "nbformat": 4,
  "nbformat_minor": 0
}