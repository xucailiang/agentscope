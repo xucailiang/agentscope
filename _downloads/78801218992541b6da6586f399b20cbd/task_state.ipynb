{
  "cells": [
    {
      "cell_type": "markdown",
      "metadata": {},
      "source": [
        "\n\n# State/Session Management\n\nIn AgentScope, the **\"state\"** refers to the agent status in the running application, including its current system prompt, memory, context, equipped tools, and other information that **change over time**.\n\nTo manage the state of an application, AgentScope designs an automatic state registration system and session-level state management, which features:\n\n- Support **automatic state registration** for all variables inherited from ``StateModule``\n- Support **manual state registration** with custom serialization/deserialization methods\n- Support **session/application-level management**\n"
      ]
    },
    {
      "cell_type": "code",
      "execution_count": null,
      "metadata": {
        "collapsed": false
      },
      "outputs": [],
      "source": [
        "import asyncio\nimport json\nimport os\n\nfrom agentscope.agent import ReActAgent\nfrom agentscope.formatter import DashScopeChatFormatter\nfrom agentscope.memory import InMemoryMemory\nfrom agentscope.message import Msg\nfrom agentscope.model import DashScopeChatModel\nfrom agentscope.module import StateModule\nfrom agentscope.session import JSONSession\nfrom agentscope.tool import Toolkit"
      ]
    },
    {
      "cell_type": "markdown",
      "metadata": {},
      "source": [
        "## State Module\n\nThe ``StateModule`` class is the foundation for state management in AgentScope and provides three basic functions:\n\n.. list-table:: Methods of ``StateModule``\n    :header-rows: 1\n\n    * - Method\n      - Arguments\n      - Description\n    * - ``register_state``\n      - | ``attr_name``,\n        | ``custom_to_json`` (optional),\n        | ``custom_from_json`` (optional)\n      - Register an attribute as its state, with optional serialization/deserialization function.\n    * - ``state_dict``\n      - \\-\n      - Get the state dictionary of current object\n    * - ``load_state_dict``\n      - | ``state_dict``,\n        | ``strict`` (optional)\n      - Load the state dictionary to current object\n\nWithin an object of ``StateModule``, all the following attributes will be treated as parts of its state:\n\n- the **attributes** that inherit from ``StateModule``\n- the **attributes** registered by the ``register_state`` method\n\nNote the ``StateModule`` supports **NESTED** serialization and deserialization:\n\n\n"
      ]
    },
    {
      "cell_type": "code",
      "execution_count": null,
      "metadata": {
        "collapsed": false
      },
      "outputs": [],
      "source": [
        "class ClassA(StateModule):\n    def __init__(self) -> None:\n        super().__init__()\n        self.cnt = 123\n        # register cnt attribute as state\n        self.register_state(\"cnt\")\n\n\nclass ClassB(StateModule):\n    def __init__(self) -> None:\n        super().__init__()\n\n        # attribute \"a\" inherits from StateModule\n        self.a = ClassA()\n\n        # register attribute \"c\" as state manually\n        self.c = \"Hello, world!\"\n        self.register_state(\"c\")\n\n\nobj_b = ClassB()\n\nprint(\"State of obj_b.a:\")\nprint(obj_b.a.state_dict())\n\nprint(\"\\nState of obj_b:\")\nprint(json.dumps(obj_b.state_dict(), indent=4))"
      ]
    },
    {
      "cell_type": "markdown",
      "metadata": {},
      "source": [
        "We can observe the state of ``obj_b`` contains the state of its attribute ``a`` automatically.\n\nIn AgentScope, the ``AgentBase``, ``MemoryBase``, ``LongTermMemoryBase`` and ``Toolkit`` classes all inherit from ``StateModule``, thus supporting automatic and nested state management.\n\n\n"
      ]
    },
    {
      "cell_type": "code",
      "execution_count": null,
      "metadata": {
        "collapsed": false
      },
      "outputs": [],
      "source": [
        "# Creating an agent\nagent = ReActAgent(\n    name=\"Friday\",\n    sys_prompt=\"You're a assistant named Friday.\",\n    model=DashScopeChatModel(\n        model_name=\"qwen-max\",\n        api_key=os.environ[\"DASHSCOPE_API_KEY\"],\n    ),\n    formatter=DashScopeChatFormatter(),\n    memory=InMemoryMemory(),\n    toolkit=Toolkit(),\n)\n\ninitial_state = agent.state_dict()\n\nprint(\"Initial state of the agent:\")\nprint(json.dumps(initial_state, indent=4))"
      ]
    },
    {
      "cell_type": "markdown",
      "metadata": {},
      "source": [
        "Then we change its state by generating a reply message:\n\n\n"
      ]
    },
    {
      "cell_type": "code",
      "execution_count": null,
      "metadata": {
        "collapsed": false
      },
      "outputs": [],
      "source": [
        "async def example_agent_state() -> None:\n    \"\"\"Example of agent state management\"\"\"\n    await agent(Msg(\"user\", \"Hello, agent!\", \"user\"))\n\n    print(\"State of the agent after generating a reply:\")\n    print(json.dumps(agent.state_dict(), indent=4))\n\n\nasyncio.run(example_agent_state())"
      ]
    },
    {
      "cell_type": "markdown",
      "metadata": {},
      "source": [
        "Now we recover the state of the agent to its initial state:\n\n\n"
      ]
    },
    {
      "cell_type": "code",
      "execution_count": null,
      "metadata": {
        "collapsed": false
      },
      "outputs": [],
      "source": [
        "agent.load_state_dict(initial_state)\n\nprint(\"State after loading the initial state:\")\nprint(json.dumps(agent.state_dict(), indent=4))"
      ]
    },
    {
      "cell_type": "markdown",
      "metadata": {},
      "source": [
        "## Session Management\n\nIn AgentScope, a session refers to a collection of ``StateModule`` in an application, e.g. multiple agents.\n\nAgentScope provides a ``SessionBase`` class with two abstract methods for session\nmanagement: ``save_session_state`` and ``load_session_state``.\nDevelopers can implement these methods with their own storage solution.\n\nIn AgentScope, we provide a JSON based session class ``JSONSession`` that\nstores/loads the session state in/from a JSON file named with the session ID.\n\nHere we show how to use the JSON based session management in AgentScope.\n\n### Saving Session State\n\n\n"
      ]
    },
    {
      "cell_type": "code",
      "execution_count": null,
      "metadata": {
        "collapsed": false
      },
      "outputs": [],
      "source": [
        "# change the agent state by generating a reply message\nasyncio.run(example_agent_state())\n\nprint(\"\\nState of agent:\")\nprint(json.dumps(agent.state_dict(), indent=4))"
      ]
    },
    {
      "cell_type": "markdown",
      "metadata": {},
      "source": [
        "Then we save it to a session file:\n\n"
      ]
    },
    {
      "cell_type": "code",
      "execution_count": null,
      "metadata": {
        "collapsed": false
      },
      "outputs": [],
      "source": [
        "session = JSONSession(\n    save_dir=\"./\",  # The dir used to save the session files\n)\n\n\nasync def example_session() -> None:\n    \"\"\"Example of session management.\"\"\"\n    await session.save_session_state(\n        session_id=\"user_1\",  # Use the name as the session id\n        agent=agent,\n    )\n\n    print(\"The saved state:\")\n    with open(\"./user_1.json\", \"r\", encoding=\"utf-8\") as f:\n        print(json.dumps(json.load(f), indent=4))\n\n\nasyncio.run(example_session())"
      ]
    },
    {
      "cell_type": "markdown",
      "metadata": {},
      "source": [
        "### Loading Session State\nNow we load the session state from the saved file:\n\n"
      ]
    },
    {
      "cell_type": "code",
      "execution_count": null,
      "metadata": {
        "collapsed": false
      },
      "outputs": [],
      "source": [
        "async def example_load_session() -> None:\n    \"\"\"Example of loading session state.\"\"\"\n\n    # we first clear the memory of the agent\n    await agent.memory.clear()\n\n    print(\"Current state of the agent:\")\n    print(json.dumps(agent.state_dict(), indent=4))\n\n    # then we load the session state\n    await session.load_session_state(\n        session_id=\"user_1\",\n        # The keyword argument must be the same as the one used in `save_session_state`\n        agent=agent,\n    )\n    print(\"After loading the session state:\")\n    print(json.dumps(agent.state_dict(), indent=4))\n\n\nasyncio.run(example_load_session())"
      ]
    },
    {
      "cell_type": "markdown",
      "metadata": {},
      "source": [
        "Now we can see the agent state is restored to the saved state.\n\n\n"
      ]
    }
  ],
  "metadata": {
    "kernelspec": {
      "display_name": "Python 3",
      "language": "python",
      "name": "python3"
    },
    "language_info": {
      "codemirror_mode": {
        "name": "ipython",
        "version": 3
      },
      "file_extension": ".py",
      "mimetype": "text/x-python",
      "name": "python",
      "nbconvert_exporter": "python",
      "pygments_lexer": "ipython3",
      "version": "3.10.19"
    }
  },
  "nbformat": 4,
  "nbformat_minor": 0
}