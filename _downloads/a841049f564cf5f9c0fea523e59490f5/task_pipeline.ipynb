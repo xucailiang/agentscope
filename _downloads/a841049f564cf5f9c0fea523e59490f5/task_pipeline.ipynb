{
  "cells": [
    {
      "cell_type": "markdown",
      "metadata": {},
      "source": [
        "\n\n# Pipeline\n\nFor multi-agent orchestration, AgentScope provides the ``agentscope.pipeline`` module\nas syntax sugar for chaining agents together, including\n\n- **MsgHub**: a message hub for broadcasting messages among multiple agents\n- **sequential_pipeline** and **SequentialPipeline**: a functional and class-based implementation that chains agents in a sequential manner\n- **fanout_pipeline** and **FanoutPipeline**: a functional and class-based implementation that distributes the same input to multiple agents\n- **stream_printing_messages**: a utility function that convert the printing messages from agent(s) into an async generator\n"
      ]
    },
    {
      "cell_type": "code",
      "execution_count": null,
      "metadata": {
        "collapsed": false
      },
      "outputs": [],
      "source": [
        "import os, asyncio\n\nfrom agentscope.formatter import DashScopeMultiAgentFormatter\nfrom agentscope.message import Msg\nfrom agentscope.model import DashScopeChatModel\nfrom agentscope.agent import ReActAgent\nfrom agentscope.pipeline import MsgHub, stream_printing_messages"
      ]
    },
    {
      "cell_type": "markdown",
      "metadata": {},
      "source": [
        "## Broadcasting with MsgHub\n\nThe ``MsgHub`` class is an **async context manager**, receiving a list of agents as its participants.\nWhen one participant generates a replying message, all other participants will receive this message by calling their ``observe`` method.\n\nThat means within a ``MsgHub`` context, developers don't need to manually send a replying message from one agent to another.\nThe broadcasting is automatically handled.\n\nHere we create four agents: Alice, Bob, Charlie and David.\nThen we start a meeting with Alice, Bob and Charlie by introducing themselves.\nNote David is not included in this meeting.\n\n"
      ]
    },
    {
      "cell_type": "code",
      "execution_count": null,
      "metadata": {
        "collapsed": false
      },
      "outputs": [],
      "source": [
        "def create_agent(name: str, age: int, career: str) -> ReActAgent:\n    \"\"\"Create agent object by the given information.\"\"\"\n    return ReActAgent(\n        name=name,\n        sys_prompt=f\"You're {name}, a {age}-year-old {career}\",\n        model=DashScopeChatModel(\n            model_name=\"qwen-max\",\n            api_key=os.environ[\"DASHSCOPE_API_KEY\"],\n        ),\n        formatter=DashScopeMultiAgentFormatter(),\n    )\n\n\nalice = create_agent(\"Alice\", 50, \"teacher\")\nbob = create_agent(\"Bob\", 35, \"engineer\")\ncharlie = create_agent(\"Charlie\", 28, \"designer\")\ndavid = create_agent(\"David\", 30, \"developer\")"
      ]
    },
    {
      "cell_type": "markdown",
      "metadata": {},
      "source": [
        "Then we start a meeting and let them introduce themselves without manual message passing:\n\n.. hint:: The message in ``announcement`` will be broadcasted to all participants when entering the ``MsgHub`` context.\n\n\n"
      ]
    },
    {
      "cell_type": "code",
      "execution_count": null,
      "metadata": {
        "collapsed": false
      },
      "outputs": [],
      "source": [
        "async def example_broadcast_message():\n    \"\"\"Example of broadcasting messages with MsgHub.\"\"\"\n\n    # Create a message hub\n    async with MsgHub(\n        participants=[alice, bob, charlie],\n        announcement=Msg(\n            \"user\",\n            \"Now introduce yourself in one sentence, including your name, age and career.\",\n            \"user\",\n        ),\n    ) as hub:\n        # Group chat without manual message passing\n        await alice()\n        await bob()\n        await charlie()\n\n\nasyncio.run(example_broadcast_message())"
      ]
    },
    {
      "cell_type": "markdown",
      "metadata": {},
      "source": [
        "Now let's check if Bob, Charlie and David received Alice's message.\n\n\n"
      ]
    },
    {
      "cell_type": "code",
      "execution_count": null,
      "metadata": {
        "collapsed": false
      },
      "outputs": [],
      "source": [
        "async def check_broadcast_message():\n    \"\"\"Check if the messages are broadcast correctly.\"\"\"\n    user_msg = Msg(\n        \"user\",\n        \"Do you know who's Alice, and what she does? Answer me briefly.\",\n        \"user\",\n    )\n\n    await bob(user_msg)\n    await charlie(user_msg)\n    await david(user_msg)\n\n\nasyncio.run(check_broadcast_message())"
      ]
    },
    {
      "cell_type": "markdown",
      "metadata": {},
      "source": [
        "Now we observe that Bob and Charlie know Alice and her profession, while David has no idea\nabout Alice since he is not included in the ``MsgHub`` context.\n\n\n### Dynamic Participant Management\nAdditionally, ``MsgHub`` supports to dynamically manage participants by the following methods:\n\n- ``add``: add one or multiple agents as new participants\n- ``delete``: remove one or multiple agents from participants, and they will no longer receive broadcasted messages\n- ``broadcast``: broadcast a message to all current participants\n\n<div class=\"alert alert-info\"><h4>Note</h4><p>The newly added participants will not receive the previous messages.</p></div>\n\n```python\nasync with MsgHub(participants=[alice]) as hub:\n    # Add new participants\n    hub.add(david)\n\n    # Remove participants\n    hub.delete(alice)\n\n    # Broadcast to all current participants\n    await hub.broadcast(\n        Msg(\"system\", \"Now we begin to ...\", \"system\"),\n    )\n```\n## Pipeline\nPipeline serves as a syntax sugar for multi-agent orchestration.\n\nCurrently, AgentScope provides three main pipeline implementations:\n\n1. **Sequential Pipeline**: Execute agents one by one in a predefined order\n2. **Fanout Pipeline**: Distribute the same input to multiple agents and collect their responses\n3. **Stream Printing Messages**: Convert the printing messages from an agent into an async generator\n\n### Sequential Pipeline\nThe sequential pipeline executes agents one by one, where the output of the previous agent\nbecomes the input of the next agent.\n\nFor example, the two following code snippets are equivalent:\n\n\n.. code-block:: python\n    :caption: Code snippet 1: Manually call agents one by one\n\n    msg = None\n    msg = await alice(msg)\n    msg = await bob(msg)\n    msg = await charlie(msg)\n    msg = await david(msg)\n\n\n.. code-block:: python\n    :caption: Code snippet 2: Use sequential pipeline\n\n    from agentscope.pipeline import sequential_pipeline\n    msg = await sequential_pipeline(\n        # List of agents to be executed in order\n        agents=[alice, bob, charlie, david],\n        # The first input message, can be None\n        msg=None\n    )\n\n\n"
      ]
    },
    {
      "cell_type": "markdown",
      "metadata": {},
      "source": [
        "### Fanout Pipeline\nThe fanout pipeline distributes the same input message to multiple agents simultaneously and collects all their responses. This is useful when you want to gather different perspectives or expertise on the same topic.\n\nFor example, the two following code snippets are equivalent:\n\n\n.. code-block:: python\n    :caption: Code snippet 3: Manually call agents one by one\n\n    from copy import deepcopy\n\n    msgs = []\n    msg = None\n    for agent in [alice, bob, charlie, david]:\n        msgs.append(await agent(deepcopy(msg)))\n\n\n.. code-block:: python\n    :caption: Code snippet 4: Use fanout pipeline\n\n    from agentscope.pipeline import fanout_pipeline\n    msgs = await fanout_pipeline(\n        # List of agents to be executed in order\n        agents=[alice, bob, charlie, david],\n        # The first input message, can be None\n        msg=None,\n        enable_gather=False,\n    )\n\n<div class=\"alert alert-info\"><h4>Note</h4><p>The ``enable_gather`` parameter controls the execution mode of the fanout pipeline:\n\n    - ``enable_gather=True`` (default): Executes all agents **concurrently** using ``asyncio.gather()``. This provides better performance for I/O-bound operations like API calls, as agents run in parallel.\n    - ``enable_gather=False``: Executes agents **sequentially** one by one. This is useful when you need deterministic execution order or want to avoid overwhelming external services with concurrent requests.\n\n    Choose concurrent execution for better performance, or sequential execution for predictable ordering and resource control.</p></div>\n\n.. tip::\n    By combining ``MsgHub`` and ``sequential_pipeline`` or ``fanout_pipeline``, you can create more complex workflows very easily.\n\n\n### Stream Printing Messages\nThe ``stream_printing_messages`` function converts the printing messages from agent(s) into an async generator.\nIt will help you to obtain the intermediate messages from the agent(s) in a streaming way.\n\nIt accepts a list of agents and a coroutine task, then returns an async generator that yields tuples of ``(Msg, bool)``,\ncontaining the printing message during execution of the coroutine task.\n\nNote the messages with the same ``id`` are considered as the same message, and the ``last`` flag indicates whether it's the last chunk of this message.\n\nTaking the following code snippet as an example:\n\n"
      ]
    },
    {
      "cell_type": "code",
      "execution_count": null,
      "metadata": {
        "collapsed": false
      },
      "outputs": [],
      "source": [
        "async def run_example_pipeline() -> None:\n    \"\"\"Run an example of streaming printing messages.\"\"\"\n    agent = create_agent(\"Alice\", 20, \"student\")\n\n    # We disable the terminal printing to avoid messy outputs\n    agent.set_console_output_enabled(False)\n\n    async for msg, last in stream_printing_messages(\n        agents=[agent],\n        coroutine_task=agent(\n            Msg(\"user\", \"Hello, who are you?\", \"user\"),\n        ),\n    ):\n        print(msg, last)\n        if last:\n            print()\n\n\nasyncio.run(run_example_pipeline())"
      ]
    },
    {
      "cell_type": "markdown",
      "metadata": {},
      "source": [
        "## Advanced Pipeline Features\n\nAdditionally, for reusability, we also provide a class-based implementation:\n\n.. code-block:: python\n    :caption: Using SequentialPipeline class\n\n    from agentscope.pipeline import SequentialPipeline\n\n    # Create a pipeline object\n    pipeline = SequentialPipeline(agents=[alice, bob, charlie, david])\n\n    # Call the pipeline\n    msg = await pipeline(msg=None)\n\n    # Reuse the pipeline with different input\n    msg = await pipeline(msg=Msg(\"user\", \"Hello!\", \"user\"))\n\n\n.. code-block:: python\n    :caption: Using FanoutPipeline class\n\n    from agentscope.pipeline import FanoutPipeline\n\n    # Create a pipeline object\n    pipeline = FanoutPipeline(agents=[alice, bob, charlie, david])\n\n    # Call the pipeline\n    msgs = await pipeline(msg=None)\n\n    # Reuse the pipeline with different input\n    msgs = await pipeline(msg=Msg(\"user\", \"Hello!\", \"user\"))\n\n\n"
      ]
    }
  ],
  "metadata": {
    "kernelspec": {
      "display_name": "Python 3",
      "language": "python",
      "name": "python3"
    },
    "language_info": {
      "codemirror_mode": {
        "name": "ipython",
        "version": 3
      },
      "file_extension": ".py",
      "mimetype": "text/x-python",
      "name": "python",
      "nbconvert_exporter": "python",
      "pygments_lexer": "ipython3",
      "version": "3.10.19"
    }
  },
  "nbformat": 4,
  "nbformat_minor": 0
}