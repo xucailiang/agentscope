{
  "cells": [
    {
      "cell_type": "markdown",
      "metadata": {},
      "source": [
        "\n\n# RAG\n\nAgentScope provides built-in support for Retrieval-Augmented Generation (RAG)\ntasks. This tutorial demonstrates\n\n- how to use the RAG module in AgentScope,\n- how to use **multimodal** RAG,\n- how to integrate the RAG module with the ``ReActAgent`` in\n    - **agentic manner** and\n    - **generic manner**:\n\n.. list-table:: RAG module integration methods\n    :header-rows: 1\n\n    * - Integration Manner\n      - Description\n      - Advantages\n      - Disadvantages\n    * - Agentic Manner\n      - The RAG module is integrated with the agent as a tool, and the agent can decide when to retrieve knowledge and the queries to be retrieved.\n      - - The query rewriting and knowledge retrieval are integrated into the ReAct process, which is more flexible,\n        - the agent can rewrite the query based on all the available information,\n        - only retrieve knowledge when necessary.\n      - High requirements for the LLM's reasoning and tool-use capabilities.\n    * - Generic Manner\n      - Retrieve knowledge at the beginning of each reply, and attach the retrieved knowledge to the prompt in a user message.\n      - - Simple, easy to implement,\n        - does not require high reasoning and tool-use capabilities from the LLM.\n      - - Still retrieve knowledge even when not necessary, and\n        - if the retrieval is imperceptible to the user, the waiting time may be longer.\n\n<div class=\"alert alert-info\"><h4>Note</h4><p>As an open-source project, AgentScope doesn't insist that developers</p></div>\n use the built-in RAG module. Our target is make the development easier and\n more enjoyable, so integrating other RAG implementations, frameworks, or\n services are welcome and encouraged!\n"
      ]
    },
    {
      "cell_type": "code",
      "execution_count": null,
      "metadata": {
        "collapsed": false
      },
      "outputs": [],
      "source": [
        "import asyncio\nimport json\nimport os\n\nfrom matplotlib import pyplot as plt\n\nimport agentscope\nfrom agentscope.agent import ReActAgent\nfrom agentscope.embedding import (\n    DashScopeTextEmbedding,\n    DashScopeMultiModalEmbedding,\n)\nfrom agentscope.formatter import DashScopeChatFormatter\nfrom agentscope.message import Msg\nfrom agentscope.model import DashScopeChatModel\nfrom agentscope.rag import (\n    TextReader,\n    SimpleKnowledge,\n    QdrantStore,\n    Document,\n    ImageReader,\n)\nfrom agentscope.tool import Toolkit"
      ]
    },
    {
      "cell_type": "markdown",
      "metadata": {},
      "source": [
        "## Using RAG Module\nThe RAG module in AgentScope is composed of two core components:\n\n- **Reader**: responsible for reading and chunking the input documents.\n- **Knowledge**: responsible for algorithm implementation of knowledge retrieval and updating.\n\n<div class=\"alert alert-info\"><h4>Note</h4><p>We're integrating more vector databases and readers into AgentScope. Contributions are welcome!</p></div>\n\nThe currently built-in readers include:\n\n\n"
      ]
    },
    {
      "cell_type": "code",
      "execution_count": null,
      "metadata": {
        "collapsed": false
      },
      "outputs": [],
      "source": [
        "for _ in agentscope.rag.__all__:\n    if _.endswith(\"Reader\"):\n        print(f\"- {_}\")"
      ]
    },
    {
      "cell_type": "markdown",
      "metadata": {},
      "source": [
        "they are responsible for reading data and chunking them into ``Document`` objects.\nThe ``Document`` class has the following fields:\n\n- ``metadata``: the metadata of the document, including the content, doc_id, chunk_id, and total_chunks.\n- ``embedding``: the embedding vector of the document, which will be filled when the document is added to or retrieved from the knowledge base.\n- ``score``: the relevance score of the document, which will be filled when the document is retrieved from the knowledge base.\n\nTaking the ``TextReader`` as an example, it can read and chunk documents from text strings.\n\n\n"
      ]
    },
    {
      "cell_type": "code",
      "execution_count": null,
      "metadata": {
        "collapsed": false
      },
      "outputs": [],
      "source": [
        "async def example_text_reader(print_docs: bool) -> list[Document]:\n    \"\"\"The example of using TextReader.\"\"\"\n    # Create a text reader with chunk size of 512 characters, split by characters\n    reader = TextReader(chunk_size=512, split_by=\"paragraph\")\n\n    # Read documents from a text string\n    documents = await reader(\n        text=(\n            # Fake personal profile for demonstration\n            \"I'm John Doe, 28 years old.\\n\"\n            \"I live in San Francisco. I work at OpenAI as a \"\n            \"software engineer. I love hiking and photography.\\n\"\n            \"My father is Michael Doe, a doctor. I'm very proud of him. \"\n            \"My mother is Sarah Doe, a teacher. She is very kind and \"\n            \"always helps me with my studies.\\n\"\n            \"I'm now a PhD student at Stanford University, majoring in \"\n            \"Computer Science. My advisor is Prof. Jane Williams, who is \"\n            \"a leading expert in artificial intelligence. I have published \"\n            \"several papers in top conferences, such as NeurIPS and ICML.\\n\"\n            \"My best friend is James Smith.\\n\"\n        ),\n    )\n\n    if print_docs:\n        print(\"The length of the documents:\", len(documents))\n        for idx, doc in enumerate(documents):\n            print(\"Document #\", idx)\n            print(\"\\tScore: \", doc.score)\n            print(\"\\tMetadata: \", json.dumps(doc.metadata, indent=2), \"\\n\")\n\n    return documents\n\n\ndocs = asyncio.run(example_text_reader(print_docs=True))"
      ]
    },
    {
      "cell_type": "markdown",
      "metadata": {},
      "source": [
        "Note there doesn't exist a universally best chunk size and splitting method, especially for PDF files, we highly\nencourage developers to implement or contribute their own readers according to their specific scenarios.\nTo create a custom reader, you only need to inherit the ``ReaderBase`` class and implement the ``__call__`` method.\n\nAfter chunking the documents, we can create a knowledge base to store the documents and perform retrieval.\nSuch a knowledge base is initialized by providing **an embedding model** and **an embedding store** (also known as a vector database).\nAgentscope provides built-in support for [Qdrant](https://qdrant.tech/) as the embedding store and a simple knowledge base implementation ``SimpleKnowledge``.\nThey can be used as follows:\n\n<div class=\"alert alert-info\"><h4>Note</h4><p></p></div>\n\n - We're integrating more vector databases into AgentScope. Contributions are welcome!\n - The Qdrant store supports various storage backends by the ``location`` parameter, including in-memory, local file, and remote server. Refer to the [Qdrant documentation](https://qdrant.tech/) for more details.\n\n\n"
      ]
    },
    {
      "cell_type": "code",
      "execution_count": null,
      "metadata": {
        "collapsed": false
      },
      "outputs": [],
      "source": [
        "async def build_knowledge_base() -> SimpleKnowledge:\n    \"\"\"Build a knowledge base with sample documents.\"\"\"\n    # Read documents using the text reader\n    documents = await example_text_reader(print_docs=False)\n\n    # Create an in-memory knowledge base instance\n    knowledge = SimpleKnowledge(\n        # Choose an embedding model to convert text to embedding vectors\n        embedding_model=DashScopeTextEmbedding(\n            api_key=os.environ[\"DASHSCOPE_API_KEY\"],\n            model_name=\"text-embedding-v4\",\n            dimensions=1024,\n        ),\n        # Choose Qdrant as the embedding store\n        embedding_store=QdrantStore(\n            location=\":memory:\",  # Use in-memory storage for demonstration\n            collection_name=\"test_collection\",\n            dimensions=1024,  # The dimension of the embedding vectors\n        ),\n    )\n\n    # Insert documents into the knowledge base\n    await knowledge.add_documents(documents)\n\n    # Retrieve relevant documents based on a given query\n    docs = await knowledge.retrieve(\n        query=\"Who is John Doe's father?\",\n        limit=3,\n        score_threshold=0.5,\n    )\n\n    print(\"Retrieved Documents:\")\n    for doc in docs:\n        print(doc, \"\\n\")\n\n    return knowledge\n\n\nknowledge = asyncio.run(build_knowledge_base())"
      ]
    },
    {
      "cell_type": "markdown",
      "metadata": {},
      "source": [
        "The knowledge base class provides two main methods: ``add_documents`` and\n``retrieve``, which are used to add documents to the knowledge base and\nretrieve relevant documents based on a given query, respectively.\n\nIn addition, the knowledge base class also provides a convenient method\n``retrieve_knowledge``, which wraps the ``retrieve`` method into a tool\nfunction that can be directly registered in the toolkit of an agent.\n\n\n## Customizing RAG Components\nAgentScope supports and encourages developers to customize their own RAG components, including readers, knowledge bases and embedding stores.\nSpecifically, we provide the following base classes for customization:\n\n.. list-table:: RAG Base Classes\n    :header-rows: 1\n\n    * - Base Class\n      - Description\n      - Abstract Methods\n    * - ``ReaderBase``\n      - The base class for all readers.\n      - ``__call__``\n    * - ``VDBStoreBase``\n      - The base class for embedding stores (vector databases).\n      - | ``add``\n        | ``search``\n        | ``get_client`` (optional)\n        | ``delete`` (optional)\n    * - ``KnowledgeBase``\n      - The base class for knowledge bases.\n      - | ``retrieve``\n        | ``add_documents``\n\n\nThe `get_client` method in the ``VDBStoreBase`` allows developers to access the full functionality of the underlying vector database.\nSo that they can implement more advanced features based on the vector database, e.g. index management, advanced search, etc.\n\n## Integrating with ReActAgent\nNext we demonstrate how to integrate the RAG module with the ``ReActAgent``\nclass in AgentScope in agentic and generic manners.\n\n### Agentic Manner\nIn agentic manner, the ReAct agent is empowered with the ability to decide when to retrieve knowledge and the queries to be retrieved.\nIt's very easy to integrate the RAG module with the ``ReActAgent`` class in AgentScope, just by registering the ``retrieve_knowledge`` method of the knowledge base as a tool,\nand providing a proper description for the tool.\n\n"
      ]
    },
    {
      "cell_type": "code",
      "execution_count": null,
      "metadata": {
        "collapsed": false
      },
      "outputs": [],
      "source": [
        "async def example_agentic_manner() -> None:\n    \"\"\"The example of integrating RAG module with ReActAgent in agentic manner.\"\"\"\n    # Create a ReAct agent\n    toolkit = Toolkit()\n\n    # Create the ReAct agent with DashScope as the model\n    agent = ReActAgent(\n        name=\"Friday\",\n        sys_prompt=\"You are a helpful assistant named Friday.\",\n        model=DashScopeChatModel(\n            api_key=os.environ[\"DASHSCOPE_API_KEY\"],\n            model_name=\"qwen-max\",\n        ),\n        formatter=DashScopeChatFormatter(),\n        toolkit=toolkit,\n    )\n\n    print(\"The first response: \")\n    # Ask some questions about Tony Stank\n    await agent(\n        Msg(\n            \"user\",\n            \"John Doe is my best friend.\",\n            \"user\",\n        ),\n    )\n\n    # Register the retrieve_knowledge method as a tool function in the toolkit\n    toolkit.register_tool_function(\n        knowledge.retrieve_knowledge,\n        func_description=(  # Provide a clear description for the tool\n            \"The tool used to retrieve documents relevant to the given query. \"\n            \"Use this tool when you need to find some information about John Doe.\"\n        ),\n    )\n\n    print(\"\\n\\nThe second response: \")\n    # We hope the agent can rewrite the query to be more specific, e.g.\n    # \"Who is Tony Stank's father?\" or \"Tony Stank's father\"\n    await agent(\n        Msg(\n            \"user\",\n            \"Do you know who his father is?\",\n            \"user\",\n        ),\n    )\n\n\nasyncio.run(example_agentic_manner())"
      ]
    },
    {
      "cell_type": "markdown",
      "metadata": {},
      "source": [
        "In the above example, our question is \"Do you know who his father is?\".\nWe hope the agent can rewrite the query with the historical information, and\nrewrite it to be more specific, e.g. \"Who is John Doe's father?\" or \"John Doe's father\".\n\n\n### Generic Manner\nThe ``ReActAgent`` also integrates the RAG module in a generic manner, which\nretrieves knowledge at the beginning of each reply, and attaches the\nretrieved knowledge to the prompt in a user message.\n\nJust set the ``knowledge`` parameter of the ``ReActAgent``, and the agent\nwill automatically retrieve knowledge at the beginning of each reply.\n\n\n"
      ]
    },
    {
      "cell_type": "code",
      "execution_count": null,
      "metadata": {
        "collapsed": false
      },
      "outputs": [],
      "source": [
        "async def example_generic_manner() -> None:\n    \"\"\"The example of integrating RAG module with ReActAgent in generic manner.\"\"\"\n    # Create a ReAct agent\n    agent = ReActAgent(\n        name=\"Friday\",\n        sys_prompt=\"You are a helpful assistant named Friday.\",\n        model=DashScopeChatModel(\n            api_key=os.environ[\"DASHSCOPE_API_KEY\"],\n            model_name=\"qwen-max\",\n        ),\n        formatter=DashScopeChatFormatter(),\n        #\n        knowledge=knowledge,\n    )\n\n    await agent(\n        Msg(\n            \"user\",\n            \"Do you know who John Doe's father is?\",\n            \"user\",\n        ),\n    )\n\n\nasyncio.run(example_generic_manner())"
      ]
    },
    {
      "cell_type": "markdown",
      "metadata": {},
      "source": [
        "## Multimodal RAG\nThe RAG module in AgentScope supports multimodal RAG natively, as\n\n- AgentScope supports multimodal embedding API, e.g. ``DashScopeMultimodalEmbedding``.\n- The ``Document`` class supports text, image, and other modalities in its ``metadata`` field.\n\nThus, we can directly use the multimodal reader and embedding model to build\na multimodal knowledge base as follows.\n\nFirst we prepare an image with some text about my name.\n\n"
      ]
    },
    {
      "cell_type": "code",
      "execution_count": null,
      "metadata": {
        "collapsed": false
      },
      "outputs": [],
      "source": [
        "# Prepare an image with the text \"John Doe's father is Michael Doe.\"\npath_image = \"./example.jpg\"\nplt.figure(figsize=(8, 3))\nplt.text(\n    0.5,\n    0.5,\n    \"My name is Tony Stank\",\n    ha=\"center\",\n    va=\"center\",\n    fontsize=30,\n)\nplt.axis(\"off\")\nplt.savefig(path_image, bbox_inches=\"tight\", pad_inches=0.1)\nplt.close()"
      ]
    },
    {
      "cell_type": "markdown",
      "metadata": {},
      "source": [
        "Then we can build a multimodal knowledge base with the image document.\nThe example is the same as before, just using the ``ImageReader`` and\n``DashScopeMultiModalEmbedding`` instead of the text counterparts.\n\n\n"
      ]
    },
    {
      "cell_type": "code",
      "execution_count": null,
      "metadata": {
        "collapsed": false
      },
      "outputs": [],
      "source": [
        "async def example_multimodal_rag() -> None:\n    \"\"\"The example of using multimodal RAG.\"\"\"\n    # Read the image using the ImageReader\n    reader = ImageReader()\n    docs = await reader(image_url=path_image)\n\n    # Create a knowledge base with the new image document\n    knowledge = SimpleKnowledge(\n        embedding_model=DashScopeMultiModalEmbedding(\n            api_key=os.environ[\"DASHSCOPE_API_KEY\"],\n            model_name=\"multimodal-embedding-v1\",\n            dimensions=1024,\n        ),\n        embedding_store=QdrantStore(\n            location=\":memory:\",\n            collection_name=\"test_collection\",\n            dimensions=1024,\n        ),\n    )\n\n    await knowledge.add_documents(docs)\n\n    agent = ReActAgent(\n        name=\"Friday\",\n        sys_prompt=\"You are a helpful assistant named Friday.\",\n        model=DashScopeChatModel(\n            api_key=os.environ[\"DASHSCOPE_API_KEY\"],\n            model_name=\"qwen-vl-max\",\n        ),\n        formatter=DashScopeChatFormatter(),\n        knowledge=knowledge,\n    )\n\n    await agent(\n        Msg(\n            \"user\",\n            \"What's my name?\",\n            \"user\",\n        ),\n    )\n\n    # Let's see the last message from the agent\n    print(\"\\nThe image is attached in the agent's memory:\")\n    print((await agent.memory.get_memory())[-4])\n\n\nasyncio.run(example_multimodal_rag())"
      ]
    },
    {
      "cell_type": "markdown",
      "metadata": {},
      "source": [
        "We can see that the agent can answer the question based on the retrieved\nimage.\n\n"
      ]
    }
  ],
  "metadata": {
    "kernelspec": {
      "display_name": "Python 3",
      "language": "python",
      "name": "python3"
    },
    "language_info": {
      "codemirror_mode": {
        "name": "ipython",
        "version": 3
      },
      "file_extension": ".py",
      "mimetype": "text/x-python",
      "name": "python",
      "nbconvert_exporter": "python",
      "pygments_lexer": "ipython3",
      "version": "3.10.19"
    }
  },
  "nbformat": 4,
  "nbformat_minor": 0
}