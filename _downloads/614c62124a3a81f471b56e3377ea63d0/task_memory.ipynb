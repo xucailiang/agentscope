{
  "cells": [
    {
      "cell_type": "markdown",
      "metadata": {},
      "source": [
        "\n\n# Memory\n\nIn AgentScope, the memory is used to store the context of the agent, and retrieve it when needed.\nSpecifically, AgentScope provides a memory base class ``MemoryBase`` and an in-memory implementation ``InMemoryMemory`` under ``agentscope.memory`` that can be used directly.\n\n## Customize Memory\n\nTo customize your own memory, just inherit from ``MemoryBase`` and implement the following methods:\n\n.. list-table::\n    :header-rows: 1\n\n    * - Method\n      - Description\n    * - ``add``\n      - Add ``Msg`` objects to the memory\n    * - ``delete``\n      - Delete items from the memory\n    * - ``size``\n      - The size of the memory\n    * - ``clear``\n      - Clear the memory content\n    * - ``get_memory``\n      - Get the memory content as a list of ``Msg`` objects\n    * - ``state_dict``\n      - Get the state dictionary of the memory\n    * - ``load_state_dict``\n      - Load the state dictionary of the memory\n\n## Further Reading\n\n- `long-term-memory`\n"
      ]
    }
  ],
  "metadata": {
    "kernelspec": {
      "display_name": "Python 3",
      "language": "python",
      "name": "python3"
    },
    "language_info": {
      "codemirror_mode": {
        "name": "ipython",
        "version": 3
      },
      "file_extension": ".py",
      "mimetype": "text/x-python",
      "name": "python",
      "nbconvert_exporter": "python",
      "pygments_lexer": "ipython3",
      "version": "3.10.19"
    }
  },
  "nbformat": 4,
  "nbformat_minor": 0
}