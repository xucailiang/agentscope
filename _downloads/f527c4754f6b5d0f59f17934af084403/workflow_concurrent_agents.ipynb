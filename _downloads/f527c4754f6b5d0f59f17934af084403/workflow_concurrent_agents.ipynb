{
  "cells": [
    {
      "cell_type": "markdown",
      "metadata": {},
      "source": [
        "\n# Concurrent Agents\nWith the help of asynchronous programming, the concurrent agents can be executed by ``asyncio.gather`` in Python.\n\nA simple example is shown below, where two agents are created and executed concurrently.\n"
      ]
    },
    {
      "cell_type": "code",
      "execution_count": null,
      "metadata": {
        "collapsed": false
      },
      "outputs": [],
      "source": [
        "import asyncio\nfrom datetime import datetime\nfrom typing import Any\n\nfrom agentscope.agent import AgentBase\n\n\nclass ExampleAgent(AgentBase):\n    \"\"\"The example agent for concurrent execution.\"\"\"\n\n    def __init__(self, name: str) -> None:\n        \"\"\"Initialize the agent with its name.\"\"\"\n        super().__init__()\n        self.name = name\n\n    async def reply(self, *args: Any, **kwargs: Any) -> None:\n        \"\"\"Reply to the message.\"\"\"\n        start_time = datetime.now().strftime(\"%H:%M:%S.%f\")[:-3]\n        print(f\"{self.name} started at {start_time}\")\n        await asyncio.sleep(3)  # Simulate a long-running task\n        end_time = datetime.now().strftime(\"%H:%M:%S.%f\")[:-3]\n        print(f\"{self.name} finished at {end_time}\")\n\n\nasync def run_concurrent_agents() -> None:\n    \"\"\"Run the concurrent agents.\"\"\"\n    agent1 = ExampleAgent(\"Agent 1\")\n    agent2 = ExampleAgent(\"Agent 2\")\n\n    await asyncio.gather(agent1(), agent2())\n\n\nasyncio.run(run_concurrent_agents())"
      ]
    }
  ],
  "metadata": {
    "kernelspec": {
      "display_name": "Python 3",
      "language": "python",
      "name": "python3"
    },
    "language_info": {
      "codemirror_mode": {
        "name": "ipython",
        "version": 3
      },
      "file_extension": ".py",
      "mimetype": "text/x-python",
      "name": "python",
      "nbconvert_exporter": "python",
      "pygments_lexer": "ipython3",
      "version": "3.10.19"
    }
  },
  "nbformat": 4,
  "nbformat_minor": 0
}