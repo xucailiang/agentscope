{
  "cells": [
    {
      "cell_type": "markdown",
      "metadata": {},
      "source": [
        "\n\n# AgentScope Studio\n\nAgentScope Studio is a local-deployed web application that\n\n- provides **project management** for the development of agent applications\n- provides native **visualization** for running applications and tracing\n- provides a **built-in agent** named \"Friday\" that supports secondary development\n\n<div class=\"alert alert-info\"><h4>Note</h4><p>The Studio is under fast development, more features are coming soon!</p></div>\n\n.. figure:: ../../_static/images/studio_home.webp\n    :width: 100%\n    :alt: AgentScope Studio Home Page\n    :class: bordered-image\n    :align: center\n\n    AgentScope Studio Home Page\n\n## Quick Start\n\nAgentScope Studio is installed via ``npm``:\n\n```bash\nnpm install -g @agentscope/studio\n```\nStart the Studio with the following command:\n\n```bash\nas_studio\n```\nTo connect your application to the Studio, use the ``agentscope.init`` function with the ``studio_url`` parameter:\n\n```python\nimport agentscope\n\nagentscope.init(studio_url=\"http://localhost:8000\")\n\n# your application code\n...\n```\nThen, you can see your application in the Studio as follows:\n\n.. figure:: ../../_static/images/studio_project.webp\n    :width: 100%\n    :alt: Project management\n    :class: bordered-image\n    :align: center\n\n    Project management in AgentScope Studio\n\nThe details about your running application, e.g. token usage, model invocations, and tracing information, can all be viewed in the Studio.\n\n.. figure:: ../../_static/images/studio_run.webp\n    :width: 100%\n    :alt: AgentScope Studio run Page\n    :class: bordered-image\n    :align: center\n\n    Application visualization in AgentScope Studio\n\n\n## Friday Agent\nFriday is an experimental local-deployed agent built by AgentScope, aims at\n\n- answering questions about the AgentScope,\n- providing a quick secondary development environment for developers,\n- integrating all available features in AgentScope to build a more powerful agent, and\n- testing and integrating the advanced features in AgentScope.\n\n<div class=\"alert alert-info\"><h4>Note</h4><p>We highly greet contributions from the community to improve Friday! Feel free to open issues or pull requests on our [GitHub repository](https://github.com/agentscope-ai/agentscope).</p></div>\n\nWe are keeping improving Friday, and currently it integrates the following features in AgentScope:\n\n.. list-table::\n    :header-rows: 1\n\n    * - Feature\n      - Status\n      - Further Reading\n      - Description\n    * - Meta tool\n      - \u2705\n      - `tool`\n      - Group-wise tool management, and allow agent to change equipped tools by itself.\n    * - Agent Hook\n      - \u2705\n      - `hook`\n      - Use hook to forward the printing messages to the frontend.\n    * - Agent Interruption\n      - \u2705\n      - `agent`\n      - Allow use to interrupt the agent's reply process with post-processing.\n    * - Truncated Prompt\n      - \u2705\n      - `prompt`\n      - Support to truncate the prompt with the preset max token limit.\n    * - State & Session Management\n      - \u2705\n      - `state`\n      - Auto state management and session management for agents, maintaining the state between different runs.\n    * - Long-term Memory\n      - \ud83d\udea7\n      - `memory`\n      - Support long-term memory management.\n"
      ]
    }
  ],
  "metadata": {
    "kernelspec": {
      "display_name": "Python 3",
      "language": "python",
      "name": "python3"
    },
    "language_info": {
      "codemirror_mode": {
        "name": "ipython",
        "version": 3
      },
      "file_extension": ".py",
      "mimetype": "text/x-python",
      "name": "python",
      "nbconvert_exporter": "python",
      "pygments_lexer": "ipython3",
      "version": "3.10.19"
    }
  },
  "nbformat": 4,
  "nbformat_minor": 0
}