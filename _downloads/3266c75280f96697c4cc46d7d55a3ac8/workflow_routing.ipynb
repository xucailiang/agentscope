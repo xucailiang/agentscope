{
  "cells": [
    {
      "cell_type": "markdown",
      "metadata": {},
      "source": [
        "\n\n# Routing\nThere are two ways to implement routing in AgentScope, both simple and easy to implement:\n\n- Routing by structured output\n- Routing by tool calls\n\n.. tip:: Considering there is no unified standard/definition for agent routing, we follow the setting in [Building effective agents](https://www.anthropic.com/engineering/building-effective-agents)\n\n## Routing by Structured Output\nBy this way, we can directly use the structured output of the agent to determine which agent to route the message to.\n\nInitialize a routing agent\n"
      ]
    },
    {
      "cell_type": "code",
      "execution_count": null,
      "metadata": {
        "collapsed": false
      },
      "outputs": [],
      "source": [
        "import asyncio\nimport json\nimport os\nfrom typing import Literal\n\nfrom pydantic import BaseModel, Field\n\nfrom agentscope.agent import ReActAgent\nfrom agentscope.formatter import DashScopeChatFormatter\nfrom agentscope.memory import InMemoryMemory\nfrom agentscope.message import Msg\nfrom agentscope.model import DashScopeChatModel\nfrom agentscope.tool import Toolkit, ToolResponse\n\nrouter = ReActAgent(\n    name=\"Router\",\n    sys_prompt=\"You're a routing agent. Your target is to route the user query to the right follow-up task.\",\n    model=DashScopeChatModel(\n        model_name=\"qwen-max\",\n        api_key=os.environ[\"DASHSCOPE_API_KEY\"],\n        stream=False,\n    ),\n    formatter=DashScopeChatFormatter(),\n)\n\n\n# Use structured output to specify the routing task\nclass RoutingChoice(BaseModel):\n    your_choice: Literal[\n        \"Content Generation\",\n        \"Programming\",\n        \"Information Retrieval\",\n        None,\n    ] = Field(\n        description=\"Choose the right follow-up task, and choose ``None`` if the task is too simple or no suitable task\",\n    )\n    task_description: str | None = Field(\n        description=\"The task description\",\n        default=None,\n    )\n\n\nasync def example_router_explicit() -> None:\n    \"\"\"Example of explicit routing with structured output.\"\"\"\n    msg_user = Msg(\n        \"user\",\n        \"Help me to write a poem\",\n        \"user\",\n    )\n\n    # Route the query\n    msg_res = await router(\n        msg_user,\n        structured_model=RoutingChoice,\n    )\n\n    # The structured output is stored in the metadata field\n    print(\"The structured output:\")\n    print(json.dumps(msg_res.metadata, indent=4, ensure_ascii=False))\n\n\nasyncio.run(example_router_explicit())"
      ]
    },
    {
      "cell_type": "markdown",
      "metadata": {},
      "source": [
        "## Routing by Tool Calls\nAnother way is to wrap the downstream agents into a tool function, so that the routing agent decides which tool to call based on the user query.\n\nWe first define several tool functions:\n\n\n"
      ]
    },
    {
      "cell_type": "code",
      "execution_count": null,
      "metadata": {
        "collapsed": false
      },
      "outputs": [],
      "source": [
        "async def generate_python(demand: str) -> ToolResponse:\n    \"\"\"Generate Python code based on the demand.\n\n    Args:\n        demand (``str``):\n            The demand for the Python code.\n    \"\"\"\n    # An example demand agent\n    python_agent = ReActAgent(\n        name=\"PythonAgent\",\n        sys_prompt=\"You're a Python expert, your target is to generate Python code based on the demand.\",\n        model=DashScopeChatModel(\n            model_name=\"qwen-max\",\n            api_key=os.environ[\"DASHSCOPE_API_KEY\"],\n            stream=False,\n        ),\n        memory=InMemoryMemory(),\n        formatter=DashScopeChatFormatter(),\n        toolkit=Toolkit(),\n    )\n    msg_res = await python_agent(Msg(\"user\", demand, \"user\"))\n\n    return ToolResponse(\n        content=msg_res.get_content_blocks(\"text\"),\n    )\n\n\n# Fake some other tool functions for demonstration purposes\nasync def generate_poem(demand: str) -> ToolResponse:\n    \"\"\"Generate a poem based on the demand.\n\n    Args:\n        demand (``str``):\n            The demand for the poem.\n    \"\"\"\n    pass\n\n\nasync def web_search(query: str) -> ToolResponse:\n    \"\"\"Search the web for the query.\n\n    Args:\n        query (``str``):\n            The query to search.\n    \"\"\"\n    pass"
      ]
    },
    {
      "cell_type": "markdown",
      "metadata": {},
      "source": [
        "After that, we define a routing agent and equip it with the above tool functions.\n\n\n"
      ]
    },
    {
      "cell_type": "code",
      "execution_count": null,
      "metadata": {
        "collapsed": false
      },
      "outputs": [],
      "source": [
        "toolkit = Toolkit()\ntoolkit.register_tool_function(generate_python)\ntoolkit.register_tool_function(generate_poem)\ntoolkit.register_tool_function(web_search)\n\n# Initialize the routing agent with the toolkit\nrouter_implicit = ReActAgent(\n    name=\"Router\",\n    sys_prompt=\"You're a routing agent. Your target is to route the user query to the right follow-up task.\",\n    model=DashScopeChatModel(\n        model_name=\"qwen-max\",\n        api_key=os.environ[\"DASHSCOPE_API_KEY\"],\n        stream=False,\n    ),\n    formatter=DashScopeChatFormatter(),\n    toolkit=toolkit,\n    memory=InMemoryMemory(),\n)\n\n\nasync def example_router_implicit() -> None:\n    \"\"\"Example of implicit routing with tool calls.\"\"\"\n    msg_user = Msg(\n        \"user\",\n        \"Help me to generate a quick sort function in Python\",\n        \"user\",\n    )\n\n    # Route the query\n    await router_implicit(msg_user)\n\n\nasyncio.run(example_router_implicit())"
      ]
    }
  ],
  "metadata": {
    "kernelspec": {
      "display_name": "Python 3",
      "language": "python",
      "name": "python3"
    },
    "language_info": {
      "codemirror_mode": {
        "name": "ipython",
        "version": 3
      },
      "file_extension": ".py",
      "mimetype": "text/x-python",
      "name": "python",
      "nbconvert_exporter": "python",
      "pygments_lexer": "ipython3",
      "version": "3.10.19"
    }
  },
  "nbformat": 4,
  "nbformat_minor": 0
}