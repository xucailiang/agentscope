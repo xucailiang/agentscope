{
  "cells": [
    {
      "cell_type": "markdown",
      "metadata": {},
      "source": [
        "\n\n# Multi-Agent Debate\n\nDebate workflow simulates a multi-turn discussion between different agents, mostly several solvers and an aggregator.\nTypically, the solvers generate and exchange their answers, while the aggregator collects and summarizes the answers.\n\nWe implement the examples in `EMNLP 2024`_, where two debater agents will discuss a topic in a fixed order, and express their\narguments based on the previous debate history.\nAt each round a moderator agent will decide whether the correct answer can be obtained in the current iteration.\n"
      ]
    },
    {
      "cell_type": "code",
      "execution_count": null,
      "metadata": {
        "collapsed": false
      },
      "outputs": [],
      "source": [
        "import asyncio\nimport os\n\nfrom pydantic import Field, BaseModel\n\nfrom agentscope.agent import ReActAgent\nfrom agentscope.formatter import (\n    DashScopeMultiAgentFormatter,\n    DashScopeChatFormatter,\n)\nfrom agentscope.message import Msg\nfrom agentscope.model import DashScopeChatModel\nfrom agentscope.pipeline import MsgHub\n\n# Prepare a topic\ntopic = (\n    \"The two circles are externally tangent and there is no relative sliding. \"\n    \"The radius of circle A is 1/3 the radius of circle B. Circle A rolls \"\n    \"around circle B one trip back to its starting point. How many times will \"\n    \"circle A revolve in total?\"\n)\n\n\n# Create two debater agents, Alice and Bob, who will discuss the topic.\ndef create_solver_agent(name: str) -> ReActAgent:\n    \"\"\"Get a solver agent.\"\"\"\n    return ReActAgent(\n        name=name,\n        sys_prompt=f\"You're a debater named {name}. Hello and welcome to the \"\n        \"debate competition. It's unnecessary to fully agree with \"\n        \"each other's perspectives, as our objective is to find \"\n        \"the correct answer. The debate topic is stated as \"\n        f\"follows: {topic}.\",\n        model=DashScopeChatModel(\n            model_name=\"qwen-max\",\n            api_key=os.environ[\"DASHSCOPE_API_KEY\"],\n            stream=False,\n        ),\n        formatter=DashScopeMultiAgentFormatter(),\n    )\n\n\nalice, bob = [create_solver_agent(name) for name in [\"Alice\", \"Bob\"]]\n\n# Create a moderator agent\nmoderator = ReActAgent(\n    name=\"Aggregator\",\n    sys_prompt=f\"\"\"You're a moderator. There will be two debaters involved in a debate competition. They will present their answer and discuss their perspectives on the topic:\n``````\n{topic}\n``````\nAt the end of each round, you will evaluate both sides' answers and decide which one is correct.\"\"\",\n    model=DashScopeChatModel(\n        model_name=\"qwen-max\",\n        api_key=os.environ[\"DASHSCOPE_API_KEY\"],\n        stream=False,\n    ),\n    # Use multiagent formatter because the moderator will receive messages from more than a user and an assistant\n    formatter=DashScopeMultiAgentFormatter(),\n)\n\n\n# A structured output model for the moderator\nclass JudgeModel(BaseModel):\n    \"\"\"The structured output model for the moderator.\"\"\"\n\n    finished: bool = Field(\n        description=\"Whether the debate is finished.\",\n    )\n    correct_answer: str | None = Field(\n        description=\"The correct answer to the debate topic, only if the debate is finished. Otherwise, leave it as None.\",\n        default=None,\n    )\n\n\nasync def run_multiagent_debate() -> None:\n    \"\"\"Run the multi-agent debate workflow.\"\"\"\n    while True:\n        # The reply messages in MsgHub from the participants will be broadcasted to all participants.\n        async with MsgHub(participants=[alice, bob, moderator]):\n            await alice(\n                Msg(\n                    \"user\",\n                    \"You are affirmative side, Please express your viewpoints.\",\n                    \"user\",\n                ),\n            )\n            await bob(\n                Msg(\n                    \"user\",\n                    \"You are negative side. You disagree with the affirmative side. Provide your reason and answer.\",\n                    \"user\",\n                ),\n            )\n\n        # Alice and Bob doesn't need to know the moderator's message, so moderator is called outside the MsgHub.\n        msg_judge = await moderator(\n            Msg(\n                \"user\",\n                \"Now you have heard the answers from the others, have the debate finished, and can you get the correct answer?\",\n                \"user\",\n            ),\n            structured_model=JudgeModel,\n        )\n\n        if msg_judge.metadata.get(\"finished\"):\n            print(\n                \"\\nThe debate is finished, and the correct answer is: \",\n                msg_judge.metadata.get(\"correct_answer\"),\n            )\n            break\n\n\nasyncio.run(run_multiagent_debate())"
      ]
    },
    {
      "cell_type": "markdown",
      "metadata": {},
      "source": [
        "## Further Reading\n\n- `pipeline`\n\nEncouraging Divergent Thinking in Large Language Models through Multi-Agent Debate. EMNLP 2024.\n\n\n"
      ]
    }
  ],
  "metadata": {
    "kernelspec": {
      "display_name": "Python 3",
      "language": "python",
      "name": "python3"
    },
    "language_info": {
      "codemirror_mode": {
        "name": "ipython",
        "version": 3
      },
      "file_extension": ".py",
      "mimetype": "text/x-python",
      "name": "python",
      "nbconvert_exporter": "python",
      "pygments_lexer": "ipython3",
      "version": "3.10.19"
    }
  },
  "nbformat": 4,
  "nbformat_minor": 0
}