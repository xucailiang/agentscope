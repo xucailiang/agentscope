{
  "cells": [
    {
      "cell_type": "markdown",
      "metadata": {},
      "source": [
        "\n\n# Plan\n\nThe Plan Module enables agents to formally break down complex tasks into manageable sub-tasks and execute them systematically. Key features include:\n\n- Support **manual plan specification**\n- Comprehensive plan management capabilities:\n   - **Creating, modifying, abandoning, and restoring** plans\n   - **Switching** between multiple plans\n   - **Gracefully handling interruptions** by temporarily suspending plans to address user queries or urgent tasks\n- **Real-time visualization and monitoring** of plan execution\n\n<div class=\"alert alert-info\"><h4>Note</h4><p>The current plan module has the following limitations, and we are working on improving them:</p></div>\n\n - The subtasks in a plan must be executed sequentially\n\nSpecifically, the plan module works by\n\n- providing tool functions for plan management\n- inserting hint messages to guide the ReAct agent to complete the plan\n\nThe following figure illustrates how the plan module works with the ReAct agent:\n\n.. figure:: ../../_static/images/plan.png\n    :width: 90%\n    :alt: Plan module\n    :class: bordered-image\n    :align: center\n\n    How the plan module works with the ReAct agent\n"
      ]
    },
    {
      "cell_type": "code",
      "execution_count": null,
      "metadata": {
        "collapsed": false
      },
      "outputs": [],
      "source": [
        "import asyncio\nimport os\n\nfrom agentscope.agent import ReActAgent\nfrom agentscope.formatter import DashScopeChatFormatter\nfrom agentscope.model import DashScopeChatModel\nfrom agentscope.plan import PlanNotebook, Plan, SubTask"
      ]
    },
    {
      "cell_type": "markdown",
      "metadata": {},
      "source": [
        "## PlanNotebook\n\nThe `PlanNotebook` class is the core of the plan module, responsible for providing\n\n- plan-related tool functions\n- hint messages to guide the agent to finish the plan\n\nThe `PlanNotebook` class can be instantiated with the following parameters:\n\n.. list-table:: Parameters of the `PlanNotebook` constructor\n  :header-rows: 1\n\n  * - Name\n    - Type\n    - Description\n  * - ``max_subtasks``\n    - ``int | None``\n    - The maximum number of subtasks allowed in a plan, infinite if None\n  * - ``plan_to_hint``\n    - ``Callable[[Plan | None], str | None] | None``\n    - The function to generate hint message based on the current plan. If not provided, a default `DefaultPlanToHint` object will be used.\n  * - ``storage``\n    - ``PlanStorageBase | None``\n    - The plan storage. If not provided, a default in-memory storage will be used.\n\nThe ``plan_to_hint`` callable object is the most important part of the\n`PlanNotebook` class, also serves as the interface for prompt engineering.\nWe have built a default `DefaultPlanToHint` class that can be used directly.\nDevelopers are encouraged to providing their own ``plan_to_hint`` function\nfor better performance.\n\nThe ``storage`` is to store historical plans, allowing agent to\nretrieve and restore historical plans. Developers are encouraged to\nimplement their own plan storage by inheriting the ``PlanStorageBase`` class.\nIf not provided, a default in-memory storage will be used.\n\n.. tip:: The ``PlanStorageBase`` class inherits from the ``StateModule``\n class, so that the plan storage will also be saved and loaded by the\n session management.\n\nThe core attributes and methods of the `PlanNotebook` class are summarized\nas follows:\n\n.. list-table:: Core attributes and methods of the `PlanNotebook` class\n   :header-rows: 1\n\n   * - Type\n     - Name\n     - Description\n   * - attribute\n     - ``current_plan``\n     - The current plan that the agent is executing\n   * -\n     - ``storage``\n     - The storage for historical plans, used for retrieving and restoring historical plans\n   * -\n     - ``plan_to_hint``\n     - A callable object that takes the current plan as input and generates a hint message to guide the agent to finish the plan\n   * - method\n     - ``list_tools``\n     - List all the tool functions provided by the `PlanNotebook` class\n   * -\n     - ``get_current_hint``\n     - Get the hint message for the current plan, which will call the ``plan_to_hint`` function\n   * -\n     - | ``create_plan``,\n       | ``view_subtasks``,\n       | ``revise_current_plan``,\n       | ``update_subtask_state``,\n       | ``finish_subtask``,\n       | ``finish_plan``,\n       | ``view_historical_plans``,\n       | ``recover_historical_plan``\n     - The tool functions that allows the agent to manage the plan and subtasks\n   * -\n     - ``register_plan_change_hook``\n     - Register a hook function that will be called when the plan is changed, used to plan visualization and monitoring\n   * -\n     - ``remove_plan_change_hook``\n     - Remove a registered plan change hook function\n\nThe ``list_tools`` method is a quick way to obtain all tool functions, so that you can register them to the agent's toolkit.\n\n"
      ]
    },
    {
      "cell_type": "code",
      "execution_count": null,
      "metadata": {
        "collapsed": false
      },
      "outputs": [],
      "source": [
        "plan_notebook = PlanNotebook()\n\n\nasync def list_tools() -> None:\n    \"\"\"List the tool functions provided by PlanNotebook.\"\"\"\n    print(\"The tools provided by PlanNotebook:\")\n    for tool in plan_notebook.list_tools():\n        print(tool.__name__)\n\n\nasyncio.run(list_tools())"
      ]
    },
    {
      "cell_type": "markdown",
      "metadata": {},
      "source": [
        "## Working with ReActAgent\nThe `ReActAgent` in AgentScope has integrated the plan module by a ``plan_notebook`` parameter in its constructor.\nOnce provided, the agent will\n\n- be equipped with the plan management tool functions, and\n- be inserted with the hint messages at the beginning of each reasoning step\n\nThere are two ways to use the plan module with the `ReActAgent`:\n\n- Manual plan specification: Users can manually create a plan by calling the ``create_plan`` tool function, and initialize the `ReActAgent` with the plan notebook.\n- Agent-managed plan execution: The agent will create and manage the plan by itself, by calling the plan management tool functions.\n\n### Manual Plan Specification\nManually creating a plan is straightforward by calling the ``create_plan`` tool function.\nThe following is an example of manually creating a plan to conduct a comprehensive research on the LLM-empowered agent.\n\n\n"
      ]
    },
    {
      "cell_type": "code",
      "execution_count": null,
      "metadata": {
        "collapsed": false
      },
      "outputs": [],
      "source": [
        "async def manual_plan_specification() -> None:\n    \"\"\"Manual plan specification example.\"\"\"\n    await plan_notebook.create_plan(\n        name=\"Research on Agent\",\n        description=\"Conduct a comprehensive research on the LLM-empowered agent.\",\n        expected_outcome=\"A Markdown format report answer three questions: 1. What's agent? 2. What's the current state of the art of agent? 3. What's the future trend of agent?\",\n        subtasks=[\n            SubTask(\n                name=\"Search agent-related survey papers\",\n                description=(\n                    \"Search for survey parers on multiple sources, including \"\n                    \"Google Scholar, arXiv, and Semantic Scholar. Must be \"\n                    \"published after 2021 and have more than 50 citations.\"\n                ),\n                expected_outcome=\"A paper list in Markdown format\",\n            ),\n            SubTask(\n                name=\"Read and summarize the papers\",\n                description=(\n                    \"Read the papers found in the previous step, and \"\n                    \"summarize the key points, including the definition, \"\n                    \"taxonomy, challenges, and key directions.\"\n                ),\n                expected_outcome=\"A summary of the key points in Markdown format\",\n            ),\n            SubTask(\n                name=\"Research on recent advances of large company\",\n                description=(\n                    \"Research on the recent advances of large companies, \"\n                    \"including Google, Microsoft, OpenAI, Anthropic, Alibaba \"\n                    \"and Meta. Find the official blogs or news articles.\"\n                ),\n                expected_outcome=\"A recent advances of large company \",\n            ),\n            SubTask(\n                name=\"Write a report\",\n                description=(\n                    \"Write a report based on the previous steps, and answer \"\n                    \"the three questions in the expected outcome.\"\n                ),\n                expected_outcome=(\n                    \"A Markdown format report answer three questions: 1. \"\n                    \"What's agent? 2. What's the current state of the art of \"\n                    \"agent? 3. What's the future trend of agent?\"\n                ),\n            ),\n        ],\n    )\n\n    print(\"The current hint message:\\n\")\n    msg = await plan_notebook.get_current_hint()\n    print(f\"{msg.name}: {msg.content}\")\n\n\nasyncio.run(manual_plan_specification())"
      ]
    },
    {
      "cell_type": "markdown",
      "metadata": {},
      "source": [
        "After creating the plan, you can initialize the `ReActAgent` with the\nplan notebook as follows:\n\n"
      ]
    },
    {
      "cell_type": "code",
      "execution_count": null,
      "metadata": {
        "collapsed": false
      },
      "outputs": [],
      "source": [
        "agent = ReActAgent(\n    name=\"Friday\",\n    sys_prompt=\"You are a helpful assistant.\",\n    model=DashScopeChatModel(\n        model_name=\"qwen-max\",\n        api_key=os.environ[\"DASHSCOPE_API_KEY\"],\n    ),\n    formatter=DashScopeChatFormatter(),\n    plan_notebook=plan_notebook,\n)"
      ]
    },
    {
      "cell_type": "markdown",
      "metadata": {},
      "source": [
        "### Agent-Managed Plan Execution\nAgent can also create and manage the plan by itself, by calling the plan management tool functions.\nWe just need to initialize the `ReActAgent` with the plan notebook as follows:\n\n\n"
      ]
    },
    {
      "cell_type": "code",
      "execution_count": null,
      "metadata": {
        "collapsed": false
      },
      "outputs": [],
      "source": [
        "agent = ReActAgent(\n    name=\"Friday\",\n    sys_prompt=\"You are a helpful assistant.\",\n    model=DashScopeChatModel(\n        model_name=\"qwen-max\",\n        api_key=os.environ[\"DASHSCOPE_API_KEY\"],\n    ),\n    formatter=DashScopeChatFormatter(),\n    plan_notebook=PlanNotebook(),\n)"
      ]
    },
    {
      "cell_type": "markdown",
      "metadata": {},
      "source": [
        "After that, we can build a loop to interact with the agent as follows.\nOnce the task is complex, the agent will create a plan by itself and\nexecute the plan step by step.\n\n.. code-block:: python\n    :caption: Build conversation with the plan agent\n\n    async def interact_with_agent() -> None:\n        \"\"\"Interact with the plan agent.\"\"\"\n        user = UserAgent(name=\"user\")\n\n        msg = None\n        while True:\n            msg = await user(msg)\n            if msg.get_text_content() == \"exit\":\n                break\n            msg = await agent(msg)\n\n    asyncio.run(interact_with_agent())\n\n\n## Plan Visualization and Monitoring\n\nAgentScope supports real-time visualization and monitoring of the plan\nexecution by the plan change hook function.\n\nThey will be triggered when the plan is changed by calling the tool\nfunctions. A template of the plan change hook function is as follows:\n\n\n"
      ]
    },
    {
      "cell_type": "code",
      "execution_count": null,
      "metadata": {
        "collapsed": false
      },
      "outputs": [],
      "source": [
        "def plan_change_hook_template(self: PlanNotebook, plan: Plan) -> None:\n    \"\"\"A template of the plan change hook function.\n\n    Args:\n        self (`PlanNotebook`):\n            The PlanNotebook instance.\n        plan (`Plan`):\n            The current plan instance (after the change).\n    \"\"\"\n    # Forward the plan to the frontend for visualization or other processing"
      ]
    }
  ],
  "metadata": {
    "kernelspec": {
      "display_name": "Python 3",
      "language": "python",
      "name": "python3"
    },
    "language_info": {
      "codemirror_mode": {
        "name": "ipython",
        "version": 3
      },
      "file_extension": ".py",
      "mimetype": "text/x-python",
      "name": "python",
      "nbconvert_exporter": "python",
      "pygments_lexer": "ipython3",
      "version": "3.10.19"
    }
  },
  "nbformat": 4,
  "nbformat_minor": 0
}