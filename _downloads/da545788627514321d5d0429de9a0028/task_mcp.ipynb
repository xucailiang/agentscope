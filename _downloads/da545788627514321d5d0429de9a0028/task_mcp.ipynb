{
  "cells": [
    {
      "cell_type": "markdown",
      "metadata": {},
      "source": [
        "\n\n# MCP\n\nThe tutorial covers the following features of AgentScope in support of the MCP (Model Context Protocol):\n\n- Support both **HTTP** (streamable HTTP and SSE) and **StdIO** MCP servers\n- Provide both **stateful** and **stateless** MCP clients\n- Provide both **server-level** and **function-level** MCP tool management\n\nHere the stateful/stateless distinction refers to whether the client maintains a persistent session with the MCP server or not.\nThe table below summarizes the supported MCP client types and protocols:\n\n.. list-table:: Supported MCP client types and protocols\n    :header-rows: 1\n\n    * - Client Type\n      - HTTP (Streamable HTTP and SSE)\n      - StdIO\n    * - Stateful Client\n      - ``HttpStatefulClient``\n      - ``HttpStatelessClient``\n    * - Stateless Client\n      - ``StdIOStatefulClient``\n      -\n"
      ]
    },
    {
      "cell_type": "code",
      "execution_count": null,
      "metadata": {
        "collapsed": false
      },
      "outputs": [],
      "source": [
        "import asyncio\nimport json\nimport os\n\nfrom agentscope.mcp import HttpStatefulClient, HttpStatelessClient\nfrom agentscope.tool import Toolkit"
      ]
    },
    {
      "cell_type": "markdown",
      "metadata": {},
      "source": [
        "## MCP Client\n\nIn AgentScope, MCP clients are responsible for\n\n- connecting to the MCP server,\n- obtaining tool functions from the server, and\n- calling tool functions in the MCP server.\n\nThere are two types of MCP clients in AgentScope: **Stateful** and **Stateless**.\nThey only differ in how to manage the session with the MCP server.\n\n- Stateful Client: The stateful MCP client **maintains a persistent session** with the MCP server within its lifetime. The developers should explicitly call ``connect()`` and ``close()`` methods to manage the connection lifecycle.\n- Stateless Client: The stateless MCP client creates a new session when calling the tool function, and destroys the session right after the tool function call, which is much more lightweight.\n\n<div class=\"alert alert-info\"><h4>Note</h4><p>- The StdIO MCP server only has stateful client, when ``connect()`` is called, it will start the MCP server locally and then connect to it.</p></div>\n - For stateful clients, developers must ensure the client is connected when calling the tool functions.\n - When multiple `HttpStatefulClients` or `StdIOStatefulClients` are connected, they should be closed in Last In First Out (LIFO) order to prevent errors.\n\nTaking Gaode map MCP server as an example, the creation of stateful and stateless clients are very similar:\n\n\n"
      ]
    },
    {
      "cell_type": "code",
      "execution_count": null,
      "metadata": {
        "collapsed": false
      },
      "outputs": [],
      "source": [
        "stateful_client = HttpStatefulClient(\n    # The name to identify the MCP\n    name=\"mcp_services_stateful\",\n    transport=\"streamable_http\",\n    url=f\"https://mcp.amap.com/mcp?key={os.environ['GAODE_API_KEY']}\",\n)\n\nstateless_client = HttpStatelessClient(\n    # The name to identify the MCP\n    name=\"mcp_services_stateless\",\n    transport=\"streamable_http\",\n    url=f\"https://mcp.amap.com/mcp?key={os.environ['GAODE_API_KEY']}\",\n)"
      ]
    },
    {
      "cell_type": "markdown",
      "metadata": {},
      "source": [
        "Both stateful and stateless clients provide the following methods:\n\n.. list-table:: MCP Client Methods\n   :header-rows: 1\n\n   * - Method\n     - Description\n   * - ``list_tools``\n     - List all tools available in the MCP server.\n   * - ``get_callable_function``\n     - Get a callable function object from the MCP server by its name.\n\n## MCP as Tool\nAgentScope provides fine-grained management of MCP tools, including both server-level and function-level management.\n\n### Server-Level Management\nYou can register all tools from an MCP server into ``Toolkit`` as follows.\n\n.. tip:: Optionally, you can specify a group name to organize the tools. Refer to `tool` section for group-wise tools management.\n\n\n"
      ]
    },
    {
      "cell_type": "code",
      "execution_count": null,
      "metadata": {
        "collapsed": false
      },
      "outputs": [],
      "source": [
        "toolkit = Toolkit()\n\n\nasync def example_register_stateless_mcp() -> None:\n    \"\"\"Example of registering MCP tools from a stateless client.\"\"\"\n    # Register all tools from the MCP server\n    await toolkit.register_mcp_client(\n        stateless_client,\n        # group_name=\"map_services\",  # Optional group name\n    )\n\n    print(\n        \"Total number of MCP tools registered:\",\n        len(toolkit.get_json_schemas()),\n    )\n\n    maps_geo = next(\n        tool\n        for tool in toolkit.get_json_schemas()\n        if tool[\"function\"][\"name\"] == \"maps_geo\"\n    )\n    print(\"\\nThe example ``maps_geo`` function:\")\n    print(\n        json.dumps(\n            maps_geo,\n            indent=4,\n            ensure_ascii=False,\n        ),\n    )\n\n\nasyncio.run(example_register_stateless_mcp())"
      ]
    },
    {
      "cell_type": "markdown",
      "metadata": {},
      "source": [
        "To remove the registered tools, you can use the ``remove_tool_function`` to remove a specific tool function, or ``remove_mcp_clients`` to remove all tools from a specific MCP.\n\n\n"
      ]
    },
    {
      "cell_type": "code",
      "execution_count": null,
      "metadata": {
        "collapsed": false
      },
      "outputs": [],
      "source": [
        "async def example_remove_mcp_tools() -> None:\n    \"\"\"Example of removing MCP tools.\"\"\"\n    print(\n        \"Total number of tools before removal: \",\n        len(toolkit.get_json_schemas()),\n    )\n\n    # Remove a specific tool function by its name\n    toolkit.remove_tool_function(\"maps_geo\")\n    print(\"Number of tools: \", len(toolkit.get_json_schemas()))\n\n    # Remove all tools from the MCP client by its name\n    await toolkit.remove_mcp_clients(client_names=[\"mcp_services_stateless\"])\n    print(\"Number of tools: \", len(toolkit.get_json_schemas()))\n\n\nasyncio.run(example_remove_mcp_tools())"
      ]
    },
    {
      "cell_type": "markdown",
      "metadata": {},
      "source": [
        "### Function-Level Management\nWe notice the demand for more fine-grained control over MCP tools, such as post-processing the tool results, or use them to create a more complex tool function.\n\nTherefore, AgentScope supports to obtain the callable function object from MCP by its name, so that you can\n\n- call it directly,\n- wrap it into your own function, or anyway you like.\n\nAdditionally, you can specify whether to wrap the tool result into ``ToolResponse`` object in AgentScope, so that you can use it seamlessly with the ``Toolkit``.\nIf you set ``wrap_tool_result=False``, the raw result type ``mcp.types.CallToolResult`` will be returned.\n\nTaking the ``maps_geo`` function as an example, you can obtain it as a callable function object as follows:\n\n\n"
      ]
    },
    {
      "cell_type": "code",
      "execution_count": null,
      "metadata": {
        "collapsed": false
      },
      "outputs": [],
      "source": [
        "async def example_function_level_usage() -> None:\n    \"\"\"Example of using function-level MCP tool.\"\"\"\n    func_obj = await stateless_client.get_callable_function(\n        func_name=\"maps_geo\",\n        # Whether to wrap the tool result into ToolResponse in AgentScope\n        wrap_tool_result=True,\n    )\n\n    # You can obtain its name, description and json schema\n    print(\"Function name:\", func_obj.name)\n    print(\"Function description:\", func_obj.description)\n    print(\n        \"Function JSON schema:\",\n        json.dumps(func_obj.json_schema, indent=4, ensure_ascii=False),\n    )\n\n    # Call the function object directly\n    res = await func_obj(\n        address=\"Tiananmen Square\",\n        city=\"Beijing\",\n    )\n    print(\"\\nFunction call result:\")\n    print(res)\n\n\nasyncio.run(example_function_level_usage())"
      ]
    },
    {
      "cell_type": "markdown",
      "metadata": {},
      "source": [
        "## Further Reading\n\nFor more details, see:\n\n- `tool`\n- `agent`\n\n\n"
      ]
    }
  ],
  "metadata": {
    "kernelspec": {
      "display_name": "Python 3",
      "language": "python",
      "name": "python3"
    },
    "language_info": {
      "codemirror_mode": {
        "name": "ipython",
        "version": 3
      },
      "file_extension": ".py",
      "mimetype": "text/x-python",
      "name": "python",
      "nbconvert_exporter": "python",
      "pygments_lexer": "ipython3",
      "version": "3.10.19"
    }
  },
  "nbformat": 4,
  "nbformat_minor": 0
}