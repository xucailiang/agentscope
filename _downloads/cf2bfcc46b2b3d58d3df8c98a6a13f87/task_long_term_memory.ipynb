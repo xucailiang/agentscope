{
  "cells": [
    {
      "cell_type": "markdown",
      "metadata": {},
      "source": [
        "\n\n# Long-Term Memory\n\nIn AgentScope, we provide a basic class for long-term memory (``LongTermMemoryBase``) and an implementation based on the [mem0](https://github.com/mem0ai/mem0) library (``Mem0LongTermMemory``).\nTogether with the design of ``ReActAgent`` class in `agent` section, we provide two long-term memory modes:\n\n- ``agent_control``: the agent autonomously manages long-term memory by tool calls, and\n- ``static_control``: the developer explicitly controls long-term memory operations.\n\nDevelopers can also use the ``both`` mode, which activates both memory management modes.\n\n.. hint:: These memory modes are suitable for different usage scenarios. Developers can choose the appropriate mode based on their needs.\n\n## Using mem0 Long-Term Memory\n\n<div class=\"alert alert-info\"><h4>Note</h4><p>We provide an example of using mem0 long-term memory in the GitHub repository under the ``examples/long_term_memory/mem0`` directory.</p></div>\n"
      ]
    },
    {
      "cell_type": "code",
      "execution_count": null,
      "metadata": {
        "collapsed": false
      },
      "outputs": [],
      "source": [
        "import os\nimport asyncio\n\nfrom agentscope.message import Msg\nfrom agentscope.memory import InMemoryMemory\nfrom agentscope.agent import ReActAgent\nfrom agentscope.formatter import DashScopeChatFormatter\nfrom agentscope.model import DashScopeChatModel\nfrom agentscope.tool import Toolkit\n\n\n# Create mem0 long-term memory instance\nfrom agentscope.memory import Mem0LongTermMemory\nfrom agentscope.embedding import DashScopeTextEmbedding\n\n\nlong_term_memory = Mem0LongTermMemory(\n    agent_name=\"Friday\",\n    user_name=\"user_123\",\n    model=DashScopeChatModel(\n        model_name=\"qwen-max-latest\",\n        api_key=os.environ.get(\"DASHSCOPE_API_KEY\"),\n        stream=False,\n    ),\n    embedding_model=DashScopeTextEmbedding(\n        model_name=\"text-embedding-v2\",\n        api_key=os.environ.get(\"DASHSCOPE_API_KEY\"),\n    ),\n    on_disk=False,\n)"
      ]
    },
    {
      "cell_type": "markdown",
      "metadata": {},
      "source": [
        "The ``Mem0LongTermMemory`` class provides two main methods for long-term memory operations:\n``record`` and ``retrieve``.\nThey take a list of messages as input and record/retrieve information from long-term memory.\n\nAs an example, we first store a user preference and then retrieve related information from long-term memory.\n\n\n"
      ]
    },
    {
      "cell_type": "code",
      "execution_count": null,
      "metadata": {
        "collapsed": false
      },
      "outputs": [],
      "source": [
        "# Basic usage example\nasync def basic_usage():\n    \"\"\"Basic usage example\"\"\"\n    # Record memory\n    await long_term_memory.record(\n        [Msg(\"user\", \"I like staying in homestays\", \"user\")],\n    )\n\n    # Retrieve memory\n    results = await long_term_memory.retrieve(\n        [Msg(\"user\", \"My accommodation preferences\", \"user\")],\n    )\n    print(f\"Retrieval results: {results}\")\n\n\nasyncio.run(basic_usage())"
      ]
    },
    {
      "cell_type": "markdown",
      "metadata": {},
      "source": [
        "### Integration with ReAct Agent\nIn AgentScope, the ``ReActAgent`` class receives a ``long_term_memory``\nparameter in its constructor, as well as a ``long_term_memory_mode`` parameter\nthat specifies the long-term memory mode.\n\nIf ``long_term_memory_mode`` is set to ``agent_control`` or ``both``, two\ntool functions ``record_to_memory`` and ``retrieve_from_memory`` will be\nregistered in the agent's toolkit, allowing the agent to autonomously\nmanage long-term memory through tool calls.\n\n<div class=\"alert alert-info\"><h4>Note</h4><p>To achieve the best results, the ``\"agent_control\"`` mode may require</p></div>\n additional instructions in the system prompt.\n\n\n"
      ]
    },
    {
      "cell_type": "code",
      "execution_count": null,
      "metadata": {
        "collapsed": false
      },
      "outputs": [],
      "source": [
        "# Create ReAct agent with long-term memory\nagent = ReActAgent(\n    name=\"Friday\",\n    sys_prompt=\"You are an assistant with long-term memory capabilities.\",\n    model=DashScopeChatModel(\n        api_key=os.environ.get(\"DASHSCOPE_API_KEY\"),\n        model_name=\"qwen-max-latest\",\n    ),\n    formatter=DashScopeChatFormatter(),\n    toolkit=Toolkit(),\n    memory=InMemoryMemory(),\n    long_term_memory=long_term_memory,\n    long_term_memory_mode=\"static_control\",  # Use static_control mode\n)\n\n\nasync def record_preferences():\n    \"\"\"ReAct agent integration example\"\"\"\n    # Conversation example\n    msg = Msg(\n        \"user\",\n        \"When I travel to Hangzhou, I like staying in homestays\",\n        \"user\",\n    )\n    await agent(msg)\n\n\nasyncio.run(record_preferences())"
      ]
    },
    {
      "cell_type": "markdown",
      "metadata": {},
      "source": [
        "Then we clear the short-term memory and ask the agent about the user's preferences.\n\n\n"
      ]
    },
    {
      "cell_type": "code",
      "execution_count": null,
      "metadata": {
        "collapsed": false
      },
      "outputs": [],
      "source": [
        "async def retrieve_preferences():\n    \"\"\"Retrieve user preferences from long-term memory\"\"\"\n    # Clear short-term memory\n    await agent.memory.clear()\n    # The agent will remember previous conversations\n    msg2 = Msg(\"user\", \"What are my preferences? Answer briefly.\", \"user\")\n    await agent(msg2)\n\n\nasyncio.run(retrieve_preferences())"
      ]
    },
    {
      "cell_type": "markdown",
      "metadata": {},
      "source": [
        "## Using ReMe Long-Term Memory\n\n<div class=\"alert alert-info\"><h4>Note</h4><p>We provide an example of using ReMe long-term memory in the GitHub repository under the ``examples/long_term_memory/reme`` directory.</p></div>\n\n\n"
      ]
    },
    {
      "cell_type": "code",
      "execution_count": null,
      "metadata": {
        "collapsed": false
      },
      "outputs": [],
      "source": [
        "from agentscope.memory import ReMePersonalLongTermMemory\n\n# Create ReMe personal long-term memory instance\nreme_long_term_memory = ReMePersonalLongTermMemory(\n    agent_name=\"Friday\",\n    user_name=\"user_123\",\n    model=DashScopeChatModel(\n        model_name=\"qwen3-max\",\n        api_key=os.environ.get(\"DASHSCOPE_API_KEY\"),\n        stream=False,\n    ),\n    embedding_model=DashScopeTextEmbedding(\n        model_name=\"text-embedding-v4\",\n        api_key=os.environ.get(\"DASHSCOPE_API_KEY\"),\n        dimensions=1024,\n    ),\n)"
      ]
    },
    {
      "cell_type": "markdown",
      "metadata": {},
      "source": [
        "The ``ReMePersonalLongTermMemory`` class provides four main methods for long-term memory operations.\nThey include ``record_to_memory`` and ``retrieve_from_memory`` for tool calls,\nas well as ``record`` and ``retrieve`` for direct calls.\n\nAs an example, we use ``record_to_memory`` to record user preferences.\n\n\n"
      ]
    },
    {
      "cell_type": "code",
      "execution_count": null,
      "metadata": {
        "collapsed": false
      },
      "outputs": [],
      "source": [
        "async def test_record_to_memory():\n    \"\"\"Test record_to_memory tool function interface\"\"\"\n    async with reme_long_term_memory:\n        result = await reme_long_term_memory.record_to_memory(\n            thinking=\"The user is sharing their travel preferences and habits\",\n            content=[\n                \"I prefer to stay in homestays when traveling to Hangzhou\",\n                \"I like to visit the West Lake in the morning\",\n                \"I enjoy drinking Longjing tea\",\n            ],\n        )\n        # Extract result text\n        result_text = \" \".join(\n            block.get(\"text\", \"\")\n            for block in result.content\n            if block.get(\"type\") == \"text\"\n        )\n        print(f\"Recording result: {result_text}\")"
      ]
    },
    {
      "cell_type": "markdown",
      "metadata": {},
      "source": [
        "output\n\n```console\nRecording result: Successfully recorded 3 memory/memories to personal memory.\n```\n"
      ]
    },
    {
      "cell_type": "markdown",
      "metadata": {},
      "source": [
        "Then we use ``retrieve_from_memory`` to retrieve related memories.\n\n\n"
      ]
    },
    {
      "cell_type": "code",
      "execution_count": null,
      "metadata": {
        "collapsed": false
      },
      "outputs": [],
      "source": [
        "async def test_retrieve_from_memory():\n    \"\"\"Test retrieve_from_memory tool function interface\"\"\"\n    async with reme_long_term_memory:\n        # First record some content\n        await reme_long_term_memory.record_to_memory(\n            thinking=\"User is sharing travel preferences\",\n            content=[\n                \"I prefer to stay in homestays when traveling to Hangzhou\",\n            ],\n        )\n\n        # Then retrieve\n        result = await reme_long_term_memory.retrieve_from_memory(\n            keywords=[\"Hangzhou travel\", \"tea preference\"],\n        )\n        retrieved_text = \" \".join(\n            block.get(\"text\", \"\")\n            for block in result.content\n            if block.get(\"type\") == \"text\"\n        )\n        print(f\"Retrieved memories: {retrieved_text}\")"
      ]
    },
    {
      "cell_type": "markdown",
      "metadata": {},
      "source": [
        "output\n\n```console\nRetrieved memories: Keyword 'Hangzhou travel':\nuser prefers to stay in homestays when traveling to Hangzhou\n\nKeyword 'tea preference':\nuser prefers to stay in homestays when traveling to Hangzhou\n```\n"
      ]
    },
    {
      "cell_type": "markdown",
      "metadata": {},
      "source": [
        "Besides the tool function interface, we can also use the ``record`` method to directly record message conversations.\n\n"
      ]
    },
    {
      "cell_type": "code",
      "execution_count": null,
      "metadata": {
        "collapsed": false
      },
      "outputs": [],
      "source": [
        "async def test_record_direct():\n    \"\"\"Test record direct recording method\"\"\"\n    async with reme_long_term_memory:\n        await reme_long_term_memory.record(\n            msgs=[\n                Msg(\n                    role=\"user\",\n                    content=\"I work as a software engineer and prefer remote work\",\n                    name=\"user\",\n                ),\n                Msg(\n                    role=\"assistant\",\n                    content=\"Understood! You're a software engineer who values remote work flexibility.\",\n                    name=\"assistant\",\n                ),\n                Msg(\n                    role=\"user\",\n                    content=\"I usually start my day at 9 AM with a cup of coffee\",\n                    name=\"user\",\n                ),\n            ],\n        )\n        print(\"Successfully recorded conversation messages\")"
      ]
    },
    {
      "cell_type": "markdown",
      "metadata": {},
      "source": [
        "output\n\n```console\nSuccessfully recorded conversation messages\n```\n"
      ]
    },
    {
      "cell_type": "markdown",
      "metadata": {},
      "source": [
        "Similarly, we use the ``retrieve`` method to retrieve related memories.\n\n\n"
      ]
    },
    {
      "cell_type": "code",
      "execution_count": null,
      "metadata": {
        "collapsed": false
      },
      "outputs": [],
      "source": [
        "async def test_retrieve_direct():\n    \"\"\"Test retrieve direct retrieval method\"\"\"\n    async with reme_long_term_memory:\n        # First record some content\n        await reme_long_term_memory.record(\n            msgs=[\n                Msg(\n                    role=\"user\",\n                    content=\"I work as a software engineer and prefer remote work\",\n                    name=\"user\",\n                ),\n            ],\n        )\n\n        # Then retrieve\n        memories = await reme_long_term_memory.retrieve(\n            msg=Msg(\n                role=\"user\",\n                content=\"What do you know about my work preferences?\",\n                name=\"user\",\n            ),\n        )\n        print(\n            f\"Retrieved memories: {memories if memories else 'No memories found'}\",\n        )"
      ]
    },
    {
      "cell_type": "markdown",
      "metadata": {},
      "source": [
        "output\n\n```console\nRetrieved memories: user works as a software engineer and prefers remote work\n```\n"
      ]
    },
    {
      "cell_type": "markdown",
      "metadata": {},
      "source": [
        "### Integration with ReAct Agent\nIn AgentScope, the ``ReActAgent`` class receives a ``long_term_memory``\nparameter in its constructor, as well as a ``long_term_memory_mode`` parameter.\n\nIf ``long_term_memory_mode`` is set to ``agent_control`` or ``both``,\n``record_to_memory`` and ``retrieve_from_memory`` tool functions will be\nregistered, allowing the agent to autonomously manage long-term memory through tool calls.\n\n<div class=\"alert alert-info\"><h4>Note</h4><p>To achieve the best results, the ``\"agent_control\"`` mode may require</p></div>\n additional instructions in the system prompt.\n\n\n"
      ]
    },
    {
      "cell_type": "code",
      "execution_count": null,
      "metadata": {
        "collapsed": false
      },
      "outputs": [],
      "source": [
        "# Create ReAct agent with long-term memory (agent_control mode)\nasync def test_react_agent_with_reme():\n    \"\"\"Test ReActAgent integration with ReMe personal memory\"\"\"\n    async with reme_long_term_memory:\n        agent_with_reme = ReActAgent(\n            name=\"Friday\",\n            sys_prompt=(\n                \"You are a helpful assistant named Friday with long-term memory capabilities. \"\n                \"\\n\\n## Memory Management Guidelines:\\n\"\n                \"1. **Recording Memories**: When users share personal information, preferences, \"\n                \"habits, or facts about themselves, ALWAYS record them using `record_to_memory` \"\n                \"for future reference.\\n\"\n                \"\\n2. **Retrieving Memories**: BEFORE answering questions about the user's preferences, \"\n                \"past information, or personal details, you MUST FIRST call `retrieve_from_memory` \"\n                \"to check if you have any relevant stored information. Do NOT rely solely on the \"\n                \"current conversation context.\\n\"\n                \"\\n3. **When to Retrieve**: Call `retrieve_from_memory` when:\\n\"\n                \"   - User asks questions like 'what do I like?', 'what are my preferences?', \"\n                \"'what do you know about me?'\\n\"\n                \"   - User asks about their past behaviors, habits, or preferences\\n\"\n                \"   - User refers to information they mentioned before\\n\"\n                \"   - You need context about the user to provide personalized responses\\n\"\n                \"\\nAlways check your memory first before claiming you don't know something about the user.\"\n            ),\n            model=DashScopeChatModel(\n                model_name=\"qwen3-max\",\n                api_key=os.environ.get(\"DASHSCOPE_API_KEY\"),\n                stream=False,\n            ),\n            formatter=DashScopeChatFormatter(),\n            toolkit=Toolkit(),\n            memory=InMemoryMemory(),\n            long_term_memory=reme_long_term_memory,\n            long_term_memory_mode=\"agent_control\",  # Use agent_control mode\n        )\n\n        # User shares preferences\n        msg = Msg(\n            role=\"user\",\n            content=\"When I travel to Hangzhou, I prefer to stay in a homestay\",\n            name=\"user\",\n        )\n        response = await agent_with_reme(msg)\n        print(f\"Agent response: {response.get_text_content()}\")\n\n        # Clear short-term memory to test long-term memory\n        await agent_with_reme.memory.clear()\n\n        # Query preferences\n        msg2 = Msg(\n            role=\"user\",\n            content=\"what preference do I have?\",\n            name=\"user\",\n        )\n        response2 = await agent_with_reme(msg2)\n        print(f\"Agent response: {response2.get_text_content()}\")"
      ]
    },
    {
      "cell_type": "markdown",
      "metadata": {},
      "source": [
        "output\n\n```console\nsystem: {\n    \"type\": \"tool_result\",\n    \"id\": \"call_7de95a3382e241309b16cb9e\",\n    \"name\": \"retrieve_from_memory\",\n    \"output\": [\n        {\n            \"type\": \"text\",\n            \"text\": \"Keyword 'preference':\\nuser prefers to stay in a homestay when traveling to Hangzhou\"\n        }\n    ]\n}\nFriday: Based on what I know, you prefer to stay in a homestay when traveling to Hangzhou. Let me know if there's anything else you'd like me to remember or clarify!\nAgent response: Based on what I know, you prefer to stay in a homestay when traveling to Hangzhou. Let me know if there's anything else you'd like me to remember or clarify!\n```\n"
      ]
    },
    {
      "cell_type": "markdown",
      "metadata": {},
      "source": [
        "Then we clear the short-term memory and ask the agent about the user's preferences.\n\n\n"
      ]
    },
    {
      "cell_type": "code",
      "execution_count": null,
      "metadata": {
        "collapsed": false
      },
      "outputs": [],
      "source": [
        "async def retrieve_reme_preferences():\n    \"\"\"Retrieve user preferences from long-term memory\"\"\"\n    async with reme_long_term_memory:\n        # Create agent (reusing for demonstration completeness)\n        agent_with_reme = ReActAgent(\n            name=\"Friday\",\n            sys_prompt=\"You are an assistant with long-term memory capabilities.\",\n            model=DashScopeChatModel(\n                api_key=os.environ.get(\"DASHSCOPE_API_KEY\"),\n                model_name=\"qwen3-max\",\n                stream=False,\n            ),\n            formatter=DashScopeChatFormatter(),\n            toolkit=Toolkit(),\n            memory=InMemoryMemory(),\n            long_term_memory=reme_long_term_memory,\n            long_term_memory_mode=\"agent_control\",\n        )\n\n        # Clear short-term memory\n        await agent_with_reme.memory.clear()\n        # The agent will remember previous conversations\n        msg2 = Msg(\"user\", \"What are my preferences? Answer briefly.\", \"user\")\n        await agent_with_reme(msg2)"
      ]
    },
    {
      "cell_type": "markdown",
      "metadata": {},
      "source": [
        "output\n\n```console\nsystem: {\n    \"type\": \"tool_result\",\n    \"id\": \"call_e7d354e450684ceca331a8d9\",\n    \"name\": \"retrieve_from_memory\",\n    \"output\": [\n        {\n            \"type\": \"text\",\n            \"text\": \"No memories found for the given keywords.\"\n        }\n    ]\n}\nFriday: I don't have any recorded information about your preferences yet. Let me know what you like or need, and I can remember it for future reference!\n```\n"
      ]
    },
    {
      "cell_type": "markdown",
      "metadata": {},
      "source": [
        "## Customizing Long-Term Memory\nAgentScope provides the ``LongTermMemoryBase`` base class, which defines the basic\n\nDevelopers can inherit from ``LongTermMemoryBase`` to implement custom long-term\nmemory systems according to their needs\uff1a\n\n.. list-table:: Long-term memory classes in AgentScope\n    :header-rows: 1\n\n    * - Class\n      - Abstract Methods\n      - Description\n    * - ``LongTermMemoryBase``\n      - | ``record``\n        | ``retrieve``\n        | ``record_to_memory``\n        | ``retrieve_from_memory``\n      - - For ``\"static_control\"`` mode, you must implement the ``record`` and ``retrieve`` methods.\n        - For ``\"agent_control\"`` mode, the ``record_to_memory`` and ``retrieve_from_memory`` methods must be implemented.\n    * - ``Mem0LongTermMemory``\n      - | ``record``\n        | ``retrieve``\n        | ``record_to_memory``\n        | ``retrieve_from_memory``\n      - Long-term memory implementation based on the mem0 library, supporting vector storage and retrieval.\n    * - ``ReMePersonalLongTermMemory``\n      - | ``record``\n        | ``retrieve``\n        | ``record_to_memory``\n        | ``retrieve_from_memory``\n      - Personal memory implementation based on the ReMe framework, providing powerful memory management and retrieval capabilities.\n\n\n\n\n## Further Reading\n- `memory` - Basic memory system\n- `agent` - ReAct agent\n- `tool` - Tool system\n\n"
      ]
    }
  ],
  "metadata": {
    "kernelspec": {
      "display_name": "Python 3",
      "language": "python",
      "name": "python3"
    },
    "language_info": {
      "codemirror_mode": {
        "name": "ipython",
        "version": 3
      },
      "file_extension": ".py",
      "mimetype": "text/x-python",
      "name": "python",
      "nbconvert_exporter": "python",
      "pygments_lexer": "ipython3",
      "version": "3.10.19"
    }
  },
  "nbformat": 4,
  "nbformat_minor": 0
}