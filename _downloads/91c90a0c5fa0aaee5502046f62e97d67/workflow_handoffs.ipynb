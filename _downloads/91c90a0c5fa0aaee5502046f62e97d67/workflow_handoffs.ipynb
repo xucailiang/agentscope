{
  "cells": [
    {
      "cell_type": "markdown",
      "metadata": {},
      "source": [
        "\n# Handoffs\n\n.. figure:: ../../_static/images/handoffs.png\n   :width: 80%\n   :align: center\n   :alt: Orchestrator-Workers Workflow\n\n   *Handoffs example*\n\nIt's very simple to implement the Orchestrator-Workers workflow with tool calls in AgentScope.\nFirst, we create a function to allow the orchestrator to create workers dynamically.\n"
      ]
    },
    {
      "cell_type": "code",
      "execution_count": null,
      "metadata": {
        "collapsed": false
      },
      "outputs": [],
      "source": [
        "import asyncio\nimport os\n\nfrom agentscope.agent import ReActAgent\nfrom agentscope.formatter import DashScopeChatFormatter\nfrom agentscope.memory import InMemoryMemory\nfrom agentscope.message import Msg\nfrom agentscope.model import DashScopeChatModel\nfrom agentscope.tool import (\n    ToolResponse,\n    Toolkit,\n    execute_python_code,\n)\n\n\n# The tool function to create a worker\nasync def create_worker(\n    task_description: str,\n) -> ToolResponse:\n    \"\"\"Create a worker to finish the given task. The worker is equipped with python execution tool.\n\n    Args:\n        task_description (``str``):\n            The description of the task to be finished by the worker.\n    \"\"\"\n    # Equip the worker agent with some tools\n    toolkit = Toolkit()\n    toolkit.register_tool_function(execute_python_code)\n\n    # Create a worker agent\n    worker = ReActAgent(\n        name=\"Worker\",\n        sys_prompt=\"You're a worker agent. Your target is to finish the given task.\",\n        model=DashScopeChatModel(\n            model_name=\"qwen-max\",\n            api_key=os.environ[\"DASHSCOPE_API_KEY\"],\n            stream=False,\n        ),\n        formatter=DashScopeChatFormatter(),\n        toolkit=toolkit,\n    )\n    # Let the worker finish the task\n    res = await worker(Msg(\"user\", task_description, \"user\"))\n    return ToolResponse(\n        content=res.get_content_blocks(\"text\"),\n    )\n\n\nasync def run_handoffs() -> None:\n    \"\"\"Example of handoffs workflow.\"\"\"\n    # Initialize the orchestrator agent\n    toolkit = Toolkit()\n    toolkit.register_tool_function(create_worker)\n\n    orchestrator = ReActAgent(\n        name=\"Orchestrator\",\n        sys_prompt=\"You're an orchestrator agent. Your target is to finish the given task by decomposing it into smaller tasks and creating workers to finish them.\",\n        model=DashScopeChatModel(\n            model_name=\"qwen-max\",\n            api_key=os.environ[\"DASHSCOPE_API_KEY\"],\n            stream=False,\n        ),\n        memory=InMemoryMemory(),\n        formatter=DashScopeChatFormatter(),\n        toolkit=toolkit,\n    )\n\n    # The task description\n    task_description = \"Execute hello world in Python\"\n\n    # Create a worker to finish the task\n    await orchestrator(Msg(\"user\", task_description, \"user\"))\n\n\nasyncio.run(run_handoffs())"
      ]
    }
  ],
  "metadata": {
    "kernelspec": {
      "display_name": "Python 3",
      "language": "python",
      "name": "python3"
    },
    "language_info": {
      "codemirror_mode": {
        "name": "ipython",
        "version": 3
      },
      "file_extension": ".py",
      "mimetype": "text/x-python",
      "name": "python",
      "nbconvert_exporter": "python",
      "pygments_lexer": "ipython3",
      "version": "3.10.19"
    }
  },
  "nbformat": 4,
  "nbformat_minor": 0
}