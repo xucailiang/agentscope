{
  "cells": [
    {
      "cell_type": "markdown",
      "metadata": {},
      "source": [
        "\n\n# Token\n\nAgentScope provides a token counter module under ``agentscope.token`` to\ncalculate the number of tokens in the given messages, allowing developers\nto estimate the number of tokens in a prompt before sending it to an API.\n\nSpecifically, the following token counters are available:\n\n.. list-table::\n    :header-rows: 1\n\n    * - Provider\n      - Class\n      - Support Image Data\n      - Support Tools\n    * - Anthropic\n      - ``AnthropicTokenCounter``\n      - \u2705\n      - \u2705\n    * - OpenAI\n      - ``OpenAITokenCounter``\n      - \u2705\n      - \u2705\n    * - Gemini\n      - ``GeminiTokenCounter``\n      - \u2705\n      - \u2705\n    * - HuggingFace\n      - ``HuggingFaceTokenCounter``\n      - Depends on the model\n      - Depends on the model\n\n.. tip:: The formatter module has integrated the token counters to support prompt truncation. Refer to the `prompt` section for more details.\n\n<div class=\"alert alert-info\"><h4>Note</h4><p>For DashScope models, the dashscope library doesn't provide a token counting API. So we recommend using the HuggingFace token counter instead.</p></div>\n\nWe show an example of using the OpenAI token counter to count the number of tokens:\n"
      ]
    },
    {
      "cell_type": "code",
      "execution_count": null,
      "metadata": {
        "collapsed": false
      },
      "outputs": [],
      "source": [
        "import asyncio\nfrom agentscope.token import OpenAITokenCounter\n\n\nasync def example_token_counting():\n    # Example messages\n    messages = [\n        {\"role\": \"user\", \"content\": \"Hello!\"},\n        {\"role\": \"assistant\", \"content\": \"Hi, how can I help you?\"},\n    ]\n\n    # OpenAI token counting\n    openai_counter = OpenAITokenCounter(model_name=\"gpt-4.1\")\n    n_tokens = await openai_counter.count(messages)\n\n    print(f\"Number of tokens: {n_tokens}\")\n\n\nasyncio.run(example_token_counting())"
      ]
    },
    {
      "cell_type": "markdown",
      "metadata": {},
      "source": [
        "## Further Reading\n\n- `prompt`\n\n\n"
      ]
    }
  ],
  "metadata": {
    "kernelspec": {
      "display_name": "Python 3",
      "language": "python",
      "name": "python3"
    },
    "language_info": {
      "codemirror_mode": {
        "name": "ipython",
        "version": 3
      },
      "file_extension": ".py",
      "mimetype": "text/x-python",
      "name": "python",
      "nbconvert_exporter": "python",
      "pygments_lexer": "ipython3",
      "version": "3.10.19"
    }
  },
  "nbformat": 4,
  "nbformat_minor": 0
}