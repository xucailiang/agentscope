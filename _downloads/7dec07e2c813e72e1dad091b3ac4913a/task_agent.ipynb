{
  "cells": [
    {
      "cell_type": "markdown",
      "metadata": {},
      "source": [
        "\n\n# Agent\n\nIn this tutorial, we first focus on introducing the ReAct agent in AgentScope,\nthen we briefly introduce how to customize your own agent from scratch.\n\n## ReAct Agent\n\nIn AgentScope, the ``ReActAgent`` class integrates various features into a final implementation, including\n\n.. list-table:: Features of ``ReActAgent``\n    :header-rows: 1\n\n    * - Feature\n      - Reference\n    * - Support realtime steering\n      -\n    * - Support parallel tool calls\n      -\n    * - Support structured output\n      -\n    * - Support fine-grained MCP control\n      - `mcp`\n    * - Support agent-controlled tools management (Meta tool)\n      - `tool`\n    * - Support self-controlled long-term memory\n      - `long-term-memory`\n    * - Support automatic state management\n      - `state`\n\n\nDue to limited space, in this tutorial we only demonstrate the first three\nfeatures of ``ReActAgent`` class, leaving the others to the corresponding sections\nlisted above.\n"
      ]
    },
    {
      "cell_type": "code",
      "execution_count": null,
      "metadata": {
        "collapsed": false
      },
      "outputs": [],
      "source": [
        "import asyncio\nimport json\nimport os\nfrom datetime import datetime\nimport time\n\nfrom pydantic import BaseModel, Field\n\nfrom agentscope.agent import ReActAgent\nfrom agentscope.formatter import DashScopeChatFormatter\nfrom agentscope.memory import InMemoryMemory\nfrom agentscope.message import TextBlock, Msg\nfrom agentscope.model import DashScopeChatModel\nfrom agentscope.tool import Toolkit, ToolResponse"
      ]
    },
    {
      "cell_type": "markdown",
      "metadata": {},
      "source": [
        "### Realtime Steering\n\nThe realtime steering allows user to interrupt the agent's reply at any time,\nwhich is implemented based on the asyncio cancellation mechanism.\n\nSpecifically, when calling the ``interrupt`` method of the agent, it will\ncancel the current reply task, and execute the ``handle_interrupt`` method\nfor postprocessing.\n\n.. hint:: With the feature of supporting streaming tool results in\n `tool`, users can interrupt the tool execution if it takes too long or\n deviates from user expectations by Ctrl+C in the terminal or calling the\n ``interrupt`` method of the agent in your code.\n\nThe interruption logic has been implemented in the ``AgentBase`` class as a\nbasic feature, leaving a ``handle_interrupt`` method for users to customize the\npost-processing of interruption as follows:\n\n```python\n# code snippet of AgentBase\nclass AgentBase:\n    ...\n    async def __call__(self, *args: Any, **kwargs: Any) -> Msg:\n        ...\n        reply_msg: Msg | None = None\n        try:\n            self._reply_task = asyncio.current_task()\n            reply_msg = await self.reply(*args, **kwargs)\n\n        except asyncio.CancelledError:\n            # Catch the interruption and handle it by the handle_interrupt method\n            reply_msg = await self.handle_interrupt(*args, **kwargs)\n\n        ...\n\n    @abstractmethod\n    async def handle_interrupt(self, *args: Any, **kwargs: Any) -> Msg:\n        pass\n```\nIn ``ReActAgent`` class, we return a fixed message \"I noticed that you have\ninterrupted me. What can I do for you?\" as follows:\n\n.. figure:: ../../_static/images/interruption_en.gif\n    :width: 100%\n    :align: center\n    :class: bordered-image\n    :alt: Example of interruption\n\n    Example of interruption\n\nYou can override it with your own implementation, for example, calling the LLM\nto generate a simple response to the interruption.\n\n\n### Parallel Tool Calls\n``ReActAgent`` supports parallel tool calls by providing a ``parallel_tool_calls``\nargument in its constructor.\nWhen multiple tool calls are generated, and ``parallel_tool_calls`` is set to ``True``,\nthey will be executed in parallel by the ``asyncio.gather`` function.\n\n<div class=\"alert alert-info\"><h4>Note</h4><p>The parallel tool execution in ``ReActAgent`` is implemented based on ``asyncio.gather``. Therefore, to maximize the effect of parallel tool execution, both the tool function itself and the logic within it must be asynchronous.</p></div>\n\n<div class=\"alert alert-info\"><h4>Note</h4><p>When running, please ensure that parallel tool calling is supported at the model level and the corresponding parameters are set correctly (can be passed through ``generate_kwargs``). For example, for the DashScope API, you need to set ``parallel_tool_calls`` to ``True``, otherwise parallel tool calling will not be possible.</p></div>\n\n"
      ]
    },
    {
      "cell_type": "code",
      "execution_count": null,
      "metadata": {
        "collapsed": false
      },
      "outputs": [],
      "source": [
        "# prepare a tool function\nasync def example_tool_function(tag: str) -> ToolResponse:\n    \"\"\"A sample example tool function\"\"\"\n    start_time = datetime.now().strftime(\"%H:%M:%S.%f\")\n\n    # Sleep for 3 seconds to simulate a long-running task\n    await asyncio.sleep(3)\n\n    end_time = datetime.now().strftime(\"%H:%M:%S.%f\")\n    return ToolResponse(\n        content=[\n            TextBlock(\n                type=\"text\",\n                text=f\"Tag {tag} started at {start_time} and ended at {end_time}. \",\n            ),\n        ],\n    )\n\n\ntoolkit = Toolkit()\ntoolkit.register_tool_function(example_tool_function)\n\n# Create an ReAct agent\nagent = ReActAgent(\n    name=\"Jarvis\",\n    sys_prompt=\"You're a helpful assistant named Jarvis.\",\n    model=DashScopeChatModel(\n        model_name=\"qwen-max\",\n        api_key=os.environ[\"DASHSCOPE_API_KEY\"],\n        # Preset the generation kwargs to enable parallel tool calls\n        generate_kwargs={\n            \"parallel_tool_calls\": True,\n        },\n    ),\n    memory=InMemoryMemory(),\n    formatter=DashScopeChatFormatter(),\n    toolkit=toolkit,\n    parallel_tool_calls=True,\n)\n\n\nasync def example_parallel_tool_calls() -> None:\n    \"\"\"Example of parallel tool calls\"\"\"\n    # prompt the agent to generate two tool calls at once\n    await agent(\n        Msg(\n            \"user\",\n            \"Generate two tool calls of the 'example_tool_function' function with tag as 'tag1' and 'tag2' AT ONCE so that they can execute in parallel.\",\n            \"user\",\n        ),\n    )\n\n\nasyncio.run(example_parallel_tool_calls())"
      ]
    },
    {
      "cell_type": "markdown",
      "metadata": {},
      "source": [
        "### Structured Output\nTo generate a structured output, the ``ReActAgent`` instance receives a child class\nof the ``pydantic.BaseModel`` as the ``structured_model`` argument in its ``__call__`` function.\nThen we can get the structured output from the ``metadata`` field of the returned message.\n\n\nTaking introducing Einstein as an example:\n\n\n"
      ]
    },
    {
      "cell_type": "code",
      "execution_count": null,
      "metadata": {
        "collapsed": false
      },
      "outputs": [],
      "source": [
        "# Create an ReAct agent\nagent = ReActAgent(\n    name=\"Jarvis\",\n    sys_prompt=\"You're a helpful assistant named Jarvis.\",\n    model=DashScopeChatModel(\n        model_name=\"qwen-max\",\n        api_key=os.environ[\"DASHSCOPE_API_KEY\"],\n        # Preset the generation kwargs to enable parallel tool calls\n        generate_kwargs={\n            \"parallel_tool_calls\": True,\n        },\n    ),\n    memory=InMemoryMemory(),\n    formatter=DashScopeChatFormatter(),\n    toolkit=Toolkit(),\n    parallel_tool_calls=True,\n)\n\n\n# The structured model\nclass Model(BaseModel):\n    name: str = Field(description=\"The name of the person\")\n    description: str = Field(\n        description=\"A one-sentence description of the person\",\n    )\n    age: int = Field(description=\"The age\")\n    honor: list[str] = Field(description=\"A list of honors of the person\")\n\n\nasync def example_structured_output() -> None:\n    \"\"\"The example structured output\"\"\"\n    res = await agent(\n        Msg(\n            \"user\",\n            \"Introduce Einstein\",\n            \"user\",\n        ),\n        structured_model=Model,\n    )\n    print(\"\\nThe structured output:\")\n    print(json.dumps(res.metadata, indent=4))\n\n\nasyncio.run(example_structured_output())"
      ]
    },
    {
      "cell_type": "markdown",
      "metadata": {},
      "source": [
        "## Customizing Agent\nAgentScope provides two base classes, ``AgentBase`` and ``ReActAgentBase``, which\ndiffer in the abstract methods they define and the hooks they support.\nSpecifically, the ``ReActAgentBase`` extends ``AgentBase`` with additional ``_reasoning`` and ``_acting``\nabstract methods, as well as their pre- and post- hooks.\n\nDevelopers can choose to inherit from either of these base classes based on their needs.\nWe summarize the agent under ``agentscope.agent`` module as follows:\n\n.. list-table:: Agent classes in AgentScope\n    :header-rows: 1\n\n    * - Class\n      - Abstract Method\n      - Support Hooks\n      - Description\n    * - ``AgentBase``\n      - | ``reply``\n        | ``observe``\n        | ``print``\n        | ``handle_interrupt``\n      - | pre\\_/post_reply\n        | pre\\_/post_observe\n        | pre\\_/post_print\n      - The base class for all agents, providing the basic interface and hooks.\n    * - ``ReActAgentBase``\n      - | ``reply``\n        | ``observe``\n        | ``print``\n        | ``handle_interrupt``\n        | ``_reasoning``\n        | ``_acting``\n      - | pre\\_/post_reply\n        | pre\\_/post_observe\n        | pre\\_/post_print\n        | pre\\_/post_reasoning\n        | pre\\_/post_acting\n      - The abstract class for ReAct agent, extending ``AgentBase`` with reasoning and acting abstract methods and their hooks.\n    * - ``ReActAgent``\n      - \\-\n      - | pre\\_/post_reply\n        | pre\\_/post_observe\n        | pre\\_/post_print\n        | pre\\_/post_reasoning\n        | pre\\_/post_acting\n      - An implementation of ``ReActAgentBase``\n    * - ``UserAgent``\n      -\n      -\n      - A special agent that represents the user, used to interact with the agent\n\n\n\n## Further Reading\n- `tool`\n- `hook`\n\n\n"
      ]
    }
  ],
  "metadata": {
    "kernelspec": {
      "display_name": "Python 3",
      "language": "python",
      "name": "python3"
    },
    "language_info": {
      "codemirror_mode": {
        "name": "ipython",
        "version": 3
      },
      "file_extension": ".py",
      "mimetype": "text/x-python",
      "name": "python",
      "nbconvert_exporter": "python",
      "pygments_lexer": "ipython3",
      "version": "3.10.19"
    }
  },
  "nbformat": 4,
  "nbformat_minor": 0
}