{
  "cells": [
    {
      "cell_type": "markdown",
      "metadata": {},
      "source": [
        "\n\n# Installation\n\nAgentScope requires Python 3.10 or higher. You can install from source or pypi.\n\n## From PyPI\n```bash\npip install agentscope\n```\n## From Source\nTo install AgentScope from source, you need to clone the repository from\nGitHub and install by the following commands\n\n```bash\ngit clone -b main https://github.com/agentscope-ai/agentscope\ncd agentscope\npip install -e .\n```\nTo ensure AgentScope is installed successfully, check via executing the following code:\n"
      ]
    },
    {
      "cell_type": "code",
      "execution_count": null,
      "metadata": {
        "collapsed": false
      },
      "outputs": [],
      "source": [
        "import agentscope\n\nprint(agentscope.__version__)"
      ]
    },
    {
      "cell_type": "markdown",
      "metadata": {},
      "source": [
        "## Extra Dependencies\n\nTo satisfy the requirements of different functionalities, AgentScope provides\nextra dependencies that can be installed based on your needs.\n\n- full: Including extra dependencies for model APIs and tool functions\n- dev: Development dependencies, including testing and documentation tools\n\nFor example, when installing the full dependencies, the installation command varies depending on your operating system.\n\nFor Windows users:\n\n```bash\npip install agentscope[full]\n```\nFor Mac and Linux users:\n\n```bash\npip install agentscope\\[full\\]\n```\n"
      ]
    }
  ],
  "metadata": {
    "kernelspec": {
      "display_name": "Python 3",
      "language": "python",
      "name": "python3"
    },
    "language_info": {
      "codemirror_mode": {
        "name": "ipython",
        "version": 3
      },
      "file_extension": ".py",
      "mimetype": "text/x-python",
      "name": "python",
      "nbconvert_exporter": "python",
      "pygments_lexer": "ipython3",
      "version": "3.10.19"
    }
  },
  "nbformat": 4,
  "nbformat_minor": 0
}