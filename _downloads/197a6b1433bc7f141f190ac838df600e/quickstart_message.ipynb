{
  "cells": [
    {
      "cell_type": "markdown",
      "metadata": {},
      "source": [
        "\n\n# Create Message\n\nMessage is the core concept in AgentScope, used to support multimodal data, tools API, information storage/exchange and prompt construction.\n\nA message consists of four fields:\n\n- ``name``,\n- ``role``,\n- ``content``, and\n- ``metadata``\n\nThe types and descriptions of these fields are as follows:\n\n.. list-table:: The fields in a message object\n    :header-rows: 1\n\n    * - Field\n      - Type\n      - Description\n    * - name\n      - ``str``\n      - The name/identity of the message sender\n    * - role\n      - | ``Literal[``\n        |     ``\"system\",``\n        |     ``\"assistant\",``\n        |     ``\"user\"``\n        | ``]``\n      - The role of the message sender, which must be one of \"system\", \"assistant\", or \"user\".\n    * - content\n      - ``str | list[ContentBlock]``\n      - The data of the message, which can be a string or a list of blocks.\n    * - metadata\n      - ``dict[str, JSONSerializableObject] | None``\n      - A dict containing additional metadata about the message, usually used for structured output.\n\n.. tip:: - In application with multiple identities, the ``name`` field is used to distinguish between different identities.\n - The ``metadata`` field is recommended for structured output, which won't be included in the prompt construction.\n\nNext, we introduce the supported blocks in the ``content`` field by their corresponding scenarios.\n"
      ]
    },
    {
      "cell_type": "code",
      "execution_count": null,
      "metadata": {
        "collapsed": false
      },
      "outputs": [],
      "source": [
        "from agentscope.message import (\n    Msg,\n    Base64Source,\n    TextBlock,\n    ThinkingBlock,\n    ImageBlock,\n    AudioBlock,\n    VideoBlock,\n    ToolUseBlock,\n    ToolResultBlock,\n)\nimport json"
      ]
    },
    {
      "cell_type": "markdown",
      "metadata": {},
      "source": [
        "## Creating Textual Message\nCreating a message object by providing the ``name``, ``role``, and ``content`` fields.\n\n\n"
      ]
    },
    {
      "cell_type": "code",
      "execution_count": null,
      "metadata": {
        "collapsed": false
      },
      "outputs": [],
      "source": [
        "msg = Msg(\n    name=\"Jarvis\",\n    role=\"assistant\",\n    content=\"Hi! How can I help you?\",\n)\n\nprint(f\"The name of the sender: {msg.name}\")\nprint(f\"The role of the sender: {msg.role}\")\nprint(f\"The content of the message: {msg.content}\")"
      ]
    },
    {
      "cell_type": "markdown",
      "metadata": {},
      "source": [
        "## Creating Multimodal Message\nThe message class supports multimodal content by providing different content blocks:\n\n.. list-table:: Multimodal content blocks in AgentScope\n    :header-rows: 1\n\n    * - Class\n      - Description\n      - Example\n    * - TextBlock\n      - Pure text data\n      -```python\nTextBlock(\n   type=\"text\",\n   text=\"Hello, world!\"\n)\n```\n    * - ImageBlock\n      - The image data\n      -```python\nImageBlock(\n   type=\"image\",\n   source=URLSource(\n       type=\"url\",\n       url=\"https://example.com/image.jpg\"\n   )\n)\n```\n    * - AudioBlock\n      - The audio data\n      -```python\nAudioBlock(\n   type=\"audio\",\n   source=URLSource(\n       type=\"url\",\n       url=\"https://example.com/audio.mp3\"\n   )\n)\n```\n    * - VideoBlock\n      - The video data\n      -```python\nVideoBlock(\n   type=\"video\",\n   source=URLSource(\n       type=\"url\",\n       url=\"https://example.com/video.mp4\"\n   )\n)\n```\nFor ``ImageBlock``, ``AudioBlock`` and ``VideoBlock``, you can use either a base64 encoded string as the source:\n\n\n"
      ]
    },
    {
      "cell_type": "code",
      "execution_count": null,
      "metadata": {
        "collapsed": false
      },
      "outputs": [],
      "source": [
        "msg = Msg(\n    name=\"Jarvis\",\n    role=\"assistant\",\n    content=[\n        TextBlock(\n            type=\"text\",\n            text=\"This is a multimodal message with base64 encoded data.\",\n        ),\n        ImageBlock(\n            type=\"image\",\n            source=Base64Source(\n                type=\"base64\",\n                media_type=\"image/jpeg\",\n                data=\"/9j/4AAQSkZ...\",\n            ),\n        ),\n        AudioBlock(\n            type=\"audio\",\n            source=Base64Source(\n                type=\"base64\",\n                media_type=\"audio/mpeg\",\n                data=\"SUQzBAAAAA...\",\n            ),\n        ),\n        VideoBlock(\n            type=\"video\",\n            source=Base64Source(\n                type=\"base64\",\n                media_type=\"video/mp4\",\n                data=\"AAAAIGZ0eX...\",\n            ),\n        ),\n    ],\n)"
      ]
    },
    {
      "cell_type": "markdown",
      "metadata": {},
      "source": [
        "## Creating Thinking Message\nThe ``ThinkingBlock`` is to support reasoning models, containing the thinking process of the model.\n\n\n"
      ]
    },
    {
      "cell_type": "code",
      "execution_count": null,
      "metadata": {
        "collapsed": false
      },
      "outputs": [],
      "source": [
        "msg_thinking = Msg(\n    name=\"Jarvis\",\n    role=\"assistant\",\n    content=[\n        ThinkingBlock(\n            type=\"thinking\",\n            thinking=\"I'm building an example for thinking block in AgentScope.\",\n        ),\n        TextBlock(\n            type=\"text\",\n            text=\"This is an example for thinking block.\",\n        ),\n    ],\n)"
      ]
    },
    {
      "cell_type": "markdown",
      "metadata": {},
      "source": [
        "\n## Creating Tool Use/Result Message\nThe ``ToolUseBlock`` and ``ToolResultBlock`` are to support tools API:\n\n\n"
      ]
    },
    {
      "cell_type": "code",
      "execution_count": null,
      "metadata": {
        "collapsed": false
      },
      "outputs": [],
      "source": [
        "msg_tool_call = Msg(\n    name=\"Jarvis\",\n    role=\"assistant\",\n    content=[\n        ToolUseBlock(\n            type=\"tool_use\",\n            id=\"343\",\n            name=\"get_weather\",\n            input={\n                \"location\": \"Beijing\",\n            },\n        ),\n    ],\n)\n\nmsg_tool_res = Msg(\n    name=\"system\",\n    role=\"system\",\n    content=[\n        ToolResultBlock(\n            type=\"tool_result\",\n            id=\"343\",\n            name=\"get_weather\",\n            output=\"The weather in Beijing is sunny with a temperature of 25\u00b0C.\",\n        ),\n    ],\n)"
      ]
    },
    {
      "cell_type": "markdown",
      "metadata": {},
      "source": [
        ".. tip:: Refer to the `tool` section for more information about tools API in AgentScope.\n\n## Serialization and Deserialization\nMessage object can be serialized and deserialized by ``to_dict`` and ``from_dict`` methods, respectively.\n\n"
      ]
    },
    {
      "cell_type": "code",
      "execution_count": null,
      "metadata": {
        "collapsed": false
      },
      "outputs": [],
      "source": [
        "serialized_msg = msg.to_dict()\n\nprint(type(serialized_msg))\nprint(json.dumps(serialized_msg, indent=4))"
      ]
    },
    {
      "cell_type": "markdown",
      "metadata": {},
      "source": [
        "Deserialize a message from a string in JSON format.\n\n"
      ]
    },
    {
      "cell_type": "code",
      "execution_count": null,
      "metadata": {
        "collapsed": false
      },
      "outputs": [],
      "source": [
        "new_msg = Msg.from_dict(serialized_msg)\n\nprint(type(new_msg))\nprint(f'The sender of the message: \"{new_msg.name}\"')\nprint(f'The role of the sender: \"{new_msg.role}\"')\nprint(f'The content of the message: \"{json.dumps(new_msg.content, indent=4)}\"')"
      ]
    },
    {
      "cell_type": "markdown",
      "metadata": {},
      "source": [
        "## Property Functions\nTo ease the use of message object, AgentScope provides these functions:\n\n.. list-table:: Functions of the message object\n  :header-rows: 1\n\n  * - Function\n    - Parameters\n    - Description\n  * - get_text_content\n    - \\-\n    - Gather content from all ``TextBlock`` in to a single string (separated by \"\\\\n\").\n  * - get_content_blocks\n    - ``block_type``\n    - Return a list of content blocks of the specified type. If ``block_type`` not provided, return content in blocks format.\n  * - has_content_blocks\n    - ``block_type``\n    - Check whether the message has content blocks of the specified type. The ``str`` content is considered as a ``TextBlock`` type.\n\n"
      ]
    }
  ],
  "metadata": {
    "kernelspec": {
      "display_name": "Python 3",
      "language": "python",
      "name": "python3"
    },
    "language_info": {
      "codemirror_mode": {
        "name": "ipython",
        "version": 3
      },
      "file_extension": ".py",
      "mimetype": "text/x-python",
      "name": "python",
      "nbconvert_exporter": "python",
      "pygments_lexer": "ipython3",
      "version": "3.10.19"
    }
  },
  "nbformat": 4,
  "nbformat_minor": 0
}