{
  "cells": [
    {
      "cell_type": "markdown",
      "metadata": {},
      "source": [
        "\n\n# Tool\n\nTo ensure accurate and reliable tool parsing, AgentScope fully embraces the use of tools API with the following features:\n\n- Support **automatic** tool parsing from Python functions with their docstrings\n- Support both **synchronous and asynchronous** tool functions\n- Support **streaming** tool responses (either synchronous or asynchronous generators)\n- Support **dynamic extension** to the tool JSON Schema\n- Support **interrupting** the tool execution with proper signal handling\n- Support **autonomous tool management** by agents\n\nAll above features are implemented by the ``Toolkit`` class in AgentScope, which is responsible for managing tool functions and their execution.\n\n.. tip:: The support of MCP (Model Context Protocol) refers to the `mcp` section.\n"
      ]
    },
    {
      "cell_type": "code",
      "execution_count": null,
      "metadata": {
        "collapsed": false
      },
      "outputs": [],
      "source": [
        "import asyncio\nimport inspect\nimport json\nfrom typing import Any, AsyncGenerator\n\nfrom pydantic import BaseModel, Field\n\nimport agentscope\nfrom agentscope.message import TextBlock, ToolUseBlock\nfrom agentscope.tool import ToolResponse, Toolkit, execute_python_code"
      ]
    },
    {
      "cell_type": "markdown",
      "metadata": {},
      "source": [
        "## Tool Function\nIn AgentScope, a tool function is a Python function that\n\n- returns a ``ToolResponse`` object or a generator that yields ``ToolResponse`` objects\n- has a docstring that describes the tool's functionality and parameters\n\nA template of a tool function is as follows:\n\n"
      ]
    },
    {
      "cell_type": "code",
      "execution_count": null,
      "metadata": {
        "collapsed": false
      },
      "outputs": [],
      "source": [
        "def tool_function(a: int, b: str) -> ToolResponse:\n    \"\"\"{function description}\n\n    Args:\n        a (int):\n            {description of the first parameter}\n        b (str):\n            {description of the second parameter}\n    \"\"\""
      ]
    },
    {
      "cell_type": "markdown",
      "metadata": {},
      "source": [
        ".. tip:: Instance method and class method can also be used as tool functions, and the ``self`` and ``cls`` parameters will be ignored.\n\nAgentScope provides several built-in tool functions under the ``agentscope.tool`` module, such as ``execute_python_code``, ``execute_shell_command`` and text file write/read functions.\n\n\n"
      ]
    },
    {
      "cell_type": "code",
      "execution_count": null,
      "metadata": {
        "collapsed": false
      },
      "outputs": [],
      "source": [
        "print(\"Built-in Tool Functions:\")\nfor _ in agentscope.tool.__all__:\n    if _ not in [\"Toolkit\", \"ToolResponse\"]:\n        print(_)"
      ]
    },
    {
      "cell_type": "markdown",
      "metadata": {},
      "source": [
        "## Toolkit\nThe ``Toolkit`` class is designed to manage tool functions, extracting their JSON Schema from docstrings and providing a unified interface for tool execution.\n\n### Basic Usage\nThe basic functionality of the ``Toolkit`` class is to register tool functions and execute them.\n\n\n"
      ]
    },
    {
      "cell_type": "code",
      "execution_count": null,
      "metadata": {
        "collapsed": false
      },
      "outputs": [],
      "source": [
        "# Prepare a custom tool function\nasync def my_search(query: str, api_key: str) -> ToolResponse:\n    \"\"\"A simple example tool function.\n\n    Args:\n        query (str):\n            The search query.\n        api_key (str):\n            The API key for authentication.\n    \"\"\"\n    return ToolResponse(\n        content=[\n            TextBlock(\n                type=\"text\",\n                text=f\"Searching for '{query}' with API key '{api_key}'\",\n            ),\n        ],\n    )\n\n\n# Register the tool function in a toolkit\ntoolkit = Toolkit()\ntoolkit.register_tool_function(my_search)"
      ]
    },
    {
      "cell_type": "markdown",
      "metadata": {},
      "source": [
        "When registering a tool function, you can get its JSON Schema by calling the ``get_json_schemas`` method.\n\n\n"
      ]
    },
    {
      "cell_type": "code",
      "execution_count": null,
      "metadata": {
        "collapsed": false
      },
      "outputs": [],
      "source": [
        "print(\"Tool JSON Schemas:\")\nprint(json.dumps(toolkit.get_json_schemas(), indent=4, ensure_ascii=False))"
      ]
    },
    {
      "cell_type": "markdown",
      "metadata": {},
      "source": [
        "``Toolkit`` also allows developers to preset the arguments for tool functions, especially useful for API keys or other sensitive information.\n\n\n"
      ]
    },
    {
      "cell_type": "code",
      "execution_count": null,
      "metadata": {
        "collapsed": false
      },
      "outputs": [],
      "source": [
        "# Clear the toolkit first\ntoolkit.clear()\n\n# Register tool function with preset keyword arguments\ntoolkit.register_tool_function(my_search, preset_kwargs={\"api_key\": \"xxx\"})\n\nprint(\"Tool JSON Schemas with Preset Arguments:\")\nprint(json.dumps(toolkit.get_json_schemas(), indent=4, ensure_ascii=False))"
      ]
    },
    {
      "cell_type": "markdown",
      "metadata": {},
      "source": [
        "In ``Toolkit``, the ``call_tool_function`` method takes a tool use block as input and executes the corresponding tool function, returning **a unified asynchronous generator** that yields ``ToolResponse`` objects.\n\n\n"
      ]
    },
    {
      "cell_type": "code",
      "execution_count": null,
      "metadata": {
        "collapsed": false
      },
      "outputs": [],
      "source": [
        "async def example_tool_execution() -> None:\n    \"\"\"Example of executing a tool call.\"\"\"\n    res = await toolkit.call_tool_function(\n        ToolUseBlock(\n            type=\"tool_use\",\n            id=\"123\",\n            name=\"my_search\",\n            input={\"query\": \"AgentScope\"},\n        ),\n    )\n\n    # Only one tool response is expected in this case\n    print(\"Tool Response:\")\n    async for tool_response in res:\n        print(tool_response)\n\n\nasyncio.run(example_tool_execution())"
      ]
    },
    {
      "cell_type": "markdown",
      "metadata": {},
      "source": [
        "### Extending JSON Schema Dynamically\n\nToolkit allows to extend the JSON schemas of tool functions dynamically by calling the ``set_extended_model`` method.\nSuch feature allows to add more parameters to the tool function without modifying its original definition.\n\n.. tip:: Related scenarios include dynamic `structured-output` and CoT (Chain of Thought) reasoning\n\n<div class=\"alert alert-info\"><h4>Note</h4><p>The function to be extended should accept variable keyword arguments (``**kwargs``), so that the additional fields can be passed to it.</p></div>\n\nTaking the CoT reasoning as an example, we can extend all tool functions with a ``thinking`` field, allowing the agent to summarize the current state and then decide what to do next.\n\n\n"
      ]
    },
    {
      "cell_type": "code",
      "execution_count": null,
      "metadata": {
        "collapsed": false
      },
      "outputs": [],
      "source": [
        "# Example tool function\ndef tool_function(**kwargs: Any) -> ToolResponse:\n    \"\"\"A tool function\"\"\"\n    return ToolResponse(\n        content=[\n            TextBlock(\n                type=\"text\",\n                text=f\"Received parameters: {kwargs}\",\n            ),\n        ],\n    )\n\n\n# Add a thinking field so that the agent could think before giving the other parameters.\nclass ThinkingModel(BaseModel):\n    \"\"\"A Pydantic model for additional fields.\"\"\"\n\n    thinking: str = Field(\n        description=\"Summarize the current state and decide what to do next.\",\n    )\n\n\n# Register\ntoolkit.set_extended_model(\"my_search\", ThinkingModel)\n\nprint(\"The extended JSON Schema:\")\nprint(json.dumps(toolkit.get_json_schemas(), indent=4, ensure_ascii=False))"
      ]
    },
    {
      "cell_type": "markdown",
      "metadata": {},
      "source": [
        "### Interrupting Tool Execution\nThe ``Toolkit`` class supports **execution interruption** of **async tool functions** and provides a comprehensive **agent-oriented post-processing mechanism**.\nSuch interruption is implemented based on the asyncio cancellation mechanism, and the post-processing varies depending on the return type of tool function.\n\n<div class=\"alert alert-info\"><h4>Note</h4><p>For synchronous tool functions, their execution cannot be interrupted by asyncio cancellation. So the interruption is handled within the agent rather than the toolkit.</p></div>\n Refer to the `agent` section for more information.\n\nSpecifically, if the tool function returns a ``ToolResponse`` object, a predefined ``ToolResponse`` object with an interrupted message will be yielded.\nSo that the agent can observe the interruption and handle it accordingly.\nBesides, a flag ``is_interrupted`` will be set to ``True`` in the response, and the external caller can decide whether to throw the ``CancelledError`` exception to the outer layer.\n\nAn example of async tool function that can be interrupted is as follows:\n\n\n"
      ]
    },
    {
      "cell_type": "code",
      "execution_count": null,
      "metadata": {
        "collapsed": false
      },
      "outputs": [],
      "source": [
        "async def non_streaming_function() -> ToolResponse:\n    \"\"\"A non-streaming tool function that can be interrupted.\"\"\"\n    await asyncio.sleep(1)  # Simulate a long-running task\n\n    # Fake interruption for demonstration\n    raise asyncio.CancelledError()\n\n    # The following code won't be executed due to the cancellation\n    return ToolResponse(\n        content=[\n            TextBlock(\n                type=\"text\",\n                text=\"Run successfully!\",\n            ),\n        ],\n    )\n\n\nasync def example_tool_interruption() -> None:\n    \"\"\"Example of tool interruption.\"\"\"\n    toolkit = Toolkit()\n    toolkit.register_tool_function(non_streaming_function)\n    res = await toolkit.call_tool_function(\n        ToolUseBlock(\n            type=\"tool_use\",\n            id=\"123\",\n            name=\"non_streaming_function\",\n            input={},\n        ),\n    )\n\n    async for tool_response in res:\n        print(\"Tool Response:\")\n        print(tool_response)\n        print(\"The interrupted flag:\")\n        print(tool_response.is_interrupted)\n\n\nasyncio.run(example_tool_interruption())"
      ]
    },
    {
      "cell_type": "markdown",
      "metadata": {},
      "source": [
        "For streaming tool functions, which returns an asynchronous generator, the ``Toolkit`` will attach the interrupted message to the previous chunk of the response.\nBy this way, the agent can observe what the tool has returned before the interruption.\n\nThe example of interrupting a streaming tool function is as follows:\n\n\n"
      ]
    },
    {
      "cell_type": "code",
      "execution_count": null,
      "metadata": {
        "collapsed": false
      },
      "outputs": [],
      "source": [
        "async def streaming_function() -> AsyncGenerator[ToolResponse, None]:\n    \"\"\"A streaming tool function that can be interrupted.\"\"\"\n    # Simulate a chunk of response\n    yield ToolResponse(\n        content=[\n            TextBlock(\n                type=\"text\",\n                text=\"1234\",\n            ),\n        ],\n        stream=True,\n    )\n\n    # Simulate interruption\n    raise asyncio.CancelledError()\n\n    # The following code won't be executed due to the cancellation\n    yield ToolResponse(\n        content=[\n            TextBlock(\n                type=\"text\",\n                text=\"123456789\",\n            ),\n        ],\n    )\n\n\nasync def example_streaming_tool_interruption() -> None:\n    \"\"\"Example of streaming tool interruption.\"\"\"\n    toolkit = Toolkit()\n    toolkit.register_tool_function(streaming_function)\n\n    res = await toolkit.call_tool_function(\n        ToolUseBlock(\n            type=\"tool_use\",\n            id=\"xxx\",\n            name=\"streaming_function\",\n            input={},\n        ),\n    )\n\n    i = 0\n    async for tool_response in res:\n        print(f\"Chunk {i}:\")\n        print(tool_response)\n        print(\"The interrupted flag: \", tool_response.is_interrupted, \"\\n\")\n        i += 1\n\n\nasyncio.run(example_streaming_tool_interruption())"
      ]
    },
    {
      "cell_type": "markdown",
      "metadata": {},
      "source": [
        "### Automatic Tool Management\n<img src=\"https://img.alicdn.com/imgextra/i3/O1CN013cvRpO27MfesMsTeh_!!6000000007783-2-tps-840-521.png\" width=\"100%\" align=\"center\" alt=\"Automatic Tool Management\">\n\n\nThe ``Toolkit`` class supports **automatic tool management** by introducing the concept of **tool group**, as well as a **meta tool function** named ``reset_equipped_tools``.\n\nThe tool group is a set of related tool functions, e.g. browser-use tools, map services tools, etc., which will be managed together.\nOnly the tools in the activated groups will be visible to agents, i.e. accessible by the ``toolkit.get_json_schemas()`` method.\n\nNote there is a special group called ``basic``, which is always activated and the tools registered without specifying the group name will be added to this group by default.\n\n.. tip:: The ``basic`` group ensures that the basic usage of tools won't be affected by the group features if you don't need them.\n\nNow we try to create a tool group named ``browser_use``, which contains some web browsing tools.\n\n\n"
      ]
    },
    {
      "cell_type": "code",
      "execution_count": null,
      "metadata": {
        "collapsed": false
      },
      "outputs": [],
      "source": [
        "def navigate(url: str) -> ToolResponse:\n    \"\"\"Navigate to a web page.\n\n    Args:\n        url (str):\n            The URL of the web page to navigate to.\n    \"\"\"\n    pass\n\n\ndef click_element(element_id: str) -> ToolResponse:\n    \"\"\"Click an element on the web page.\n\n    Args:\n        element_id (str):\n            The ID of the element to click.\n    \"\"\"\n    pass\n\n\ntoolkit = Toolkit()\n\n# Create a tool group named browser_use\ntoolkit.create_tool_group(\n    group_name=\"browser_use\",\n    description=\"The tool functions for web browsing.\",\n    active=False,\n    # The notes when using these tools\n    notes=\"\"\"1. Use ``navigate`` to open a web page.\n2. When requiring user authentication, ask the user for the credentials\n3. ...\"\"\",\n)\n\ntoolkit.register_tool_function(navigate, group_name=\"browser_use\")\ntoolkit.register_tool_function(click_element, group_name=\"browser_use\")\n\n# We can also register some basic tools\ntoolkit.register_tool_function(execute_python_code)"
      ]
    },
    {
      "cell_type": "markdown",
      "metadata": {},
      "source": [
        "If we check the tools JSON schema, we can only see the ``execute_python_code`` tool, because the ``browser_use`` group is not activated yet:\n\n"
      ]
    },
    {
      "cell_type": "code",
      "execution_count": null,
      "metadata": {
        "collapsed": false
      },
      "outputs": [],
      "source": [
        "print(\"Tool JSON Schemas with Group:\")\nprint(json.dumps(toolkit.get_json_schemas(), indent=4, ensure_ascii=False))"
      ]
    },
    {
      "cell_type": "markdown",
      "metadata": {},
      "source": [
        "Use the ``update_tool_groups`` method to activate or deactivate tool groups:\n\n"
      ]
    },
    {
      "cell_type": "code",
      "execution_count": null,
      "metadata": {
        "collapsed": false
      },
      "outputs": [],
      "source": [
        "toolkit.update_tool_groups(group_names=[\"browser_use\"], active=True)\n\nprint(\"Tool JSON Schemas with Group:\")\nprint(json.dumps(toolkit.get_json_schemas(), indent=4, ensure_ascii=False))"
      ]
    },
    {
      "cell_type": "markdown",
      "metadata": {},
      "source": [
        "Additionally, ``Toolkit`` provides a meta tool function named ``reset_equipped_tools``, taking the current group names as the argument to indicate which groups to activate:\n\n<div class=\"alert alert-info\"><h4>Note</h4><p>In ``ReActAgent`` class, you can enable the meta tool function by setting ``enable_meta_tool=True`` in the constructor.</p></div>\n\n\n"
      ]
    },
    {
      "cell_type": "code",
      "execution_count": null,
      "metadata": {
        "collapsed": false
      },
      "outputs": [],
      "source": [
        "# Register the meta tool function\ntoolkit.register_tool_function(toolkit.reset_equipped_tools)\n\nreset_equipped = next(\n    tool\n    for tool in toolkit.get_json_schemas()\n    if tool[\"function\"][\"name\"] == \"reset_equipped_tools\"\n)\nprint(\"JSON schema of the ``reset_equipped_tools`` function:\")\nprint(\n    json.dumps(\n        reset_equipped,\n        indent=4,\n        ensure_ascii=False,\n    ),\n)"
      ]
    },
    {
      "cell_type": "markdown",
      "metadata": {},
      "source": [
        "When agent calls the ``reset_equipped_tools`` function, the corresponding tool groups will be activated, and the tool response will\ncontain the notes of the activated tool groups.\n\n\n"
      ]
    },
    {
      "cell_type": "code",
      "execution_count": null,
      "metadata": {
        "collapsed": false
      },
      "outputs": [],
      "source": [
        "async def mock_agent_reset_tools() -> None:\n    \"\"\"Mock agent to reset tool groups.\"\"\"\n    # Call the meta tool function\n    res = await toolkit.call_tool_function(\n        ToolUseBlock(\n            type=\"tool_use\",\n            id=\"154\",\n            name=\"reset_equipped_tools\",\n            input={\n                \"browser_user\": True,\n            },\n        ),\n    )\n\n    async for tool_response in res:\n        print(\"Text content in tool Response:\")\n        print(tool_response)\n\n\nasyncio.run(mock_agent_reset_tools())"
      ]
    },
    {
      "cell_type": "markdown",
      "metadata": {},
      "source": [
        "The toolkit also provides a method to gather the notes of the activated tool groups, and you can assemble it into your agent's system prompt.\n\n.. tip:: The automatic tool management feature is already implemented in the ``ReActAgent`` class, refer to the `agent` section for more details.\n\n\n"
      ]
    },
    {
      "cell_type": "code",
      "execution_count": null,
      "metadata": {
        "collapsed": false
      },
      "outputs": [],
      "source": [
        "# Create one more tool group\ntoolkit.create_tool_group(\n    group_name=\"map_service\",\n    description=\"The google map service tools.\",\n    active=True,\n    notes=\"\"\"1. Use ``get_location`` to get the location of a place.\n2. ...\"\"\",\n)\n\nprint(\"The gathered notes of the activated tool groups:\")\nprint(toolkit.get_activated_notes())"
      ]
    },
    {
      "cell_type": "markdown",
      "metadata": {},
      "source": [
        "### Further Reading\n- `agent`\n- `state`\n- `mcp`\n\n\n"
      ]
    }
  ],
  "metadata": {
    "kernelspec": {
      "display_name": "Python 3",
      "language": "python",
      "name": "python3"
    },
    "language_info": {
      "codemirror_mode": {
        "name": "ipython",
        "version": 3
      },
      "file_extension": ".py",
      "mimetype": "text/x-python",
      "name": "python",
      "nbconvert_exporter": "python",
      "pygments_lexer": "ipython3",
      "version": "3.10.19"
    }
  },
  "nbformat": 4,
  "nbformat_minor": 0
}