{
  "cells": [
    {
      "cell_type": "markdown",
      "metadata": {},
      "source": [
        "\n\n# \u957f\u671f\u8bb0\u5fc6\n\nAgentScope \u4e3a\u957f\u671f\u8bb0\u5fc6\u63d0\u4f9b\u4e86\u4e00\u4e2a\u57fa\u7c7b ``LongTermMemoryBase`` \u548c\u4e00\u4e2a\u57fa\u4e8e [mem0](https://github.com/mem0ai/mem0) \u7684\u5177\u4f53\u5b9e\u73b0 ``Mem0LongTermMemory``\u3002\n\u7ed3\u5408 `agent` \u7ae0\u8282\u4e2d ``ReActAgent`` \u7c7b\u7684\u8bbe\u8ba1\uff0c\u6211\u4eec\u63d0\u4f9b\u4e86\u4e24\u79cd\u957f\u671f\u8bb0\u5fc6\u6a21\u5f0f\uff1a\n\n- ``agent_control``\uff1a\u667a\u80fd\u4f53\u901a\u8fc7\u5de5\u5177\u8c03\u7528\u81ea\u4e3b\u7ba1\u7406\u957f\u671f\u8bb0\u5fc6\u3002\n- ``static_control``\uff1a\u5f00\u53d1\u8005\u901a\u8fc7\u7f16\u7a0b\u663e\u5f0f\u63a7\u5236\u957f\u671f\u8bb0\u5fc6\u64cd\u4f5c\u3002\n\n\u5f53\u7136\uff0c\u5f00\u53d1\u8005\u4e5f\u53ef\u4ee5\u4f7f\u7528 ``both`` \u53c2\u6570\uff0c\u5c06\u540c\u65f6\u6fc0\u6d3b\u4e0a\u8ff0\u4e24\u79cd\u8bb0\u5fc6\u7ba1\u7406\u6a21\u5f0f\u3002\n\n.. hint:: \u4e0d\u540c\u7684\u8bb0\u5fc6\u6a21\u5f0f\u9002\u7528\u4e8e\u4e0d\u540c\u7684\u4f7f\u7528\u573a\u666f\uff0c\u5f00\u53d1\u8005\u53ef\u4ee5\u6839\u636e\u9700\u8981\u9009\u62e9\u5408\u9002\u7684\u6a21\u5f0f\u3002\n\n## \u4f7f\u7528 mem0 \u957f\u671f\u8bb0\u5fc6\n\n<div class=\"alert alert-info\"><h4>Note</h4><p>\u5728 GitHub \u4ed3\u5e93\u7684 ``examples/long_term_memory/mem0`` \u76ee\u5f55\u4e0b\u6211\u4eec\u63d0\u4f9b\u4e86 mem0 \u957f\u671f\u8bb0\u5fc6\u7684\u4f7f\u7528\u793a\u4f8b\u3002</p></div>\n"
      ]
    },
    {
      "cell_type": "code",
      "execution_count": null,
      "metadata": {
        "collapsed": false
      },
      "outputs": [],
      "source": [
        "import os\nimport asyncio\n\nfrom agentscope.message import Msg\nfrom agentscope.memory import InMemoryMemory, Mem0LongTermMemory\nfrom agentscope.agent import ReActAgent\nfrom agentscope.embedding import DashScopeTextEmbedding\nfrom agentscope.formatter import DashScopeChatFormatter\nfrom agentscope.model import DashScopeChatModel\nfrom agentscope.tool import Toolkit\n\n\n# \u521b\u5efa mem0 \u957f\u671f\u8bb0\u5fc6\u5b9e\u4f8b\nlong_term_memory = Mem0LongTermMemory(\n    agent_name=\"Friday\",\n    user_name=\"user_123\",\n    model=DashScopeChatModel(\n        model_name=\"qwen-max-latest\",\n        api_key=os.environ.get(\"DASHSCOPE_API_KEY\"),\n        stream=False,\n    ),\n    embedding_model=DashScopeTextEmbedding(\n        model_name=\"text-embedding-v2\",\n        api_key=os.environ.get(\"DASHSCOPE_API_KEY\"),\n    ),\n    on_disk=False,\n)"
      ]
    },
    {
      "cell_type": "markdown",
      "metadata": {},
      "source": [
        "``Mem0LongTermMemory`` \u7c7b\u63d0\u4f9b\u4e86\u4e24\u4e2a\u64cd\u4f5c\u957f\u671f\u8bb0\u5fc6\u7684\u65b9\u6cd5\uff0c``record` \u548c `retrieve`\u3002\n\u5b83\u4eec\u63a5\u6536\u6d88\u606f\u5bf9\u8c61\u7684\u5217\u8868\u4f5c\u4e3a\u8f93\u5165\uff0c\u5206\u522b\u8bb0\u5f55\u548c\u68c0\u7d22\u957f\u671f\u8bb0\u5fc6\u4e2d\u7684\u4fe1\u606f\u3002\n\n\u4f8b\u5982\u4e0b\u9762\u7684\u4f8b\u5b50\u4e2d\uff0c\u6211\u4eec\u5148\u5b58\u5165\u7528\u6237\u7684\u4e00\u6761\u504f\u597d\uff0c\u7136\u540e\u5728\u957f\u671f\u8bb0\u5fc6\u4e2d\u68c0\u7d22\u76f8\u5173\u4fe1\u606f\u3002\n\n\n"
      ]
    },
    {
      "cell_type": "code",
      "execution_count": null,
      "metadata": {
        "collapsed": false
      },
      "outputs": [],
      "source": [
        "# \u57fa\u672c\u4f7f\u7528\u793a\u4f8b\nasync def basic_usage():\n    \"\"\"\u57fa\u672c\u4f7f\u7528\u793a\u4f8b\"\"\"\n    # \u8bb0\u5f55\u8bb0\u5fc6\n    await long_term_memory.record([Msg(\"user\", \"\u6211\u559c\u6b22\u4f4f\u6c11\u5bbf\", \"user\")])\n\n    # \u68c0\u7d22\u8bb0\u5fc6\n    results = await long_term_memory.retrieve(\n        [Msg(\"user\", \"\u6211\u7684\u4f4f\u5bbf\u504f\u597d\", \"user\")],\n    )\n    print(f\"\u68c0\u7d22\u7ed3\u679c: {results}\")\n\n\nasyncio.run(basic_usage())"
      ]
    },
    {
      "cell_type": "markdown",
      "metadata": {},
      "source": [
        "### \u4e0e ReAct \u667a\u80fd\u4f53\u96c6\u6210\nAgentScope \u4e2d\u7684 ``ReActAgent`` \u5728\u6784\u9020\u51fd\u6570\u4e2d\u5305\u542b ``long_term_memory`` \u548c ``long_term_memory_mode`` \u4e24\u4e2a\u53c2\u6570\uff0c\n\u5176\u4e2d ``long_term_memory`` \u7528\u4e8e\u6307\u5b9a\u957f\u671f\u8bb0\u5fc6\u5b9e\u4f8b\uff0c``long_term_memory_mode`` \u7684\u53d6\u503c\u4e3a ``\"agent_control\"``, ``\"static_control\"`` \u6216 ``\"both\"``\u3002\n\n\u5f53 ``long_term_memory_mode`` \u8bbe\u7f6e\u4e3a ``\"agent_control\"`` \u6216 ``both`` \u65f6\uff0c\u5728 ``ReActAgent`` \u7684\u6784\u9020\u51fd\u6570\u4e2d\u5c06\n\u6ce8\u518c\u4e24\u4e2a\u5de5\u5177\u51fd\u6570\uff1a``record_to_memory`` \u548c ``retrieve_from_memory``\u3002\n\u4ece\u800c\u4f7f\u667a\u80fd\u4f53\u80fd\u591f\u81ea\u4e3b\u7684\u7ba1\u7406\u957f\u671f\u8bb0\u5fc6\u3002\n\n<div class=\"alert alert-info\"><h4>Note</h4><p>\u4e3a\u4e86\u8fbe\u5230\u6700\u597d\u7684\u6548\u679c\uff0c``\"agent_control\"`` \u6a21\u5f0f\u53ef\u80fd\u8fd8\u9700\u8981\u5728\u7cfb\u7edf\u63d0\u793a\uff08system prompt\uff09\u4e2d\u6dfb\u52a0\u76f8\u5e94\u7684\u8bf4\u660e\u3002</p></div>\n\n\n"
      ]
    },
    {
      "cell_type": "code",
      "execution_count": null,
      "metadata": {
        "collapsed": false
      },
      "outputs": [],
      "source": [
        "# \u521b\u5efa\u5e26\u6709\u957f\u671f\u8bb0\u5fc6\u7684 ReAct \u667a\u80fd\u4f53\nagent = ReActAgent(\n    name=\"Friday\",\n    sys_prompt=\"\u4f60\u662f\u4e00\u4e2a\u5177\u6709\u957f\u671f\u8bb0\u5fc6\u529f\u80fd\u7684\u52a9\u624b\u3002\",\n    model=DashScopeChatModel(\n        api_key=os.environ.get(\"DASHSCOPE_API_KEY\"),\n        model_name=\"qwen-max-latest\",\n    ),\n    formatter=DashScopeChatFormatter(),\n    toolkit=Toolkit(),\n    memory=InMemoryMemory(),\n    long_term_memory=long_term_memory,\n    long_term_memory_mode=\"static_control\",  # \u4f7f\u7528 static_control \u6a21\u5f0f\n)\n\n\nasync def record_preferences():\n    \"\"\"ReAct agent integration example\"\"\"\n    # \u5bf9\u8bdd\u793a\u4f8b\n    msg = Msg(\"user\", \"\u6211\u53bb\u676d\u5dde\u65c5\u884c\u65f6\uff0c\u559c\u6b22\u4f4f\u6c11\u5bbf\", \"user\")\n    await agent(msg)\n\n\nasyncio.run(record_preferences())"
      ]
    },
    {
      "cell_type": "markdown",
      "metadata": {},
      "source": [
        "\u7136\u540e\u6211\u4eec\u6e05\u7a7a\u667a\u80fd\u4f53\u7684\u77ed\u671f\u8bb0\u5fc6\uff0c\u4ee5\u907f\u514d\u9020\u6210\u5e72\u6270\uff0c\u5e76\u6d4b\u8bd5\u667a\u80fd\u4f53\u662f\u5426\u4f1a\u8bb0\u4f4f\u4e4b\u524d\u7684\u5bf9\u8bdd\u3002\n\n\n"
      ]
    },
    {
      "cell_type": "code",
      "execution_count": null,
      "metadata": {
        "collapsed": false
      },
      "outputs": [],
      "source": [
        "async def retrieve_preferences():\n    \"\"\"Retrieve user preferences from long-term memory\"\"\"\n    # \u6211\u4eec\u6e05\u7a7a\u667a\u80fd\u4f53\u7684\u77ed\u671f\u8bb0\u5fc6\uff0c\u4ee5\u907f\u514d\u9020\u6210\u5e72\u6270\n    await agent.memory.clear()\n\n    # \u6d4b\u8bd5\u667a\u80fd\u4f53\u662f\u5426\u4f1a\u8bb0\u4f4f\u4e4b\u524d\u7684\u5bf9\u8bdd\n    msg2 = Msg(\"user\", \"\u6211\u6709\u4ec0\u4e48\u504f\u597d\uff1f\u7b80\u8981\u7684\u56de\u7b54\u6211\", \"user\")\n    await agent(msg2)\n\n\nasyncio.run(retrieve_preferences())"
      ]
    },
    {
      "cell_type": "markdown",
      "metadata": {},
      "source": [
        "## \u4f7f\u7528 ReMe \u4e2a\u4eba\u957f\u671f\u8bb0\u5fc6\n\n<div class=\"alert alert-info\"><h4>Note</h4><p>\u5728 GitHub \u4ed3\u5e93\u7684 ``examples/long_term_memory/reme`` \u76ee\u5f55\u4e0b\u6211\u4eec\u63d0\u4f9b\u4e86 ReMe \u957f\u671f\u8bb0\u5fc6\u7684\u4f7f\u7528\u793a\u4f8b\u3002</p></div>\n\n\n"
      ]
    },
    {
      "cell_type": "code",
      "execution_count": null,
      "metadata": {
        "collapsed": false
      },
      "outputs": [],
      "source": [
        "from agentscope.memory import ReMePersonalLongTermMemory\n\n# \u521b\u5efa ReMe \u4e2a\u4eba\u957f\u671f\u8bb0\u5fc6\u5b9e\u4f8b\nreme_long_term_memory = ReMePersonalLongTermMemory(\n    agent_name=\"Friday\",\n    user_name=\"user_123\",\n    model=DashScopeChatModel(\n        model_name=\"qwen3-max\",\n        api_key=os.environ.get(\"DASHSCOPE_API_KEY\"),\n        stream=False,\n    ),\n    embedding_model=DashScopeTextEmbedding(\n        model_name=\"text-embedding-v4\",\n        api_key=os.environ.get(\"DASHSCOPE_API_KEY\"),\n        dimensions=1024,\n    ),\n)"
      ]
    },
    {
      "cell_type": "markdown",
      "metadata": {},
      "source": [
        "``ReMePersonalLongTermMemory`` \u7c7b\u63d0\u4f9b\u4e86\u56db\u4e2a\u64cd\u4f5c\u957f\u671f\u8bb0\u5fc6\u7684\u65b9\u6cd5\u3002\n\u5b83\u4eec\u5206\u522b\u662f\u7528\u4e8e\u5de5\u5177\u8c03\u7528\u7684 ``record_to_memory`` \u548c ``retrieve_from_memory``\uff0c\n\u4ee5\u53ca\u7528\u4e8e\u76f4\u63a5\u8c03\u7528\u7684 ``record`` \u548c ``retrieve``\u3002\n\n\u4f8b\u5982\u4e0b\u9762\u7684\u4f8b\u5b50\u4e2d\uff0c\u6211\u4eec\u4f7f\u7528 ``record_to_memory`` \u8bb0\u5f55\u7528\u6237\u504f\u597d\u3002\n\n\n"
      ]
    },
    {
      "cell_type": "code",
      "execution_count": null,
      "metadata": {
        "collapsed": false
      },
      "outputs": [],
      "source": [
        "async def test_record_to_memory():\n    \"\"\"\u6d4b\u8bd5 record_to_memory \u5de5\u5177\u51fd\u6570\u63a5\u53e3\"\"\"\n    async with reme_long_term_memory:\n        result = await reme_long_term_memory.record_to_memory(\n            thinking=\"\u7528\u6237\u6b63\u5728\u5206\u4eab\u4ed6\u4eec\u7684\u65c5\u884c\u504f\u597d\u548c\u4e60\u60ef\",\n            content=[\n                \"\u6211\u53bb\u676d\u5dde\u65c5\u884c\u65f6\u559c\u6b22\u4f4f\u6c11\u5bbf\",\n                \"\u6211\u559c\u6b22\u65e9\u4e0a\u53bb\u897f\u6e56\u6e38\u73a9\",\n                \"\u6211\u559c\u6b22\u559d\u9f99\u4e95\u8336\",\n            ],\n        )\n        # \u63d0\u53d6\u7ed3\u679c\u6587\u672c\n        result_text = \" \".join(\n            block.get(\"text\", \"\")\n            for block in result.content\n            if block.get(\"type\") == \"text\"\n        )\n        print(f\"\u8bb0\u5f55\u7ed3\u679c: {result_text}\")"
      ]
    },
    {
      "cell_type": "markdown",
      "metadata": {},
      "source": [
        "\u8f93\u51fa\n\n```console\n\u8bb0\u5f55\u7ed3\u679c: Successfully recorded 3 memory/memories to personal memory.\n```\n"
      ]
    },
    {
      "cell_type": "markdown",
      "metadata": {},
      "source": [
        "\u7136\u540e\u6211\u4eec\u4f7f\u7528 ``retrieve_from_memory`` \u68c0\u7d22\u76f8\u5173\u8bb0\u5fc6\u3002\n\n\n"
      ]
    },
    {
      "cell_type": "code",
      "execution_count": null,
      "metadata": {
        "collapsed": false
      },
      "outputs": [],
      "source": [
        "async def test_retrieve_from_memory():\n    \"\"\"\u6d4b\u8bd5 retrieve_from_memory \u5de5\u5177\u51fd\u6570\u63a5\u53e3\"\"\"\n    async with reme_long_term_memory:\n        # \u5148\u8bb0\u5f55\u4e00\u4e9b\u5185\u5bb9\n        await reme_long_term_memory.record_to_memory(\n            thinking=\"\u7528\u6237\u6b63\u5728\u5206\u4eab\u65c5\u884c\u504f\u597d\",\n            content=[\"\u6211\u53bb\u676d\u5dde\u65c5\u884c\u65f6\u559c\u6b22\u4f4f\u6c11\u5bbf\"],\n        )\n\n        # \u7136\u540e\u68c0\u7d22\n        result = await reme_long_term_memory.retrieve_from_memory(\n            keywords=[\"\u676d\u5dde\u65c5\u884c\", \"\u8336\u504f\u597d\"],\n        )\n        retrieved_text = \" \".join(\n            block.get(\"text\", \"\")\n            for block in result.content\n            if block.get(\"type\") == \"text\"\n        )\n        print(f\"\u68c0\u7d22\u5230\u7684\u8bb0\u5fc6: {retrieved_text}\")"
      ]
    },
    {
      "cell_type": "markdown",
      "metadata": {},
      "source": [
        "\u8f93\u51fa\n\n```console\n\u68c0\u7d22\u5230\u7684\u8bb0\u5fc6: Keyword 'Hangzhou travel':\nuser prefers to stay in homestays when traveling to Hangzhou\n\nKeyword 'tea preference':\nuser prefers to stay in homestays when traveling to Hangzhou\n```\n"
      ]
    },
    {
      "cell_type": "markdown",
      "metadata": {},
      "source": [
        "\u9664\u4e86\u5de5\u5177\u51fd\u6570\u63a5\u53e3\uff0c\u6211\u4eec\u4e5f\u53ef\u4ee5\u4f7f\u7528 ``record`` \u65b9\u6cd5\u76f4\u63a5\u8bb0\u5f55\u6d88\u606f\u5bf9\u8bdd\u3002\n\n\n"
      ]
    },
    {
      "cell_type": "code",
      "execution_count": null,
      "metadata": {
        "collapsed": false
      },
      "outputs": [],
      "source": [
        "async def test_record_direct():\n    \"\"\"\u6d4b\u8bd5 record \u76f4\u63a5\u8bb0\u5f55\u65b9\u6cd5\"\"\"\n    async with reme_long_term_memory:\n        await reme_long_term_memory.record(\n            msgs=[\n                Msg(\n                    role=\"user\",\n                    content=\"\u6211\u662f\u4e00\u540d\u8f6f\u4ef6\u5de5\u7a0b\u5e08\uff0c\u559c\u6b22\u8fdc\u7a0b\u5de5\u4f5c\",\n                    name=\"user\",\n                ),\n                Msg(\n                    role=\"assistant\",\n                    content=\"\u660e\u767d\u4e86\uff01\u60a8\u662f\u4e00\u540d\u91cd\u89c6\u8fdc\u7a0b\u5de5\u4f5c\u7075\u6d3b\u6027\u7684\u8f6f\u4ef6\u5de5\u7a0b\u5e08\u3002\",\n                    name=\"assistant\",\n                ),\n                Msg(\n                    role=\"user\",\n                    content=\"\u6211\u901a\u5e38\u65e9\u4e0a9\u70b9\u5f00\u59cb\u5de5\u4f5c\uff0c\u4f1a\u5148\u559d\u4e00\u676f\u5496\u5561\",\n                    name=\"user\",\n                ),\n            ],\n        )\n        print(\"\u6210\u529f\u8bb0\u5f55\u4e86\u5bf9\u8bdd\u6d88\u606f\")"
      ]
    },
    {
      "cell_type": "markdown",
      "metadata": {},
      "source": [
        "\u8f93\u51fa\n\n```console\n\u6210\u529f\u8bb0\u5f55\u4e86\u5bf9\u8bdd\u6d88\u606f\n```\n"
      ]
    },
    {
      "cell_type": "markdown",
      "metadata": {},
      "source": [
        "\u7c7b\u4f3c\u5730\uff0c\u6211\u4eec\u4f7f\u7528 ``retrieve`` \u65b9\u6cd5\u68c0\u7d22\u76f8\u5173\u8bb0\u5fc6\u3002\n\n\n"
      ]
    },
    {
      "cell_type": "code",
      "execution_count": null,
      "metadata": {
        "collapsed": false
      },
      "outputs": [],
      "source": [
        "async def test_retrieve_direct():\n    \"\"\"\u6d4b\u8bd5 retrieve \u76f4\u63a5\u68c0\u7d22\u65b9\u6cd5\"\"\"\n    async with reme_long_term_memory:\n        # \u5148\u8bb0\u5f55\u4e00\u4e9b\u5185\u5bb9\n        await reme_long_term_memory.record(\n            msgs=[\n                Msg(\n                    role=\"user\",\n                    content=\"\u6211\u662f\u4e00\u540d\u8f6f\u4ef6\u5de5\u7a0b\u5e08\uff0c\u559c\u6b22\u8fdc\u7a0b\u5de5\u4f5c\",\n                    name=\"user\",\n                ),\n            ],\n        )\n\n        # \u7136\u540e\u68c0\u7d22\n        memories = await reme_long_term_memory.retrieve(\n            msg=Msg(\n                role=\"user\",\n                content=\"\u4f60\u77e5\u9053\u6211\u7684\u5de5\u4f5c\u504f\u597d\u5417\uff1f\",\n                name=\"user\",\n            ),\n        )\n        print(f\"\u68c0\u7d22\u5230\u7684\u8bb0\u5fc6: {memories if memories else '\u672a\u627e\u5230\u76f8\u5173\u8bb0\u5fc6'}\")"
      ]
    },
    {
      "cell_type": "markdown",
      "metadata": {},
      "source": [
        "\u8f93\u51fa\n\n```console\n\u68c0\u7d22\u5230\u7684\u8bb0\u5fc6: user works as a software engineer and prefers remote work\n```\n"
      ]
    },
    {
      "cell_type": "markdown",
      "metadata": {},
      "source": [
        "### \u4e0e ReAct \u667a\u80fd\u4f53\u96c6\u6210\nAgentScope \u4e2d\u7684 ``ReActAgent`` \u5728\u6784\u9020\u51fd\u6570\u4e2d\u5305\u542b ``long_term_memory`` \u548c ``long_term_memory_mode`` \u4e24\u4e2a\u53c2\u6570\u3002\n\n\u5f53 ``long_term_memory_mode`` \u8bbe\u7f6e\u4e3a ``\"agent_control\"`` \u6216 ``both`` \u65f6\uff0c\u5728 ``ReActAgent`` \u7684\u6784\u9020\u51fd\u6570\u4e2d\u5c06\n\u6ce8\u518c ``record_to_memory`` \u548c ``retrieve_from_memory`` \u5de5\u5177\u51fd\u6570\uff0c\u4f7f\u667a\u80fd\u4f53\u80fd\u591f\u81ea\u4e3b\u7684\u7ba1\u7406\u957f\u671f\u8bb0\u5fc6\u3002\n\n<div class=\"alert alert-info\"><h4>Note</h4><p>\u4e3a\u4e86\u8fbe\u5230\u6700\u597d\u7684\u6548\u679c\uff0c``\"agent_control\"`` \u6a21\u5f0f\u53ef\u80fd\u8fd8\u9700\u8981\u5728\u7cfb\u7edf\u63d0\u793a\uff08system prompt\uff09\u4e2d\u6dfb\u52a0\u76f8\u5e94\u7684\u8bf4\u660e\u3002</p></div>\n\n\n"
      ]
    },
    {
      "cell_type": "code",
      "execution_count": null,
      "metadata": {
        "collapsed": false
      },
      "outputs": [],
      "source": [
        "# \u521b\u5efa\u5e26\u6709\u957f\u671f\u8bb0\u5fc6\u7684 ReAct \u667a\u80fd\u4f53\uff08agent_control \u6a21\u5f0f\uff09\nasync def test_react_agent_with_reme():\n    \"\"\"\u6d4b\u8bd5 ReActAgent \u4e0e ReMe \u4e2a\u4eba\u8bb0\u5fc6\u7684\u96c6\u6210\"\"\"\n    async with reme_long_term_memory:\n        agent_with_reme = ReActAgent(\n            name=\"Friday\",\n            sys_prompt=(\n                \"\u4f60\u662f\u4e00\u4e2a\u540d\u4e3a Friday \u7684\u52a9\u624b\uff0c\u5177\u6709\u957f\u671f\u8bb0\u5fc6\u80fd\u529b\u3002\"\n                \"\\n\\n## \u8bb0\u5fc6\u7ba1\u7406\u6307\u5357\uff1a\\n\"\n                \"1. **\u8bb0\u5f55\u8bb0\u5fc6**\uff1a\u5f53\u7528\u6237\u5206\u4eab\u4e2a\u4eba\u4fe1\u606f\u3001\u504f\u597d\u3001\u4e60\u60ef\u6216\u5173\u4e8e\u81ea\u5df1\u7684\u4e8b\u5b9e\u65f6\uff0c\"\n                \"\u59cb\u7ec8\u4f7f\u7528 `record_to_memory` \u8bb0\u5f55\u8fd9\u4e9b\u4fe1\u606f\u4ee5\u4f9b\u5c06\u6765\u53c2\u8003\u3002\\n\"\n                \"\\n2. **\u68c0\u7d22\u8bb0\u5fc6**\uff1a\u5728\u56de\u7b54\u5173\u4e8e\u7528\u6237\u504f\u597d\u3001\u8fc7\u53bb\u4fe1\u606f\u6216\u4e2a\u4eba\u8be6\u7ec6\u4fe1\u606f\u7684\u95ee\u9898\u4e4b\u524d\uff0c\"\n                \"\u4f60\u5fc5\u987b\u9996\u5148\u8c03\u7528 `retrieve_from_memory` \u6765\u68c0\u67e5\u662f\u5426\u6709\u4efb\u4f55\u76f8\u5173\u7684\u5b58\u50a8\u4fe1\u606f\u3002\"\n                \"\u4e0d\u8981\u4ec5\u4f9d\u8d56\u5f53\u524d\u5bf9\u8bdd\u4e0a\u4e0b\u6587\u3002\\n\"\n                \"\\n3. **\u4f55\u65f6\u68c0\u7d22**\uff1a\u5728\u4ee5\u4e0b\u60c5\u51b5\u4e0b\u8c03\u7528 `retrieve_from_memory`\uff1a\\n\"\n                \"   - \u7528\u6237\u95ee\u7c7b\u4f3c'\u6211\u559c\u6b22\u4ec0\u4e48\uff1f'\u3001'\u6211\u7684\u504f\u597d\u662f\u4ec0\u4e48\uff1f'\u3001\"\n                \"'\u4f60\u5bf9\u6211\u4e86\u89e3\u591a\u5c11\uff1f'\u7684\u95ee\u9898\\n\"\n                \"   - \u7528\u6237\u8be2\u95ee\u4ed6\u4eec\u8fc7\u53bb\u7684\u884c\u4e3a\u3001\u4e60\u60ef\u6216\u504f\u597d\\n\"\n                \"   - \u7528\u6237\u63d0\u5230\u4ed6\u4eec\u4e4b\u524d\u63d0\u5230\u7684\u4fe1\u606f\\n\"\n                \"   - \u4f60\u9700\u8981\u5173\u4e8e\u7528\u6237\u7684\u4e0a\u4e0b\u6587\u6765\u63d0\u4f9b\u4e2a\u6027\u5316\u7684\u54cd\u5e94\\n\"\n                \"\\n\u5728\u58f0\u79f0\u4e0d\u4e86\u89e3\u7528\u6237\u7684\u67d0\u4e9b\u4fe1\u606f\u4e4b\u524d\uff0c\u59cb\u7ec8\u5148\u68c0\u67e5\u4f60\u7684\u8bb0\u5fc6\u3002\"\n            ),\n            model=DashScopeChatModel(\n                model_name=\"qwen3-max\",\n                api_key=os.environ.get(\"DASHSCOPE_API_KEY\"),\n                stream=False,\n            ),\n            formatter=DashScopeChatFormatter(),\n            toolkit=Toolkit(),\n            memory=InMemoryMemory(),\n            long_term_memory=reme_long_term_memory,\n            long_term_memory_mode=\"agent_control\",  # \u4f7f\u7528 agent_control \u6a21\u5f0f\n        )\n\n        # \u7528\u6237\u5206\u4eab\u504f\u597d\n        msg = Msg(\n            role=\"user\",\n            content=\"\u6211\u53bb\u676d\u5dde\u65c5\u884c\u65f6\uff0c\u559c\u6b22\u4f4f\u6c11\u5bbf\",\n            name=\"user\",\n        )\n        response = await agent_with_reme(msg)\n        print(f\"\u667a\u80fd\u4f53\u54cd\u5e94: {response.get_text_content()}\")\n\n        # \u6e05\u7a7a\u77ed\u671f\u8bb0\u5fc6\u4ee5\u6d4b\u8bd5\u957f\u671f\u8bb0\u5fc6\n        await agent_with_reme.memory.clear()\n\n        # \u67e5\u8be2\u504f\u597d\n        msg2 = Msg(role=\"user\", content=\"\u6211\u6709\u4ec0\u4e48\u504f\u597d\uff1f\", name=\"user\")\n        response2 = await agent_with_reme(msg2)\n        print(f\"\u667a\u80fd\u4f53\u54cd\u5e94: {response2.get_text_content()}\")"
      ]
    },
    {
      "cell_type": "markdown",
      "metadata": {},
      "source": [
        "\u8f93\u51fa\n\n```console\nsystem: {\n    \"type\": \"tool_result\",\n    \"id\": \"call_7de95a3382e241309b16cb9e\",\n    \"name\": \"retrieve_from_memory\",\n    \"output\": [\n        {\n            \"type\": \"text\",\n            \"text\": \"Keyword 'preference':\\nuser prefers to stay in a homestay when traveling to Hangzhou\"\n        }\n    ]\n}\nFriday: Based on what I know, you prefer to stay in a homestay when traveling to Hangzhou. Let me know if there's anything else you'd like me to remember or clarify!\nAgent response: Based on what I know, you prefer to stay in a homestay when traveling to Hangzhou. Let me know if there's anything else you'd like me to remember or clarify!\n```\n"
      ]
    },
    {
      "cell_type": "markdown",
      "metadata": {},
      "source": [
        "\u7136\u540e\u6211\u4eec\u6e05\u7a7a\u667a\u80fd\u4f53\u7684\u77ed\u671f\u8bb0\u5fc6\uff0c\u4ee5\u907f\u514d\u9020\u6210\u5e72\u6270\uff0c\u5e76\u6d4b\u8bd5\u667a\u80fd\u4f53\u662f\u5426\u4f1a\u8bb0\u4f4f\u4e4b\u524d\u7684\u5bf9\u8bdd\u3002\n\n\n"
      ]
    },
    {
      "cell_type": "code",
      "execution_count": null,
      "metadata": {
        "collapsed": false
      },
      "outputs": [],
      "source": [
        "async def retrieve_reme_preferences():\n    \"\"\"\u4ece\u957f\u671f\u8bb0\u5fc6\u4e2d\u68c0\u7d22\u7528\u6237\u504f\u597d\"\"\"\n    async with reme_long_term_memory:\n        # \u521b\u5efa\u667a\u80fd\u4f53\uff08\u8fd9\u91cc\u53ef\u4ee5\u590d\u7528\u4e4b\u524d\u521b\u5efa\u7684\u667a\u80fd\u4f53\uff0c\u4e3a\u4e86\u793a\u4f8b\u5b8c\u6574\u6027\u91cd\u65b0\u521b\u5efa\uff09\n        agent_with_reme = ReActAgent(\n            name=\"Friday\",\n            sys_prompt=\"\u4f60\u662f\u4e00\u4e2a\u5177\u6709\u957f\u671f\u8bb0\u5fc6\u529f\u80fd\u7684\u52a9\u624b\u3002\",\n            model=DashScopeChatModel(\n                api_key=os.environ.get(\"DASHSCOPE_API_KEY\"),\n                model_name=\"qwen3-max\",\n                stream=False,\n            ),\n            formatter=DashScopeChatFormatter(),\n            toolkit=Toolkit(),\n            memory=InMemoryMemory(),\n            long_term_memory=reme_long_term_memory,\n            long_term_memory_mode=\"agent_control\",\n        )\n\n        # \u6211\u4eec\u6e05\u7a7a\u667a\u80fd\u4f53\u7684\u77ed\u671f\u8bb0\u5fc6\uff0c\u4ee5\u907f\u514d\u9020\u6210\u5e72\u6270\n        await agent_with_reme.memory.clear()\n\n        # \u6d4b\u8bd5\u667a\u80fd\u4f53\u662f\u5426\u4f1a\u8bb0\u4f4f\u4e4b\u524d\u7684\u5bf9\u8bdd\n        msg2 = Msg(\"user\", \"\u6211\u6709\u4ec0\u4e48\u504f\u597d\uff1f\u7b80\u8981\u7684\u56de\u7b54\u6211\", \"user\")\n        await agent_with_reme(msg2)"
      ]
    },
    {
      "cell_type": "markdown",
      "metadata": {},
      "source": [
        "\u8f93\u51fa\n\n```console\nsystem: {\n    \"type\": \"tool_result\",\n    \"id\": \"call_e7d354e450684ceca331a8d9\",\n    \"name\": \"retrieve_from_memory\",\n    \"output\": [\n        {\n            \"type\": \"text\",\n            \"text\": \"No memories found for the given keywords.\"\n        }\n    ]\n}\nFriday: I don't have any recorded information about your preferences yet. Let me know what you like or need, and I can remember it for future reference!\n```\n"
      ]
    },
    {
      "cell_type": "markdown",
      "metadata": {},
      "source": [
        "## \u81ea\u5b9a\u4e49\u957f\u671f\u8bb0\u5fc6\nAgentScope \u63d0\u4f9b\u4e86 ``LongTermMemoryBase`` \u57fa\u7c7b\uff0c\u5b83\u5b9a\u4e49\u4e86\u957f\u671f\u8bb0\u5fc6\u7684\u57fa\u672c\u63a5\u53e3\u3002\n\n\u5f00\u53d1\u8005\u53ef\u4ee5\u7ee7\u627f ``LongTermMemoryBase`` \u5e76\u5b9e\u73b0\u4ee5\u4e0b\u7684\u62bd\u8c61\u65b9\u6cd5\u6765\u5b9a\u4e49\u81ea\u5df1\u7684\u957f\u671f\u8bb0\u5fc6\u7c7b\uff1a\n\n.. list-table:: AgentScope \u4e2d\u7684\u957f\u671f\u8bb0\u5fc6\u7c7b\n    :header-rows: 1\n\n    * - \u7c7b\n      - \u62bd\u8c61\u65b9\u6cd5\n      - \u63cf\u8ff0\n    * - ``LongTermMemoryBase``\n      - | ``record``\n        | ``retrieve``\n        | ``record_to_memory``\n        | ``retrieve_from_memory``\n      - - \u5982\u679c\u60f3\u652f\u6301 \"static_control\" \u6a21\u5f0f\uff0c\u5fc5\u987b\u5b9e\u73b0 ``record`` \u548c ``retrieve`` \u65b9\u6cd5\u3002\n        - \u60f3\u8981\u652f\u6301 \"agent_control\" \u6a21\u5f0f\uff0c\u5fc5\u987b\u5b9e\u73b0 ``record_to_memory`` \u548c ``retrieve_from_memory`` \u65b9\u6cd5\u3002\n    * - ``Mem0LongTermMemory``\n      - | ``record``\n        | ``retrieve``\n        | ``record_to_memory``\n        | ``retrieve_from_memory``\n      - \u57fa\u4e8e mem0 \u5e93\u7684\u957f\u671f\u8bb0\u5fc6\u5b9e\u73b0\uff0c\u652f\u6301\u5411\u91cf\u5b58\u50a8\u548c\u68c0\u7d22\u3002\n    * - ``ReMePersonalLongTermMemory``\n      - | ``record``\n        | ``retrieve``\n        | ``record_to_memory``\n        | ``retrieve_from_memory``\n      - \u57fa\u4e8e ReMe \u6846\u67b6\u7684\u4e2a\u4eba\u8bb0\u5fc6\u5b9e\u73b0\uff0c\u63d0\u4f9b\u5f3a\u5927\u7684\u8bb0\u5fc6\u7ba1\u7406\u548c\u68c0\u7d22\u529f\u80fd\u3002\n\n\n## \u8fdb\u4e00\u6b65\u9605\u8bfb\n- `memory` - \u57fa\u7840\u8bb0\u5fc6\u7cfb\u7edf\n- `agent` - ReAct \u667a\u80fd\u4f53\n- `tool` - \u5de5\u5177\u7cfb\u7edf\n\n"
      ]
    }
  ],
  "metadata": {
    "kernelspec": {
      "display_name": "Python 3",
      "language": "python",
      "name": "python3"
    },
    "language_info": {
      "codemirror_mode": {
        "name": "ipython",
        "version": 3
      },
      "file_extension": ".py",
      "mimetype": "text/x-python",
      "name": "python",
      "nbconvert_exporter": "python",
      "pygments_lexer": "ipython3",
      "version": "3.10.19"
    }
  },
  "nbformat": 4,
  "nbformat_minor": 0
}